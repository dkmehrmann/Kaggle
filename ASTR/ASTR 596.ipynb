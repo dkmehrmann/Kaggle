{
 "cells": [
  {
   "cell_type": "markdown",
   "metadata": {},
   "source": [
    "#Hyperparameter Optimization\n",
    "###Author: Andrew Mehrmann\n",
    "###ASTR 596"
   ]
  },
  {
   "cell_type": "markdown",
   "metadata": {},
   "source": [
    "* Hyperparameter: A model parameter that must be set outside of the actual model training\n",
    "  * Traditional Parameters are learned from the data e.g. $\\beta$ in linear regression\n",
    "  * Hyperparameters are set manually, usually with the goal of controlling overfitting\n",
    " \n",
    "\n",
    "Hyperparameter optimization refers to selecting values of hyperparameters such that they produce models that perform well on validation (test) data. Performance is assessed by some choice of one or many performance metrics.\n",
    "\n",
    "* Performance Metric: A mathematical measure of how well a model performs, usually on validation (test) data. \n",
    "  * Examples: Accuracy, Precision, Recall, F1, ROC/AUC, MSE, Lift, etc.\n",
    "  * Accuracy is *sometimes* a good metric, but often not as it assumes equal cost to both types of errors (FP, FN)\n",
    " \n",
    "The choice of performance metric is extremely important to model assessment. Achieving 90% accuracy with a 90% target rate means you did about as good as the baseline assumption of positively classifying all observations.\n",
    "\n",
    "This notebook will focus on two brute-force methods of hyperparameter optimization: Grid Search and Randomized search. Other methods include Bayesian optimization and gradient-based methods."
   ]
  },
  {
   "cell_type": "code",
   "execution_count": 1,
   "metadata": {
    "collapsed": true
   },
   "outputs": [],
   "source": [
    "%matplotlib inline"
   ]
  },
  {
   "cell_type": "code",
   "execution_count": 2,
   "metadata": {
    "collapsed": false
   },
   "outputs": [],
   "source": [
    "import pandas as pd\n",
    "import matplotlib.pyplot as plt\n",
    "import numpy as np\n",
    "import datetime\n",
    "from collections import Counter\n",
    "from sklearn import datasets\n",
    "from sklearn.cross_validation import train_test_split\n",
    "from sklearn.grid_search import GridSearchCV\n",
    "from sklearn.grid_search import RandomizedSearchCV\n",
    "from scipy.stats import randint as sp_randint\n",
    "from sklearn.ensemble import RandomForestClassifier"
   ]
  },
  {
   "cell_type": "markdown",
   "metadata": {},
   "source": [
    "####Load in and Inspect the Data\n"
   ]
  },
  {
   "cell_type": "code",
   "execution_count": 3,
   "metadata": {
    "collapsed": false
   },
   "outputs": [
    {
     "name": "stdout",
     "output_type": "stream",
     "text": [
      " Optical Recognition of Handwritten Digits Data Set\n",
      "\n",
      "Notes\n",
      "-----\n",
      "Data Set Characteristics:\n",
      "    :Number of Instances: 5620\n",
      "    :Number of Attributes: 64\n",
      "    :Attribute Information: 8x8 image of integer pixels in the range 0..16.\n",
      "    :Missing Attribute Values: None\n",
      "    :Creator: E. Alpaydin (alpaydin '@' boun.edu.tr)\n",
      "    :Date: July; 1998\n",
      "\n",
      "This is a copy of the test set of the UCI ML hand-written digits datasets\n",
      "http://archive.ics.uci.edu/ml/datasets/Optical+Recognition+of+Handwritten+Digits\n",
      "\n",
      "The data set contains images of hand-written digits: 10 classes where\n",
      "each class refers to a digit.\n",
      "\n",
      "Preprocessing programs made available by NIST were used to extract\n",
      "normalized bitmaps of handwritten digits from a preprinted form. From a\n",
      "total of 43 people, 30 contributed to the training set and different 13\n",
      "to the test set. 32x32 bitmaps are divided into nonoverlapping blocks of\n",
      "4x4 and the number of on pixels are counted in each block. This generates\n",
      "an input matrix of 8x8 where each element is an integer in the range\n",
      "0..16. This reduces dimensionality and gives invariance to small\n",
      "distortions.\n",
      "\n",
      "For info on NIST preprocessing routines, see M. D. Garris, J. L. Blue, G.\n",
      "T. Candela, D. L. Dimmick, J. Geist, P. J. Grother, S. A. Janet, and C.\n",
      "L. Wilson, NIST Form-Based Handprint Recognition System, NISTIR 5469,\n",
      "1994.\n",
      "\n",
      "References\n",
      "----------\n",
      "  - C. Kaynak (1995) Methods of Combining Multiple Classifiers and Their\n",
      "    Applications to Handwritten Digit Recognition, MSc Thesis, Institute of\n",
      "    Graduate Studies in Science and Engineering, Bogazici University.\n",
      "  - E. Alpaydin, C. Kaynak (1998) Cascading Classifiers, Kybernetika.\n",
      "  - Ken Tang and Ponnuthurai N. Suganthan and Xi Yao and A. Kai Qin.\n",
      "    Linear dimensionalityreduction using relevance weighted LDA. School of\n",
      "    Electrical and Electronic Engineering Nanyang Technological University.\n",
      "    2005.\n",
      "  - Claudio Gentile. A New Approximate Maximal Margin Classification\n",
      "    Algorithm. NIPS. 2000.\n",
      "\n"
     ]
    }
   ],
   "source": [
    "dgts = datasets.load_digits()\n",
    "print(dgts.DESCR)"
   ]
  },
  {
   "cell_type": "code",
   "execution_count": 4,
   "metadata": {
    "collapsed": false
   },
   "outputs": [],
   "source": [
    "#split the data into x and y\n",
    "\n",
    "X = dgts.data\n",
    "y = dgts.target"
   ]
  },
  {
   "cell_type": "code",
   "execution_count": 5,
   "metadata": {
    "collapsed": false
   },
   "outputs": [
    {
     "data": {
      "text/plain": [
       "Counter({3: 183, 1: 182, 5: 182, 4: 181, 6: 181, 9: 180, 7: 179, 0: 178, 2: 177, 8: 174})"
      ]
     },
     "execution_count": 5,
     "metadata": {},
     "output_type": "execute_result"
    }
   ],
   "source": [
    "# examine the target\n",
    "Counter(y)"
   ]
  },
  {
   "cell_type": "code",
   "execution_count": 6,
   "metadata": {
    "collapsed": false
   },
   "outputs": [
    {
     "data": {
      "text/plain": [
       "(1797, 64)"
      ]
     },
     "execution_count": 6,
     "metadata": {},
     "output_type": "execute_result"
    }
   ],
   "source": [
    "#examine the predictors\n",
    "X.shape"
   ]
  },
  {
   "cell_type": "markdown",
   "metadata": {},
   "source": [
    "####Define the classifier"
   ]
  },
  {
   "cell_type": "code",
   "execution_count": 7,
   "metadata": {
    "collapsed": false
   },
   "outputs": [],
   "source": [
    "forest = RandomForestClassifier(n_estimators = 100, random_state=91)"
   ]
  },
  {
   "cell_type": "code",
   "execution_count": 8,
   "metadata": {
    "collapsed": true
   },
   "outputs": [],
   "source": [
    "#a function to turn grid search scores into a dataframe\n",
    "def get_data_frame(scores):\n",
    "    df = pd.DataFrame(scores)\n",
    "    df.columns = ['params','mean_score','scores']\n",
    "    df['sd'] = df.scores.apply(np.std)\n",
    "    df = df.drop('scores',axis=1)\n",
    "    df_sorted = df.sort('mean_score', ascending=False)\n",
    "    return df_sorted.head(10)"
   ]
  },
  {
   "cell_type": "markdown",
   "metadata": {},
   "source": [
    "##Grid (Exhaustive) Search\n",
    "\n",
    "* 'Exhaustive search over specified parameter values for an estimator.' - [sklearn](http://scikit-learn.org/stable/modules/generated/sklearn.grid_search.GridSearchCV.html#sklearn.grid_search.GridSearchCV)\n",
    "*  'grid search, or a parameter sweep...is simply an exhaustive searching through a manually specified subset of the hyperparameter space of a learning algorithm' - [Wikipedia](https://en.wikipedia.org/wiki/Hyperparameter_optimization) "
   ]
  },
  {
   "cell_type": "markdown",
   "metadata": {},
   "source": [
    "###### Define the parameter space to search"
   ]
  },
  {
   "cell_type": "code",
   "execution_count": 16,
   "metadata": {
    "collapsed": false
   },
   "outputs": [
    {
     "name": "stdout",
     "output_type": "stream",
     "text": [
      "the exhaustive search will examine 14 candidates\n"
     ]
    }
   ],
   "source": [
    "feat_range = np.arange(1,X.shape[1],10)\n",
    "depth_range = np.arange(1,51,10)\n",
    "boot_range = [True, False]\n",
    "\n",
    "params = {'max_features':feat_range,\n",
    "         'max_depth':depth_range,\n",
    "         'bootstrap':boot_range}\n",
    "\n",
    "n_combos = len(feat_range) + len(depth_range) + len(boot_range)\n",
    "\n",
    "print('the exhaustive search will examine {0} candidates'.format(n_combos))"
   ]
  },
  {
   "cell_type": "markdown",
   "metadata": {},
   "source": [
    "######Perform Grid Search and inspect the results"
   ]
  },
  {
   "cell_type": "code",
   "execution_count": 17,
   "metadata": {
    "collapsed": false
   },
   "outputs": [
    {
     "name": "stdout",
     "output_type": "stream",
     "text": [
      "120 seconds elapsed during exhaustive search\n"
     ]
    },
    {
     "data": {
      "text/html": [
       "<div style=\"max-height:1000px;max-width:1500px;overflow:auto;\">\n",
       "<table border=\"1\" class=\"dataframe\">\n",
       "  <thead>\n",
       "    <tr style=\"text-align: right;\">\n",
       "      <th></th>\n",
       "      <th>params</th>\n",
       "      <th>mean_score</th>\n",
       "      <th>sd</th>\n",
       "    </tr>\n",
       "  </thead>\n",
       "  <tbody>\n",
       "    <tr>\n",
       "      <th>63</th>\n",
       "      <td> {u'max_features': 1, u'bootstrap': False, u'ma...</td>\n",
       "      <td> 0.942682</td>\n",
       "      <td> 0.017934</td>\n",
       "    </tr>\n",
       "    <tr>\n",
       "      <th>56</th>\n",
       "      <td> {u'max_features': 1, u'bootstrap': False, u'ma...</td>\n",
       "      <td> 0.942126</td>\n",
       "      <td> 0.017389</td>\n",
       "    </tr>\n",
       "    <tr>\n",
       "      <th>64</th>\n",
       "      <td> {u'max_features': 11, u'bootstrap': False, u'm...</td>\n",
       "      <td> 0.941569</td>\n",
       "      <td> 0.023188</td>\n",
       "    </tr>\n",
       "    <tr>\n",
       "      <th>57</th>\n",
       "      <td> {u'max_features': 11, u'bootstrap': False, u'm...</td>\n",
       "      <td> 0.941013</td>\n",
       "      <td> 0.021541</td>\n",
       "    </tr>\n",
       "    <tr>\n",
       "      <th>43</th>\n",
       "      <td> {u'max_features': 11, u'bootstrap': False, u'm...</td>\n",
       "      <td> 0.941013</td>\n",
       "      <td> 0.019317</td>\n",
       "    </tr>\n",
       "    <tr>\n",
       "      <th>50</th>\n",
       "      <td> {u'max_features': 11, u'bootstrap': False, u'm...</td>\n",
       "      <td> 0.939343</td>\n",
       "      <td> 0.020284</td>\n",
       "    </tr>\n",
       "    <tr>\n",
       "      <th>44</th>\n",
       "      <td> {u'max_features': 21, u'bootstrap': False, u'm...</td>\n",
       "      <td> 0.938787</td>\n",
       "      <td> 0.024075</td>\n",
       "    </tr>\n",
       "    <tr>\n",
       "      <th>29</th>\n",
       "      <td> {u'max_features': 11, u'bootstrap': True, u'ma...</td>\n",
       "      <td> 0.938230</td>\n",
       "      <td> 0.019928</td>\n",
       "    </tr>\n",
       "    <tr>\n",
       "      <th>28</th>\n",
       "      <td> {u'max_features': 1, u'bootstrap': True, u'max...</td>\n",
       "      <td> 0.937674</td>\n",
       "      <td> 0.025697</td>\n",
       "    </tr>\n",
       "    <tr>\n",
       "      <th>14</th>\n",
       "      <td> {u'max_features': 1, u'bootstrap': True, u'max...</td>\n",
       "      <td> 0.937674</td>\n",
       "      <td> 0.024745</td>\n",
       "    </tr>\n",
       "  </tbody>\n",
       "</table>\n",
       "</div>"
      ],
      "text/plain": [
       "                                               params  mean_score        sd\n",
       "63  {u'max_features': 1, u'bootstrap': False, u'ma...    0.942682  0.017934\n",
       "56  {u'max_features': 1, u'bootstrap': False, u'ma...    0.942126  0.017389\n",
       "64  {u'max_features': 11, u'bootstrap': False, u'm...    0.941569  0.023188\n",
       "57  {u'max_features': 11, u'bootstrap': False, u'm...    0.941013  0.021541\n",
       "43  {u'max_features': 11, u'bootstrap': False, u'm...    0.941013  0.019317\n",
       "50  {u'max_features': 11, u'bootstrap': False, u'm...    0.939343  0.020284\n",
       "44  {u'max_features': 21, u'bootstrap': False, u'm...    0.938787  0.024075\n",
       "29  {u'max_features': 11, u'bootstrap': True, u'ma...    0.938230  0.019928\n",
       "28  {u'max_features': 1, u'bootstrap': True, u'max...    0.937674  0.025697\n",
       "14  {u'max_features': 1, u'bootstrap': True, u'max...    0.937674  0.024745"
      ]
     },
     "execution_count": 17,
     "metadata": {},
     "output_type": "execute_result"
    }
   ],
   "source": [
    "grid = GridSearchCV(forest, params, cv = 5, n_jobs=-1, scoring='accuracy',random_state=91)\n",
    "\n",
    "start = datetime.datetime.now()\n",
    "\n",
    "grid_search = grid.fit(X,y)\n",
    "\n",
    "elapsed = datetime.datetime.now() - start\n",
    "print('{0} seconds elapsed during exhaustive search'.format(elapsed.seconds))\n",
    "\n",
    "df_grid = get_data_frame(grid.grid_scores_)\n",
    "df_grid"
   ]
  },
  {
   "cell_type": "markdown",
   "metadata": {},
   "source": [
    "##Randomized Search"
   ]
  },
  {
   "cell_type": "markdown",
   "metadata": {},
   "source": [
    "######Define the parameter space to search\n",
    "* There is a new parameter *n_iter*\n",
    "* The feature ranges are now defined as discrete distributions (this doesn't really matter here, but if the parameter space we were searching was continuous, sklearn advises that it's best to use continuous distributions).<sup>*</sup>\n",
    "\n",
    "<sup>*</sup>\" It is highly recommended to use continuous distributions for continuous parameters.\" - [sklearn docs](http://scikit-learn.org/stable/modules/generated/sklearn.grid_search.RandomizedSearchCV.html)"
   ]
  },
  {
   "cell_type": "code",
   "execution_count": 61,
   "metadata": {
    "collapsed": false
   },
   "outputs": [
    {
     "name": "stdout",
     "output_type": "stream",
     "text": [
      "the randomized search will examine 5 candidates\n"
     ]
    }
   ],
   "source": [
    "n_iter = 5\n",
    "\n",
    "feat_range = sp_randint(1,X.shape[1])\n",
    "depth_range = sp_randint(1,51)\n",
    "boot_range = [True, False]\n",
    "\n",
    "\n",
    "params = {'max_features':feat_range,\n",
    "         'max_depth':depth_range,\n",
    "         'bootstrap':boot_range}\n",
    "\n",
    "print('the randomized search will examine {0} candidates'.format(n_iter))"
   ]
  },
  {
   "cell_type": "markdown",
   "metadata": {},
   "source": [
    "######Perform Randomized Search and inspect the results"
   ]
  },
  {
   "cell_type": "code",
   "execution_count": 19,
   "metadata": {
    "collapsed": false
   },
   "outputs": [
    {
     "name": "stdout",
     "output_type": "stream",
     "text": [
      "14 seconds elapsed during randomized search\n"
     ]
    },
    {
     "data": {
      "text/html": [
       "<div style=\"max-height:1000px;max-width:1500px;overflow:auto;\">\n",
       "<table border=\"1\" class=\"dataframe\">\n",
       "  <thead>\n",
       "    <tr style=\"text-align: right;\">\n",
       "      <th></th>\n",
       "      <th>params</th>\n",
       "      <th>mean_score</th>\n",
       "      <th>sd</th>\n",
       "    </tr>\n",
       "  </thead>\n",
       "  <tbody>\n",
       "    <tr>\n",
       "      <th>2</th>\n",
       "      <td> {u'max_features': 22, u'bootstrap': False, u'm...</td>\n",
       "      <td> 0.934335</td>\n",
       "      <td> 0.022956</td>\n",
       "    </tr>\n",
       "    <tr>\n",
       "      <th>0</th>\n",
       "      <td> {u'max_features': 34, u'bootstrap': False, u'm...</td>\n",
       "      <td> 0.927101</td>\n",
       "      <td> 0.022500</td>\n",
       "    </tr>\n",
       "    <tr>\n",
       "      <th>3</th>\n",
       "      <td> {u'max_features': 55, u'bootstrap': True, u'ma...</td>\n",
       "      <td> 0.914858</td>\n",
       "      <td> 0.027399</td>\n",
       "    </tr>\n",
       "    <tr>\n",
       "      <th>1</th>\n",
       "      <td> {u'max_features': 42, u'bootstrap': False, u'm...</td>\n",
       "      <td> 0.911519</td>\n",
       "      <td> 0.029785</td>\n",
       "    </tr>\n",
       "    <tr>\n",
       "      <th>4</th>\n",
       "      <td> {u'max_features': 62, u'bootstrap': True, u'ma...</td>\n",
       "      <td> 0.905398</td>\n",
       "      <td> 0.020044</td>\n",
       "    </tr>\n",
       "  </tbody>\n",
       "</table>\n",
       "</div>"
      ],
      "text/plain": [
       "                                              params  mean_score        sd\n",
       "2  {u'max_features': 22, u'bootstrap': False, u'm...    0.934335  0.022956\n",
       "0  {u'max_features': 34, u'bootstrap': False, u'm...    0.927101  0.022500\n",
       "3  {u'max_features': 55, u'bootstrap': True, u'ma...    0.914858  0.027399\n",
       "1  {u'max_features': 42, u'bootstrap': False, u'm...    0.911519  0.029785\n",
       "4  {u'max_features': 62, u'bootstrap': True, u'ma...    0.905398  0.020044"
      ]
     },
     "execution_count": 19,
     "metadata": {},
     "output_type": "execute_result"
    }
   ],
   "source": [
    "rand = RandomizedSearchCV(forest, params, cv=5, n_jobs=-1, n_iter=n_iter, scoring='accuracy', random_state=91)\n",
    "\n",
    "start = datetime.datetime.now()\n",
    "\n",
    "random_search = rand.fit(X,y)\n",
    "\n",
    "elapsed = datetime.datetime.now() - start\n",
    "print('{0} seconds elapsed during randomized search'.format(elapsed.seconds))\n",
    "\n",
    "df_rand = get_data_frame(rand.grid_scores_)\n",
    "df_rand"
   ]
  },
  {
   "cell_type": "markdown",
   "metadata": {},
   "source": [
    "This comparison shows that the best result from the randomized search is not statistically different than the best result from the grid search. This has two important implications:\n",
    "1. The randomized search is more adaptable to huge data sets where computation time becomes unfeasable\n",
    "2. Holding all else constant (including computation time), a randomized search allows us to search a larger parameter space."
   ]
  },
  {
   "cell_type": "markdown",
   "metadata": {},
   "source": [
    "######Perform repeated sampling to demonstrate"
   ]
  },
  {
   "cell_type": "code",
   "execution_count": 63,
   "metadata": {
    "collapsed": false
   },
   "outputs": [
    {
     "data": {
      "text/plain": [
       "<matplotlib.axes._subplots.AxesSubplot at 0x7fb6800b2dd0>"
      ]
     },
     "execution_count": 63,
     "metadata": {},
     "output_type": "execute_result"
    },
    {
     "data": {
      "image/png": "[encoded data removed]",
      "text/plain": [
       "<matplotlib.figure.Figure at 0x7fb671ebc190>"
      ]
     },
     "metadata": {},
     "output_type": "display_data"
    }
   ],
   "source": [
    "nrange = range(0,10)\n",
    "iterange = range(1,30)\n",
    "df_log = pd.DataFrame(index=iterange, columns=nrange)\n",
    "\n",
    "for n in nrange:\n",
    "    for n_iter in iterange:\n",
    "        rand = RandomizedSearchCV(forest, params, cv=5, n_jobs=-1, n_iter=n_iter, \n",
    "                                  scoring='accuracy', random_state=91)\n",
    "        random_search = rand.fit(X,y)\n",
    "        df_rand = get_data_frame(rand.grid_scores_)\n",
    "        df_log.loc[n_iter][n] = df_rand.iloc[0].mean_score\n",
    "\n",
    "plt.xlabel('number of iterations',size=24)\n",
    "plt.ylabel('accuracy',size=24)\n",
    "df_log.mean(axis=1).plot() # plotting right from pandas series"
   ]
  },
  {
   "cell_type": "markdown",
   "metadata": {},
   "source": [
    "##Pipelines"
   ]
  },
  {
   "cell_type": "markdown",
   "metadata": {},
   "source": [
    "Pipelines allow you to chain functions together. This is useful when we want to optimize parameters on two or more functions. In this example, we first perfrom PCA on the data, then we perform our classification.  \n",
    "\n",
    "*Note that this is a bad example statistically because PCA should not change our predictions much (it is simply a linear combination of the original variables). A real-world example would be text classification in which you would have to tune a text vectorizer and a classifier."
   ]
  },
  {
   "cell_type": "code",
   "execution_count": 42,
   "metadata": {
    "collapsed": true
   },
   "outputs": [],
   "source": [
    "from sklearn.pipeline import Pipeline\n",
    "from sklearn.decomposition import PCA\n",
    "from scipy.stats import uniform"
   ]
  },
  {
   "cell_type": "markdown",
   "metadata": {},
   "source": [
    "######Define pipeline and parameter space\n",
    "* Note the new parameter **pc_range**\n",
    "* Now that we have two function in a pipeline, we must specify which parameter belongs to which function"
   ]
  },
  {
   "cell_type": "code",
   "execution_count": 43,
   "metadata": {
    "collapsed": true
   },
   "outputs": [],
   "source": [
    "pca = PCA()\n",
    "\n",
    "# we have to specify names for the elements of the pipeline\n",
    "# I've called pca 'components' and the random forest 'rfc'\n",
    "pipeline = Pipeline([(\"components\", pca), (\"rfc\", forest)])\n",
    "\n",
    "feat_range = uniform(0,1)\n",
    "depth_range = sp_randint(1,51)\n",
    "boot_range = [True, False]\n",
    "pc_range = sp_randint(1,X.shape[1])\n",
    "\n",
    "params = {'rfc__max_features':feat_range,\n",
    "         'rfc__max_depth':depth_range,\n",
    "         'rfc__bootstrap':boot_range,\n",
    "         'components__n_components':pc_range}\n"
   ]
  },
  {
   "cell_type": "markdown",
   "metadata": {},
   "source": [
    "######Perform Randomized Search and inspect the results\n",
    "\n",
    "Notice that we simply pass the pipeline to the Randomized Search. "
   ]
  },
  {
   "cell_type": "code",
   "execution_count": 44,
   "metadata": {
    "collapsed": false
   },
   "outputs": [
    {
     "name": "stdout",
     "output_type": "stream",
     "text": [
      "96 seconds elapsed during randomized search\n"
     ]
    },
    {
     "data": {
      "text/html": [
       "<div style=\"max-height:1000px;max-width:1500px;overflow:auto;\">\n",
       "<table border=\"1\" class=\"dataframe\">\n",
       "  <thead>\n",
       "    <tr style=\"text-align: right;\">\n",
       "      <th></th>\n",
       "      <th>params</th>\n",
       "      <th>mean_score</th>\n",
       "      <th>sd</th>\n",
       "    </tr>\n",
       "  </thead>\n",
       "  <tbody>\n",
       "    <tr>\n",
       "      <th>6 </th>\n",
       "      <td> {u'rfc__max_depth': 34, u'rfc__bootstrap': Fal...</td>\n",
       "      <td> 0.929327</td>\n",
       "      <td> 0.020363</td>\n",
       "    </tr>\n",
       "    <tr>\n",
       "      <th>16</th>\n",
       "      <td> {u'rfc__max_depth': 44, u'rfc__bootstrap': Fal...</td>\n",
       "      <td> 0.927657</td>\n",
       "      <td> 0.025274</td>\n",
       "    </tr>\n",
       "    <tr>\n",
       "      <th>19</th>\n",
       "      <td> {u'rfc__max_depth': 29, u'rfc__bootstrap': Tru...</td>\n",
       "      <td> 0.922092</td>\n",
       "      <td> 0.022473</td>\n",
       "    </tr>\n",
       "    <tr>\n",
       "      <th>14</th>\n",
       "      <td> {u'rfc__max_depth': 25, u'rfc__bootstrap': Tru...</td>\n",
       "      <td> 0.918197</td>\n",
       "      <td> 0.017639</td>\n",
       "    </tr>\n",
       "    <tr>\n",
       "      <th>10</th>\n",
       "      <td> {u'rfc__max_depth': 26, u'rfc__bootstrap': Tru...</td>\n",
       "      <td> 0.914302</td>\n",
       "      <td> 0.021233</td>\n",
       "    </tr>\n",
       "    <tr>\n",
       "      <th>8 </th>\n",
       "      <td> {u'rfc__max_depth': 14, u'rfc__bootstrap': Tru...</td>\n",
       "      <td> 0.910406</td>\n",
       "      <td> 0.018578</td>\n",
       "    </tr>\n",
       "    <tr>\n",
       "      <th>9 </th>\n",
       "      <td> {u'rfc__max_depth': 28, u'rfc__bootstrap': Fal...</td>\n",
       "      <td> 0.909293</td>\n",
       "      <td> 0.024291</td>\n",
       "    </tr>\n",
       "    <tr>\n",
       "      <th>15</th>\n",
       "      <td> {u'rfc__max_depth': 39, u'rfc__bootstrap': Tru...</td>\n",
       "      <td> 0.909293</td>\n",
       "      <td> 0.025663</td>\n",
       "    </tr>\n",
       "    <tr>\n",
       "      <th>0 </th>\n",
       "      <td> {u'rfc__max_depth': 9, u'rfc__bootstrap': True...</td>\n",
       "      <td> 0.903172</td>\n",
       "      <td> 0.015028</td>\n",
       "    </tr>\n",
       "    <tr>\n",
       "      <th>3 </th>\n",
       "      <td> {u'rfc__max_depth': 17, u'rfc__bootstrap': Tru...</td>\n",
       "      <td> 0.902615</td>\n",
       "      <td> 0.016892</td>\n",
       "    </tr>\n",
       "  </tbody>\n",
       "</table>\n",
       "</div>"
      ],
      "text/plain": [
       "                                               params  mean_score        sd\n",
       "6   {u'rfc__max_depth': 34, u'rfc__bootstrap': Fal...    0.929327  0.020363\n",
       "16  {u'rfc__max_depth': 44, u'rfc__bootstrap': Fal...    0.927657  0.025274\n",
       "19  {u'rfc__max_depth': 29, u'rfc__bootstrap': Tru...    0.922092  0.022473\n",
       "14  {u'rfc__max_depth': 25, u'rfc__bootstrap': Tru...    0.918197  0.017639\n",
       "10  {u'rfc__max_depth': 26, u'rfc__bootstrap': Tru...    0.914302  0.021233\n",
       "8   {u'rfc__max_depth': 14, u'rfc__bootstrap': Tru...    0.910406  0.018578\n",
       "9   {u'rfc__max_depth': 28, u'rfc__bootstrap': Fal...    0.909293  0.024291\n",
       "15  {u'rfc__max_depth': 39, u'rfc__bootstrap': Tru...    0.909293  0.025663\n",
       "0   {u'rfc__max_depth': 9, u'rfc__bootstrap': True...    0.903172  0.015028\n",
       "3   {u'rfc__max_depth': 17, u'rfc__bootstrap': Tru...    0.902615  0.016892"
      ]
     },
     "execution_count": 44,
     "metadata": {},
     "output_type": "execute_result"
    }
   ],
   "source": [
    "search = RandomizedSearchCV(pipeline, params, cv=5, n_jobs=-1, n_iter=20, scoring='accuracy', random_state=91)\n",
    "\n",
    "start = datetime.datetime.now()\n",
    "\n",
    "pipe_search = search.fit(X,y)\n",
    "\n",
    "elapsed = datetime.datetime.now() - start\n",
    "print('{0} seconds elapsed during randomized search'.format(elapsed.seconds))\n",
    "\n",
    "df_pipe = get_data_frame(search.grid_scores_)\n",
    "df_pipe"
   ]
  },
  {
   "cell_type": "markdown",
   "metadata": {},
   "source": [
    "##Model Assessment\n",
    "\n",
    "In practice, it is (sorta) acceptable to perform hyperparameter optimization on the entire dataset because the cross-validation scores are computed by fitting the model on a subset of the data and testing it on different data. After we have found the optimal values of hyperparameters, we can use them to train a model on training data to assess performance.\n",
    "\n",
    "This step isn't totally necessary as we already have an estimate of our validation error, however we can access some extra functionality in scikit learn by doing it this way."
   ]
  },
  {
   "cell_type": "markdown",
   "metadata": {},
   "source": [
    "####Select and fit a model on training data"
   ]
  },
  {
   "cell_type": "code",
   "execution_count": 45,
   "metadata": {
    "collapsed": true
   },
   "outputs": [],
   "source": [
    "X_train, X_test, y_train, y_test = train_test_split(X, y, test_size=0.2, random_state=91)"
   ]
  },
  {
   "cell_type": "code",
   "execution_count": 46,
   "metadata": {
    "collapsed": false
   },
   "outputs": [],
   "source": [
    "forest = random_search.best_estimator_ # just grab the best estimator from before (the random search)\n",
    "y_pred = forest.fit(X_train, y_train).predict(X_test)"
   ]
  },
  {
   "cell_type": "markdown",
   "metadata": {},
   "source": [
    "####Confusion Matrices and Classification Reports"
   ]
  },
  {
   "cell_type": "code",
   "execution_count": 47,
   "metadata": {
    "collapsed": true
   },
   "outputs": [],
   "source": [
    "from sklearn.metrics import confusion_matrix\n",
    "from sklearn.metrics import classification_report"
   ]
  },
  {
   "cell_type": "code",
   "execution_count": 48,
   "metadata": {
    "collapsed": true
   },
   "outputs": [],
   "source": [
    "df_confusion = pd.crosstab(y_test, y_pred, rownames=['Actual'], colnames=['Predicted'])"
   ]
  },
  {
   "cell_type": "code",
   "execution_count": 55,
   "metadata": {
    "collapsed": false,
    "scrolled": true
   },
   "outputs": [
    {
     "data": {
      "text/plain": [
       "<matplotlib.text.Text at 0x7fb67206bf10>"
      ]
     },
     "execution_count": 55,
     "metadata": {},
     "output_type": "execute_result"
    },
    {
     "data": {
      "image/png": "[encoded data removed]",
      "text/plain": [
       "<matplotlib.figure.Figure at 0x7fb672375c50>"
      ]
     },
     "metadata": {},
     "output_type": "display_data"
    }
   ],
   "source": [
    "plt.imshow(df_confusion,interpolation='nearest')\n",
    "plt.colorbar()\n",
    "tick_marks = np.arange(len(df_confusion.columns))\n",
    "plt.xticks(tick_marks, df_confusion.columns)\n",
    "plt.yticks(tick_marks, df_confusion.index)\n",
    "plt.ylabel(df_confusion.index.name)\n",
    "plt.xlabel(df_confusion.columns.name)"
   ]
  },
  {
   "cell_type": "code",
   "execution_count": 56,
   "metadata": {
    "collapsed": false
   },
   "outputs": [
    {
     "name": "stdout",
     "output_type": "stream",
     "text": [
      "             precision    recall  f1-score   support\n",
      "\n",
      "          0       0.97      0.97      0.97        32\n",
      "          1       0.89      0.92      0.91        37\n",
      "          2       1.00      1.00      1.00        38\n",
      "          3       0.95      1.00      0.98        42\n",
      "          4       1.00      0.97      0.99        34\n",
      "          5       1.00      1.00      1.00        31\n",
      "          6       1.00      0.97      0.99        35\n",
      "          7       0.95      1.00      0.97        36\n",
      "          8       0.97      0.89      0.93        36\n",
      "          9       0.97      0.97      0.97        39\n",
      "\n",
      "avg / total       0.97      0.97      0.97       360\n",
      "\n"
     ]
    }
   ],
   "source": [
    "print(classification_report(y_test,y_pred))"
   ]
  },
  {
   "cell_type": "markdown",
   "metadata": {},
   "source": [
    "###References\n",
    "\n",
    "* http://www.jmlr.org/papers/volume13/bergstra12a/bergstra12a.pdf\n",
    "* http://scikit-learn.org/stable/auto_examples/model_selection/randomized_search.html"
   ]
  }
 ],
 "metadata": {
  "kernelspec": {
   "display_name": "Python 2",
   "language": "python",
   "name": "python2"
  },
  "language_info": {
   "codemirror_mode": {
    "name": "ipython",
    "version": 2
   },
   "file_extension": ".py",
   "mimetype": "text/x-python",
   "name": "python",
   "nbconvert_exporter": "python",
   "pygments_lexer": "ipython2",
   "version": "2.7.9"
  }
 },
 "nbformat": 4,
 "nbformat_minor": 0
}
