{
 "cells": [
  {
   "cell_type": "markdown",
   "metadata": {},
   "source": [
    "# Common Distributions and Their Properties"
   ]
  },
  {
   "cell_type": "markdown",
   "metadata": {},
   "source": [
    "## Distributions\n",
    "\n",
    "* Discrete Distributions\n",
    "\n",
    "||Description|Example|\n",
    "|-----|------|------|\n",
    "|[Uniform](#Uniform-{Discrete})| Integer outcomes, all equally likely| Dice throw|\n",
    "|Bernoulli| Yes/No outcomes| Coin flip, probability of heads/tails|\n",
    "|Poisson| Counts of events in a time frame | Phone calls to a call center in a day|\n",
    "    \n",
    "* Continuous Distributions\n",
    "\n",
    "||Description|Example|\n",
    "|-----|------|------|\n",
    "|[Uniform](#Uniform-{Continuous})| | |\n",
    "|Binomial| | |\n",
    "|Normal| | |\n",
    "|Beta| | |\n",
    "|Gamma| | |\n",
    "|Exponential| | |\n"
   ]
  },
  {
   "cell_type": "markdown",
   "metadata": {},
   "source": [
    "## Discrete Distributions\n",
    "\n",
    "### Uniform {Discrete}\n",
    "\n",
    "\n",
    "||$\\ \\ \\ \\ \\ \\ \\ \\ \\ \\ \\ \\ \\ \\ $ Uniform(a,b) $\\ \\ \\ \\ \\ \\ \\ \\ \\ \\ \\ \\ \\ \\ $|\n",
    "|--|:---------------------------------------:|\n",
    "|Parameters|$a, b$|\n",
    "|PMF| $f(x) = \\frac{1}{n}$ where $n = a-b+1$ |\n",
    "|CDF| $F(x) = \\frac{x-a +1}{n}$|\n",
    "|Space| $a,a+1,...,b$ |\n",
    "|Mean |$\\frac{a+b}{2}$|\n",
    "|Variance|$\\frac{1}{12}(b-a)^2$|\n",
    "|MGF|$\\frac{e^{tb}-e^{ta}}{t(b-a)}$ for $t \\ne 0$ |\n"
   ]
  },
  {
   "cell_type": "markdown",
   "metadata": {
    "collapsed": true
   },
   "source": [
    "## Continuous Distributions\n",
    "\n",
    "### Uniform {Continuous}\n",
    "\n",
    "||$\\ \\ \\ \\ \\ \\ \\ \\ \\ \\ \\ \\ \\ \\ $ Uniform(a,b) $\\ \\ \\ \\ \\ \\ \\ \\ \\ \\ \\ \\ \\ \\ $|\n",
    "|--|:---------------------------------------:|\n",
    "|Parameters| $-\\infty<a<b<\\infty$   |\n",
    "|PDF| $f(x) = \\frac{1}{b-a}$|\n",
    "|CDF| $F(x) = \\frac{x-a}{b-a}$ where $a \\le x \\le b$|\n",
    "|Space| $x \\in [a,b]$ |\n",
    "|Mean |$\\frac{a+b}{2}$|\n",
    "|Variance|$\\frac{1}{12}(b-a)^2$|\n",
    "|MGF|$\\frac{e^{tb}-e^{ta}}{t(b-a)}$ for $t \\ne 0$ |\n",
    "\n",
    "#### Special Properties\n",
    "\n",
    "* Raw Moments: $m_k = \\frac{1}{k+1} \\sum_{i=0}^{k}a^ib^{k-i}$\n",
    "* If $X \\sim Unif(0,1)$, then $X^n \\sim Beta(\\frac{1}{n},1)$\n",
    "* Similarly, $Unif(0,1) == Beta(1,1)$\n",
    "* The sum of two i.i.d. Uniforms is a symmetric triangular distribution"
   ]
  },
  {
   "cell_type": "markdown",
   "metadata": {},
   "source": [
    "### Beta\n",
    "\n",
    "||$\\ \\ \\ \\ \\ \\ \\ \\ \\ \\ \\ \\ \\ \\ \\ \\ \\ \\ \\ \\ \\ \\ \\ \\ \\ \\ $ Beta(a,b) $\\ \\ \\ \\ \\ \\ \\ \\ \\ \\ \\ \\ \\ \\ \\ \\ \\ \\ \\ \\ \\ \\ \\ \\ \\ \\ $|\n",
    "|--|:---------------------------------------:|\n",
    "|Parameters| $a>0, b>0$   |\n",
    "|PDF| |\n",
    "|CDF| |\n",
    "|Space| $x \\in (0,1)$ |\n",
    "|Mean |$\\frac{a}{a+b}$|\n",
    "|Variance|$\\frac{ab}{(a+b)^2(a+b+1)}$|\n",
    "|MGF| |\n",
    "\n",
    "#### Special Properties"
   ]
  },
  {
   "cell_type": "markdown",
   "metadata": {},
   "source": [
    "PDF Gamma: $f(x) = \\frac{\\Gamma(a,b)}{\\Gamma(a)\\Gamma(b)}e^{-\\lambda x}x^{a-1}$"
   ]
  },
  {
   "cell_type": "markdown",
   "metadata": {},
   "source": [
    "## MGFs, CGFs, and Moments\n",
    "\n",
    "* Raw Moments $m_k = E[x^k]$\n",
    "* Mean = $m_1$ and Variance = $m_2 - m_1^2$"
   ]
  },
  {
   "cell_type": "code",
   "execution_count": null,
   "metadata": {
    "collapsed": true
   },
   "outputs": [],
   "source": []
  },
  {
   "cell_type": "code",
   "execution_count": null,
   "metadata": {
    "collapsed": true
   },
   "outputs": [],
   "source": []
  }
 ],
 "metadata": {
  "kernelspec": {
   "display_name": "Python 3",
   "language": "python",
   "name": "python3"
  },
  "language_info": {
   "codemirror_mode": {
    "name": "ipython",
    "version": 3
   },
   "file_extension": ".py",
   "mimetype": "text/x-python",
   "name": "python",
   "nbconvert_exporter": "python",
   "pygments_lexer": "ipython3",
   "version": "3.4.3"
  }
 },
 "nbformat": 4,
 "nbformat_minor": 0
}
