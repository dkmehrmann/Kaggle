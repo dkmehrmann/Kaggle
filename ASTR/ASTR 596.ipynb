{
 "cells": [
  {
   "cell_type": "markdown",
   "metadata": {},
   "source": [
    "#Grid vs. Randomized Searches for Hyperparameter Optimization\n",
    "###Author: Andrew Mehrmann\n",
    "###ASTR 596"
   ]
  },
  {
   "cell_type": "code",
   "execution_count": 229,
   "metadata": {
    "collapsed": true
   },
   "outputs": [],
   "source": [
    "%matplotlib inline"
   ]
  },
  {
   "cell_type": "code",
   "execution_count": 230,
   "metadata": {
    "collapsed": false
   },
   "outputs": [],
   "source": [
    "import pandas as pd\n",
    "import matplotlib.pyplot as plt\n",
    "import numpy as np\n",
    "import datetime\n",
    "from collections import Counter\n",
    "from sklearn import datasets\n",
    "from sklearn.cross_validation import train_test_split\n",
    "from sklearn.grid_search import GridSearchCV\n",
    "from sklearn.grid_search import RandomizedSearchCV\n",
    "from scipy.stats import randint as sp_randint\n",
    "from sklearn.ensemble import RandomForestClassifier"
   ]
  },
  {
   "cell_type": "markdown",
   "metadata": {},
   "source": [
    "####Load in and Inspect the Data\n"
   ]
  },
  {
   "cell_type": "code",
   "execution_count": 237,
   "metadata": {
    "collapsed": false
   },
   "outputs": [
    {
     "name": "stdout",
     "output_type": "stream",
     "text": [
      " Optical Recognition of Handwritten Digits Data Set\n",
      "\n",
      "Notes\n",
      "-----\n",
      "Data Set Characteristics:\n",
      "    :Number of Instances: 5620\n",
      "    :Number of Attributes: 64\n",
      "    :Attribute Information: 8x8 image of integer pixels in the range 0..16.\n",
      "    :Missing Attribute Values: None\n",
      "    :Creator: E. Alpaydin (alpaydin '@' boun.edu.tr)\n",
      "    :Date: July; 1998\n",
      "\n",
      "This is a copy of the test set of the UCI ML hand-written digits datasets\n",
      "http://archive.ics.uci.edu/ml/datasets/Optical+Recognition+of+Handwritten+Digits\n",
      "\n",
      "The data set contains images of hand-written digits: 10 classes where\n",
      "each class refers to a digit.\n",
      "\n",
      "Preprocessing programs made available by NIST were used to extract\n",
      "normalized bitmaps of handwritten digits from a preprinted form. From a\n",
      "total of 43 people, 30 contributed to the training set and different 13\n",
      "to the test set. 32x32 bitmaps are divided into nonoverlapping blocks of\n",
      "4x4 and the number of on pixels are counted in each block. This generates\n",
      "an input matrix of 8x8 where each element is an integer in the range\n",
      "0..16. This reduces dimensionality and gives invariance to small\n",
      "distortions.\n",
      "\n",
      "For info on NIST preprocessing routines, see M. D. Garris, J. L. Blue, G.\n",
      "T. Candela, D. L. Dimmick, J. Geist, P. J. Grother, S. A. Janet, and C.\n",
      "L. Wilson, NIST Form-Based Handprint Recognition System, NISTIR 5469,\n",
      "1994.\n",
      "\n",
      "References\n",
      "----------\n",
      "  - C. Kaynak (1995) Methods of Combining Multiple Classifiers and Their\n",
      "    Applications to Handwritten Digit Recognition, MSc Thesis, Institute of\n",
      "    Graduate Studies in Science and Engineering, Bogazici University.\n",
      "  - E. Alpaydin, C. Kaynak (1998) Cascading Classifiers, Kybernetika.\n",
      "  - Ken Tang and Ponnuthurai N. Suganthan and Xi Yao and A. Kai Qin.\n",
      "    Linear dimensionalityreduction using relevance weighted LDA. School of\n",
      "    Electrical and Electronic Engineering Nanyang Technological University.\n",
      "    2005.\n",
      "  - Claudio Gentile. A New Approximate Maximal Margin Classification\n",
      "    Algorithm. NIPS. 2000.\n",
      "\n"
     ]
    }
   ],
   "source": [
    "print(dgts.DESCR)"
   ]
  },
  {
   "cell_type": "code",
   "execution_count": 231,
   "metadata": {
    "collapsed": false
   },
   "outputs": [],
   "source": [
    "dgts = datasets.load_digits()\n",
    "X = dgts.data\n",
    "y = dgts.target"
   ]
  },
  {
   "cell_type": "code",
   "execution_count": 232,
   "metadata": {
    "collapsed": false
   },
   "outputs": [
    {
     "data": {
      "text/plain": [
       "Counter({3: 183, 1: 182, 5: 182, 4: 181, 6: 181, 9: 180, 7: 179, 0: 178, 2: 177, 8: 174})"
      ]
     },
     "execution_count": 232,
     "metadata": {},
     "output_type": "execute_result"
    }
   ],
   "source": [
    "Counter(y)"
   ]
  },
  {
   "cell_type": "code",
   "execution_count": 238,
   "metadata": {
    "collapsed": false
   },
   "outputs": [
    {
     "data": {
      "text/plain": [
       "(1797, 64)"
      ]
     },
     "execution_count": 238,
     "metadata": {},
     "output_type": "execute_result"
    }
   ],
   "source": [
    "X.shape"
   ]
  },
  {
   "cell_type": "markdown",
   "metadata": {},
   "source": [
    "####Define the classifier"
   ]
  },
  {
   "cell_type": "code",
   "execution_count": 239,
   "metadata": {
    "collapsed": false
   },
   "outputs": [],
   "source": [
    "forest = RandomForestClassifier(n_estimators = 100)"
   ]
  },
  {
   "cell_type": "markdown",
   "metadata": {},
   "source": [
    "##Grid (Exhaustive) Search"
   ]
  },
  {
   "cell_type": "code",
   "execution_count": 240,
   "metadata": {
    "collapsed": false
   },
   "outputs": [
    {
     "name": "stdout",
     "output_type": "stream",
     "text": [
      "the exhaustive search will examine 14 candidates\n"
     ]
    }
   ],
   "source": [
    "feat_range = np.arange(1,X.shape[1],10)\n",
    "depth_range = np.arange(1,51,10)\n",
    "boot_range = [True, False]\n",
    "\n",
    "params = {'max_features':feat_range,\n",
    "         'max_depth':depth_range,\n",
    "         'bootstrap':boot_range}\n",
    "\n",
    "n_combos = len(feat_range) + len(depth_range) + len(boot_range)\n",
    "\n",
    "print('the exhaustive search will examine {0} candidates'.format(n_combos))"
   ]
  },
  {
   "cell_type": "code",
   "execution_count": 241,
   "metadata": {
    "collapsed": false
   },
   "outputs": [
    {
     "name": "stdout",
     "output_type": "stream",
     "text": [
      "115 seconds elapsed during exhaustive search\n"
     ]
    },
    {
     "data": {
      "text/html": [
       "<div style=\"max-height:1000px;max-width:1500px;overflow:auto;\">\n",
       "<table border=\"1\" class=\"dataframe\">\n",
       "  <thead>\n",
       "    <tr style=\"text-align: right;\">\n",
       "      <th></th>\n",
       "      <th>params</th>\n",
       "      <th>mean_score</th>\n",
       "      <th>sd</th>\n",
       "    </tr>\n",
       "  </thead>\n",
       "  <tbody>\n",
       "    <tr>\n",
       "      <th>57</th>\n",
       "      <td> {u'max_features': 11, u'bootstrap': False, u'm...</td>\n",
       "      <td> 0.942682</td>\n",
       "      <td> 0.024037</td>\n",
       "    </tr>\n",
       "    <tr>\n",
       "      <th>50</th>\n",
       "      <td> {u'max_features': 11, u'bootstrap': False, u'm...</td>\n",
       "      <td> 0.942126</td>\n",
       "      <td> 0.026124</td>\n",
       "    </tr>\n",
       "    <tr>\n",
       "      <th>43</th>\n",
       "      <td> {u'max_features': 11, u'bootstrap': False, u'm...</td>\n",
       "      <td> 0.941569</td>\n",
       "      <td> 0.017824</td>\n",
       "    </tr>\n",
       "    <tr>\n",
       "      <th>63</th>\n",
       "      <td> {u'max_features': 1, u'bootstrap': False, u'ma...</td>\n",
       "      <td> 0.941569</td>\n",
       "      <td> 0.024184</td>\n",
       "    </tr>\n",
       "    <tr>\n",
       "      <th>28</th>\n",
       "      <td> {u'max_features': 1, u'bootstrap': True, u'max...</td>\n",
       "      <td> 0.939900</td>\n",
       "      <td> 0.021704</td>\n",
       "    </tr>\n",
       "    <tr>\n",
       "      <th>64</th>\n",
       "      <td> {u'max_features': 11, u'bootstrap': False, u'm...</td>\n",
       "      <td> 0.939900</td>\n",
       "      <td> 0.020716</td>\n",
       "    </tr>\n",
       "    <tr>\n",
       "      <th>49</th>\n",
       "      <td> {u'max_features': 1, u'bootstrap': False, u'ma...</td>\n",
       "      <td> 0.938787</td>\n",
       "      <td> 0.018358</td>\n",
       "    </tr>\n",
       "    <tr>\n",
       "      <th>56</th>\n",
       "      <td> {u'max_features': 1, u'bootstrap': False, u'ma...</td>\n",
       "      <td> 0.938787</td>\n",
       "      <td> 0.024643</td>\n",
       "    </tr>\n",
       "    <tr>\n",
       "      <th>58</th>\n",
       "      <td> {u'max_features': 21, u'bootstrap': False, u'm...</td>\n",
       "      <td> 0.938230</td>\n",
       "      <td> 0.025025</td>\n",
       "    </tr>\n",
       "    <tr>\n",
       "      <th>15</th>\n",
       "      <td> {u'max_features': 11, u'bootstrap': True, u'ma...</td>\n",
       "      <td> 0.937674</td>\n",
       "      <td> 0.024054</td>\n",
       "    </tr>\n",
       "  </tbody>\n",
       "</table>\n",
       "</div>"
      ],
      "text/plain": [
       "                                               params  mean_score        sd\n",
       "57  {u'max_features': 11, u'bootstrap': False, u'm...    0.942682  0.024037\n",
       "50  {u'max_features': 11, u'bootstrap': False, u'm...    0.942126  0.026124\n",
       "43  {u'max_features': 11, u'bootstrap': False, u'm...    0.941569  0.017824\n",
       "63  {u'max_features': 1, u'bootstrap': False, u'ma...    0.941569  0.024184\n",
       "28  {u'max_features': 1, u'bootstrap': True, u'max...    0.939900  0.021704\n",
       "64  {u'max_features': 11, u'bootstrap': False, u'm...    0.939900  0.020716\n",
       "49  {u'max_features': 1, u'bootstrap': False, u'ma...    0.938787  0.018358\n",
       "56  {u'max_features': 1, u'bootstrap': False, u'ma...    0.938787  0.024643\n",
       "58  {u'max_features': 21, u'bootstrap': False, u'm...    0.938230  0.025025\n",
       "15  {u'max_features': 11, u'bootstrap': True, u'ma...    0.937674  0.024054"
      ]
     },
     "execution_count": 241,
     "metadata": {},
     "output_type": "execute_result"
    }
   ],
   "source": [
    "grid = GridSearchCV(forest, params, cv = 5, n_jobs=-1, scoring='accuracy')\n",
    "\n",
    "start = datetime.datetime.now()\n",
    "\n",
    "grid+search = grid.fit(X,y)\n",
    "\n",
    "elapsed = datetime.datetime.now() - start\n",
    "print('{0} seconds elapsed during exhaustive search'.format(elapsed.seconds))\n",
    "\n",
    "df = pd.DataFrame(grid.grid_scores_)\n",
    "df.columns = ['params','mean_score','scores']\n",
    "df['sd'] = df.scores.apply(np.std)\n",
    "df = df.drop('scores',axis=1)\n",
    "df_sorted = df.sort('mean_score', ascending=False)\n",
    "df_sorted.head(10)"
   ]
  },
  {
   "cell_type": "markdown",
   "metadata": {},
   "source": [
    "##Randomized Search"
   ]
  },
  {
   "cell_type": "code",
   "execution_count": 257,
   "metadata": {
    "collapsed": false
   },
   "outputs": [
    {
     "name": "stdout",
     "output_type": "stream",
     "text": [
      "the randomized search will examine 5 candidates\n"
     ]
    }
   ],
   "source": [
    "n_iter = 5\n",
    "\n",
    "feat_range = sp_randint(1,X.shape[1])\n",
    "depth_range = sp_randint(1,51)\n",
    "boot_range = [True, False]\n",
    "\n",
    "\n",
    "params = {'max_features':feat_range,\n",
    "         'max_depth':depth_range,\n",
    "         'bootstrap':boot_range}\n",
    "\n",
    "print('the randomized search will examine {0} candidates'.format(n_iter))"
   ]
  },
  {
   "cell_type": "code",
   "execution_count": 258,
   "metadata": {
    "collapsed": false
   },
   "outputs": [
    {
     "name": "stdout",
     "output_type": "stream",
     "text": [
      "9 seconds elapsed during randomized search\n"
     ]
    },
    {
     "data": {
      "text/html": [
       "<div style=\"max-height:1000px;max-width:1500px;overflow:auto;\">\n",
       "<table border=\"1\" class=\"dataframe\">\n",
       "  <thead>\n",
       "    <tr style=\"text-align: right;\">\n",
       "      <th></th>\n",
       "      <th>params</th>\n",
       "      <th>mean_score</th>\n",
       "      <th>sd</th>\n",
       "    </tr>\n",
       "  </thead>\n",
       "  <tbody>\n",
       "    <tr>\n",
       "      <th>1</th>\n",
       "      <td> {u'max_features': 9, u'bootstrap': True, u'max...</td>\n",
       "      <td> 0.933222</td>\n",
       "      <td> 0.023536</td>\n",
       "    </tr>\n",
       "    <tr>\n",
       "      <th>4</th>\n",
       "      <td> {u'max_features': 33, u'bootstrap': True, u'ma...</td>\n",
       "      <td> 0.924318</td>\n",
       "      <td> 0.025858</td>\n",
       "    </tr>\n",
       "    <tr>\n",
       "      <th>2</th>\n",
       "      <td> {u'max_features': 23, u'bootstrap': True, u'ma...</td>\n",
       "      <td> 0.919866</td>\n",
       "      <td> 0.032042</td>\n",
       "    </tr>\n",
       "    <tr>\n",
       "      <th>0</th>\n",
       "      <td> {u'max_features': 49, u'bootstrap': True, u'ma...</td>\n",
       "      <td> 0.913189</td>\n",
       "      <td> 0.025895</td>\n",
       "    </tr>\n",
       "    <tr>\n",
       "      <th>3</th>\n",
       "      <td> {u'max_features': 44, u'bootstrap': False, u'm...</td>\n",
       "      <td> 0.909850</td>\n",
       "      <td> 0.024510</td>\n",
       "    </tr>\n",
       "  </tbody>\n",
       "</table>\n",
       "</div>"
      ],
      "text/plain": [
       "                                              params  mean_score        sd\n",
       "1  {u'max_features': 9, u'bootstrap': True, u'max...    0.933222  0.023536\n",
       "4  {u'max_features': 33, u'bootstrap': True, u'ma...    0.924318  0.025858\n",
       "2  {u'max_features': 23, u'bootstrap': True, u'ma...    0.919866  0.032042\n",
       "0  {u'max_features': 49, u'bootstrap': True, u'ma...    0.913189  0.025895\n",
       "3  {u'max_features': 44, u'bootstrap': False, u'm...    0.909850  0.024510"
      ]
     },
     "execution_count": 258,
     "metadata": {},
     "output_type": "execute_result"
    }
   ],
   "source": [
    "rand = RandomizedSearchCV(forest, params, cv=5, n_jobs=-1, n_iter=n_iter, scoring='accuracy')\n",
    "\n",
    "start = datetime.datetime.now()\n",
    "\n",
    "random_search = rand.fit(X,y)\n",
    "\n",
    "elapsed = datetime.datetime.now() - start\n",
    "print('{0} seconds elapsed during randomized search'.format(elapsed.seconds))\n",
    "\n",
    "df_rand = pd.DataFrame(rand.grid_scores_)\n",
    "df_rand.columns = ['params','mean_score','scores']\n",
    "df_rand['sd'] = df_rand.scores.apply(np.std)\n",
    "df_rand = df_rand.drop('scores',axis=1)\n",
    "df_rand_sorted = df_rand.sort('mean_score', ascending=False)\n",
    "df_rand_sorted.head(10)\n"
   ]
  },
  {
   "cell_type": "markdown",
   "metadata": {},
   "source": [
    "##Pipelines"
   ]
  },
  {
   "cell_type": "code",
   "execution_count": 244,
   "metadata": {
    "collapsed": true
   },
   "outputs": [],
   "source": [
    "from sklearn.pipeline import Pipeline\n",
    "from sklearn.decomposition import PCA\n",
    "from scipy.stats import uniform"
   ]
  },
  {
   "cell_type": "code",
   "execution_count": 245,
   "metadata": {
    "collapsed": true
   },
   "outputs": [],
   "source": [
    "pca = PCA()\n",
    "pipeline = Pipeline([(\"components\", pca), (\"rfc\", forest)])\n",
    "\n",
    "feat_range = uniform(0,1)\n",
    "depth_range = sp_randint(1,51)\n",
    "boot_range = [True, False]\n",
    "pc_range = sp_randint(1,X.shape[1])\n",
    "\n",
    "params = {'rfc__max_features':feat_range,\n",
    "         'rfc__max_depth':depth_range,\n",
    "         'rfc__bootstrap':boot_range,\n",
    "         'components__n_components':pc_range}\n"
   ]
  },
  {
   "cell_type": "code",
   "execution_count": 246,
   "metadata": {
    "collapsed": false
   },
   "outputs": [
    {
     "name": "stdout",
     "output_type": "stream",
     "text": [
      "54 seconds elapsed during randomized search\n"
     ]
    },
    {
     "data": {
      "text/html": [
       "<div style=\"max-height:1000px;max-width:1500px;overflow:auto;\">\n",
       "<table border=\"1\" class=\"dataframe\">\n",
       "  <thead>\n",
       "    <tr style=\"text-align: right;\">\n",
       "      <th></th>\n",
       "      <th>params</th>\n",
       "      <th>mean_score</th>\n",
       "      <th>sd</th>\n",
       "    </tr>\n",
       "  </thead>\n",
       "  <tbody>\n",
       "    <tr>\n",
       "      <th>0 </th>\n",
       "      <td> {u'rfc__max_depth': 22, u'rfc__bootstrap': Fal...</td>\n",
       "      <td> 0.944352</td>\n",
       "      <td> 0.013315</td>\n",
       "    </tr>\n",
       "    <tr>\n",
       "      <th>8 </th>\n",
       "      <td> {u'rfc__max_depth': 23, u'rfc__bootstrap': Tru...</td>\n",
       "      <td> 0.937674</td>\n",
       "      <td> 0.016903</td>\n",
       "    </tr>\n",
       "    <tr>\n",
       "      <th>18</th>\n",
       "      <td> {u'rfc__max_depth': 24, u'rfc__bootstrap': Fal...</td>\n",
       "      <td> 0.936004</td>\n",
       "      <td> 0.026725</td>\n",
       "    </tr>\n",
       "    <tr>\n",
       "      <th>1 </th>\n",
       "      <td> {u'rfc__max_depth': 20, u'rfc__bootstrap': Fal...</td>\n",
       "      <td> 0.935448</td>\n",
       "      <td> 0.022380</td>\n",
       "    </tr>\n",
       "    <tr>\n",
       "      <th>5 </th>\n",
       "      <td> {u'rfc__max_depth': 9, u'rfc__bootstrap': Fals...</td>\n",
       "      <td> 0.932666</td>\n",
       "      <td> 0.018817</td>\n",
       "    </tr>\n",
       "    <tr>\n",
       "      <th>13</th>\n",
       "      <td> {u'rfc__max_depth': 36, u'rfc__bootstrap': Fal...</td>\n",
       "      <td> 0.929883</td>\n",
       "      <td> 0.029064</td>\n",
       "    </tr>\n",
       "    <tr>\n",
       "      <th>11</th>\n",
       "      <td> {u'rfc__max_depth': 47, u'rfc__bootstrap': Fal...</td>\n",
       "      <td> 0.921536</td>\n",
       "      <td> 0.019499</td>\n",
       "    </tr>\n",
       "    <tr>\n",
       "      <th>4 </th>\n",
       "      <td> {u'rfc__max_depth': 16, u'rfc__bootstrap': Fal...</td>\n",
       "      <td> 0.918753</td>\n",
       "      <td> 0.027245</td>\n",
       "    </tr>\n",
       "    <tr>\n",
       "      <th>16</th>\n",
       "      <td> {u'rfc__max_depth': 14, u'rfc__bootstrap': Fal...</td>\n",
       "      <td> 0.915971</td>\n",
       "      <td> 0.028186</td>\n",
       "    </tr>\n",
       "    <tr>\n",
       "      <th>17</th>\n",
       "      <td> {u'rfc__max_depth': 9, u'rfc__bootstrap': Fals...</td>\n",
       "      <td> 0.915415</td>\n",
       "      <td> 0.018995</td>\n",
       "    </tr>\n",
       "  </tbody>\n",
       "</table>\n",
       "</div>"
      ],
      "text/plain": [
       "                                               params  mean_score        sd\n",
       "0   {u'rfc__max_depth': 22, u'rfc__bootstrap': Fal...    0.944352  0.013315\n",
       "8   {u'rfc__max_depth': 23, u'rfc__bootstrap': Tru...    0.937674  0.016903\n",
       "18  {u'rfc__max_depth': 24, u'rfc__bootstrap': Fal...    0.936004  0.026725\n",
       "1   {u'rfc__max_depth': 20, u'rfc__bootstrap': Fal...    0.935448  0.022380\n",
       "5   {u'rfc__max_depth': 9, u'rfc__bootstrap': Fals...    0.932666  0.018817\n",
       "13  {u'rfc__max_depth': 36, u'rfc__bootstrap': Fal...    0.929883  0.029064\n",
       "11  {u'rfc__max_depth': 47, u'rfc__bootstrap': Fal...    0.921536  0.019499\n",
       "4   {u'rfc__max_depth': 16, u'rfc__bootstrap': Fal...    0.918753  0.027245\n",
       "16  {u'rfc__max_depth': 14, u'rfc__bootstrap': Fal...    0.915971  0.028186\n",
       "17  {u'rfc__max_depth': 9, u'rfc__bootstrap': Fals...    0.915415  0.018995"
      ]
     },
     "execution_count": 246,
     "metadata": {},
     "output_type": "execute_result"
    }
   ],
   "source": [
    "search = RandomizedSearchCV(pipeline, params, cv=5, n_jobs=-1, n_iter=20, scoring='accuracy')\n",
    "\n",
    "start = datetime.datetime.now()\n",
    "\n",
    "pipe_search = search.fit(X,y)\n",
    "\n",
    "elapsed = datetime.datetime.now() - start\n",
    "print('{0} seconds elapsed during randomized search'.format(elapsed.seconds))\n",
    "\n",
    "df_pipe = pd.DataFrame(search.grid_scores_)\n",
    "df_pipe.columns = ['params','mean_score','scores']\n",
    "df_pipe['sd'] = df_pipe.scores.apply(np.std)\n",
    "df_pipe = df_pipe.drop('scores',axis=1)\n",
    "df_pipe_sorted = df_pipe.sort('mean_score', ascending=False)\n",
    "df_pipe_sorted.head(10)\n"
   ]
  },
  {
   "cell_type": "markdown",
   "metadata": {},
   "source": [
    "##Model Assessment"
   ]
  },
  {
   "cell_type": "markdown",
   "metadata": {},
   "source": [
    "####Select and fit a model on training data"
   ]
  },
  {
   "cell_type": "code",
   "execution_count": 199,
   "metadata": {
    "collapsed": true
   },
   "outputs": [],
   "source": [
    "X_train, X_test, y_train, y_test = train_test_split(X, y, test_size=0.2, random_state=0)"
   ]
  },
  {
   "cell_type": "code",
   "execution_count": 262,
   "metadata": {
    "collapsed": false
   },
   "outputs": [],
   "source": [
    "forest = random_search.best_estimator_\n",
    "y_pred = forest.fit(X_train, y_train).predict(X_test)"
   ]
  },
  {
   "cell_type": "markdown",
   "metadata": {},
   "source": [
    "####Confusion Matrices and Classification Reports"
   ]
  },
  {
   "cell_type": "code",
   "execution_count": 297,
   "metadata": {
    "collapsed": true
   },
   "outputs": [],
   "source": [
    "from sklearn.metrics import confusion_matrix\n",
    "from sklearn.metrics import classification_report"
   ]
  },
  {
   "cell_type": "code",
   "execution_count": 272,
   "metadata": {
    "collapsed": true
   },
   "outputs": [],
   "source": [
    "df_confusion = pd.crosstab(y_test, y_pred, rownames=['Actual'], colnames=['Predicted'])"
   ]
  },
  {
   "cell_type": "code",
   "execution_count": 296,
   "metadata": {
    "collapsed": false,
    "scrolled": true
   },
   "outputs": [
    {
     "data": {
      "image/png": "[encoded data removed]",
      "text/plain": [
       "<matplotlib.figure.Figure at 0x7f988c1521d0>"
      ]
     },
     "metadata": {},
     "output_type": "display_data"
    }
   ],
   "source": [
    "def plot_confusion_matrix(df_confusion, title='Confusion matrix', cmap=plt.cm.gray_r):\n",
    "    plt.matshow(df_confusion) # imshow\n",
    "    plt.colorbar()\n",
    "    tick_marks = np.arange(len(df_confusion.columns))\n",
    "    plt.xticks(tick_marks, df_confusion.columns)\n",
    "    plt.yticks(tick_marks, df_confusion.index)\n",
    "    plt.ylabel(df_confusion.index.name)\n",
    "    plt.xlabel(df_confusion.columns.name)\n",
    "plot_confusion_matrix(df_confusion)"
   ]
  },
  {
   "cell_type": "code",
   "execution_count": 299,
   "metadata": {
    "collapsed": false
   },
   "outputs": [
    {
     "name": "stdout",
     "output_type": "stream",
     "text": [
      "             precision    recall  f1-score   support\n",
      "\n",
      "          0       0.96      1.00      0.98        27\n",
      "          1       0.97      1.00      0.99        35\n",
      "          2       1.00      0.94      0.97        36\n",
      "          3       0.91      1.00      0.95        29\n",
      "          4       1.00      0.97      0.98        30\n",
      "          5       0.97      0.97      0.97        40\n",
      "          6       1.00      1.00      1.00        44\n",
      "          7       0.97      1.00      0.99        39\n",
      "          8       1.00      0.92      0.96        39\n",
      "          9       0.98      0.98      0.98        41\n",
      "\n",
      "avg / total       0.98      0.98      0.98       360\n",
      "\n"
     ]
    }
   ],
   "source": [
    "print(classification_report(y_test,y_pred))"
   ]
  },
  {
   "cell_type": "markdown",
   "metadata": {},
   "source": [
    "####Performance Metrics"
   ]
  },
  {
   "cell_type": "markdown",
   "metadata": {},
   "source": [
    "###References\n",
    "\n",
    "* http://www.jmlr.org/papers/volume13/bergstra12a/bergstra12a.pdf\n",
    "* http://scikit-learn.org/stable/auto_examples/model_selection/randomized_search.html"
   ]
  }
 ],
 "metadata": {
  "kernelspec": {
   "display_name": "Python 2",
   "language": "python",
   "name": "python2"
  },
  "language_info": {
   "codemirror_mode": {
    "name": "ipython",
    "version": 2
   },
   "file_extension": ".py",
   "mimetype": "text/x-python",
   "name": "python",
   "nbconvert_exporter": "python",
   "pygments_lexer": "ipython2",
   "version": "2.7.9"
  }
 },
 "nbformat": 4,
 "nbformat_minor": 0
}
