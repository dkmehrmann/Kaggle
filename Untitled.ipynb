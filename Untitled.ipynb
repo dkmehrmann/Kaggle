{
 "cells": [
  {
   "cell_type": "code",
   "execution_count": 4,
   "metadata": {
    "collapsed": true
   },
   "outputs": [],
   "source": [
    "from lxml import html\n",
    "import requests"
   ]
  },
  {
   "cell_type": "code",
   "execution_count": 5,
   "metadata": {
    "collapsed": false
   },
   "outputs": [],
   "source": [
    "page = requests.get('http://projects.fivethirtyeight.com/2015-nfl-predictions/')\n",
    "tree = html.fromstring(page.content)"
   ]
  },
  {
   "cell_type": "code",
   "execution_count": 33,
   "metadata": {
    "collapsed": false
   },
   "outputs": [
    {
     "name": "stdout",
     "output_type": "stream",
     "text": [
      "['11%'] ['CLE']\n",
      "['45%'] ['GB']\n",
      "['23%'] ['JAX']\n",
      "['39%'] ['MIA']\n",
      "['27%'] ['OAK']\n",
      "['33%'] ['STL']\n",
      "['17%'] ['TEN']\n",
      "['7%'] ['WSH']\n",
      "['51%'] ['ATL']\n",
      "['59%'] ['NYG']\n",
      "['68%'] ['DEN']\n",
      "['46%'] ['PHI']\n",
      "['32%'] ['CHI']\n"
     ]
    }
   ],
   "source": [
    "### away team for current week\n",
    "for i in range(1,14):\n",
    "    print(tree.xpath('//*[@id=\"schedule\"]/table[2]/tbody/tr[{0}]/td[3]/div[1]/text()'.format(i)),\n",
    "         tree.xpath('//*[@id=\"schedule\"]/table[2]/tbody/tr[{0}]/td[2]/div[1]/text()'.format(i)))"
   ]
  },
  {
   "cell_type": "code",
   "execution_count": 32,
   "metadata": {
    "collapsed": false
   },
   "outputs": [
    {
     "name": "stdout",
     "output_type": "stream",
     "text": [
      "['89%'] ['CIN']\n",
      "['55%'] ['CAR']\n",
      "['77%'] ['NYJ']\n",
      "['61%'] ['BUF']\n",
      "['72%'] ['PIT']\n",
      "['66%'] ['MIN']\n",
      "['82%'] ['NO']\n",
      "['93%'] ['NE']\n",
      "['48%'] ['SF']\n",
      "['41%'] ['TB']\n",
      "['32%'] ['IND']\n",
      "['54%'] ['DAL']\n",
      "['68%'] ['SD']\n"
     ]
    }
   ],
   "source": [
    "### home team for current week\n",
    "for i in range(1,14):\n",
    "    print(tree.xpath('//*[@id=\"schedule\"]/table[2]/tbody/tr[{0}]/td[4]/div[1]/text()'.format(i)),\n",
    "         tree.xpath('//*[@id=\"schedule\"]/table[2]/tbody/tr[{0}]/td[5]/div[1]/text()'.format(i)))"
   ]
  },
  {
   "cell_type": "code",
   "execution_count": 15,
   "metadata": {
    "collapsed": false
   },
   "outputs": [
    {
     "name": "stdout",
     "output_type": "stream",
     "text": [
      "[<Element div at 0x7fa6a037ec78>]\n"
     ]
    }
   ],
   "source": []
  },
  {
   "cell_type": "code",
   "execution_count": null,
   "metadata": {
    "collapsed": true
   },
   "outputs": [],
   "source": []
  }
 ],
 "metadata": {
  "kernelspec": {
   "display_name": "Python 3",
   "language": "python",
   "name": "python3"
  },
  "language_info": {
   "codemirror_mode": {
    "name": "ipython",
    "version": 3
   },
   "file_extension": ".py",
   "mimetype": "text/x-python",
   "name": "python",
   "nbconvert_exporter": "python",
   "pygments_lexer": "ipython3",
   "version": "3.4.3"
  }
 },
 "nbformat": 4,
 "nbformat_minor": 0
}
