{
 "cells": [
  {
   "cell_type": "markdown",
   "metadata": {},
   "source": [
    "#Hyperparameter Optimization\n",
    "###Author: Andrew Mehrmann\n",
    "###ASTR 596"
   ]
  },
  {
   "cell_type": "markdown",
   "metadata": {},
   "source": [
    "* Hyperparameter: A model parameter that must be set outside of the actual model training\n",
    "  * Traditional Parameters are learned from the data e.g. $\\beta$ in linear regression\n",
    "  * Hyperparameters are set manually, usually with the goal of controlling overfitting\n",
    " \n",
    "\n",
    "Hyperparameter optimization refers to selecting values of hyperparameters such that they produce models that perform well on validation (test) data. Performance is assessed by some choice of one or many performance metrics.\n",
    "\n",
    "* Performance Metric: A mathematical measure of how well a model performs, usually on validation (test) data. \n",
    "  * Examples: Accuracy, Precision, Recall, F1, ROC/AUC, MSE, Lift, etc.\n",
    "  * Accuracy is *sometimes* a good metric, but often not as it assumes equal cost to both types of errors (FP, FN)\n",
    " \n",
    "The choice of performance metric is extremely important to model assessment. Achieving 90% accuracy with a 90% target rate means you did about as good as the baseline assumption of positively classifying all observations.\n",
    "\n",
    "This notebook will focus on two brute-force methods of hyperparameter optimization: Grid Search and Randomized search. Other methods include Bayesian optimization and gradient-based methods."
   ]
  },
  {
   "cell_type": "code",
   "execution_count": 67,
   "metadata": {
    "collapsed": true
   },
   "outputs": [],
   "source": [
    "%matplotlib inline"
   ]
  },
  {
   "cell_type": "code",
   "execution_count": 68,
   "metadata": {
    "collapsed": false
   },
   "outputs": [],
   "source": [
    "import pandas as pd\n",
    "import matplotlib.pyplot as plt\n",
    "import numpy as np\n",
    "import datetime\n",
    "from collections import Counter\n",
    "\n",
    "from sklearn.cross_validation import train_test_split\n",
    "from sklearn.grid_search import GridSearchCV\n",
    "from sklearn.grid_search import RandomizedSearchCV\n",
    "from scipy.stats import randint as sp_randint\n",
    "from sklearn.ensemble import RandomForestRegressor\n",
    "from sklearn.preprocessing import LabelEncoder "
   ]
  },
  {
   "cell_type": "markdown",
   "metadata": {},
   "source": [
    "####Load in and Inspect the Data\n",
    "\n",
    "This data is the 2001 flight data from INFO 490. The column 'AirTime', has some missing values, which we will try to predict using the other variables."
   ]
  },
  {
   "cell_type": "code",
   "execution_count": 72,
   "metadata": {
    "collapsed": false
   },
   "outputs": [],
   "source": [
    "df = pd.read_csv('2001.csv',encoding='latin-1',usecols=[1,3,8,10,12,13,16,17,18,21,23])\n",
    "df=df[::1000]\n",
    "\n",
    "categorical_vars = ['UniqueCarrier', 'Origin', 'Dest', 'Month','DayOfWeek', 'TailNum','Cancelled','Diverted']\n",
    "\n",
    "for col in categorical_vars:\n",
    "    df[col] = LabelEncoder().fit_transform(df[col]) \n",
    "    df[col] = df[col].astype(object)\n",
    "\n",
    "df_notna = df[df['AirTime'].notnull()] # the data we can train on\n",
    "df_withna = df[df['AirTime'].isnull()] # the data we want to impute\n"
   ]
  },
  {
   "cell_type": "code",
   "execution_count": 86,
   "metadata": {
    "collapsed": false
   },
   "outputs": [
    {
     "data": {
      "text/plain": [
       "(5708, 11)"
      ]
     },
     "execution_count": 86,
     "metadata": {},
     "output_type": "execute_result"
    }
   ],
   "source": [
    "df_notna.shape # the data without na's for airtime"
   ]
  },
  {
   "cell_type": "code",
   "execution_count": 87,
   "metadata": {
    "collapsed": false
   },
   "outputs": [
    {
     "data": {
      "text/plain": [
       "(260, 11)"
      ]
     },
     "execution_count": 87,
     "metadata": {},
     "output_type": "execute_result"
    }
   ],
   "source": [
    "df_withna.shape # the data with na's for airtime"
   ]
  },
  {
   "cell_type": "code",
   "execution_count": 76,
   "metadata": {
    "collapsed": false
   },
   "outputs": [
    {
     "data": {
      "text/plain": [
       "(5968, 11)"
      ]
     },
     "execution_count": 76,
     "metadata": {},
     "output_type": "execute_result"
    }
   ],
   "source": [
    "df.shape # the dimensions of the whole dataset"
   ]
  },
  {
   "cell_type": "code",
   "execution_count": 77,
   "metadata": {
    "collapsed": false
   },
   "outputs": [],
   "source": [
    "# split the data into x and y\n",
    "X = df_notna.drop('AirTime',axis=1)\n",
    "y = df_notna['AirTime']"
   ]
  },
  {
   "cell_type": "code",
   "execution_count": 78,
   "metadata": {
    "collapsed": false
   },
   "outputs": [
    {
     "data": {
      "text/plain": [
       "(5708, 10)"
      ]
     },
     "execution_count": 78,
     "metadata": {},
     "output_type": "execute_result"
    }
   ],
   "source": [
    "# the predictors\n",
    "X.shape"
   ]
  },
  {
   "cell_type": "code",
   "execution_count": 79,
   "metadata": {
    "collapsed": false
   },
   "outputs": [
    {
     "data": {
      "text/plain": [
       "(5708,)"
      ]
     },
     "execution_count": 79,
     "metadata": {},
     "output_type": "execute_result"
    }
   ],
   "source": [
    "# the response\n",
    "y.shape"
   ]
  },
  {
   "cell_type": "code",
   "execution_count": 80,
   "metadata": {
    "collapsed": false
   },
   "outputs": [
    {
     "data": {
      "text/plain": [
       "dtype('float64')"
      ]
     },
     "execution_count": 80,
     "metadata": {},
     "output_type": "execute_result"
    }
   ],
   "source": [
    "# datatype of the response\n",
    "y.dtypes"
   ]
  },
  {
   "cell_type": "code",
   "execution_count": 81,
   "metadata": {
    "collapsed": false
   },
   "outputs": [
    {
     "data": {
      "text/plain": [
       "Month             object\n",
       "DayOfWeek         object\n",
       "UniqueCarrier     object\n",
       "TailNum           object\n",
       "CRSElapsedTime     int64\n",
       "Origin            object\n",
       "Dest              object\n",
       "Distance           int64\n",
       "Cancelled         object\n",
       "Diverted          object\n",
       "dtype: object"
      ]
     },
     "execution_count": 81,
     "metadata": {},
     "output_type": "execute_result"
    }
   ],
   "source": [
    "# datatypes of the predictors\n",
    "X.dtypes"
   ]
  },
  {
   "cell_type": "markdown",
   "metadata": {},
   "source": [
    "####Define the classifier"
   ]
  },
  {
   "cell_type": "code",
   "execution_count": 101,
   "metadata": {
    "collapsed": false
   },
   "outputs": [],
   "source": [
    "forest = RandomForestRegressor(n_estimators = 100, random_state=91)"
   ]
  },
  {
   "cell_type": "code",
   "execution_count": 83,
   "metadata": {
    "collapsed": true
   },
   "outputs": [],
   "source": [
    "#a function to turn grid search scores into a dataframe\n",
    "def get_data_frame(scores):\n",
    "    df = pd.DataFrame(scores)\n",
    "    df.columns = ['params','mean_score','scores']\n",
    "    df['sd'] = df.scores.apply(np.std)\n",
    "    df = df.drop('scores',axis=1)\n",
    "    df_sorted = df.sort('mean_score', ascending=False)\n",
    "    return df_sorted.head(10)"
   ]
  },
  {
   "cell_type": "markdown",
   "metadata": {},
   "source": [
    "##Grid (Exhaustive) Search\n",
    "\n",
    "* 'Exhaustive search over specified parameter values for an estimator.' - [sklearn](http://scikit-learn.org/stable/modules/generated/sklearn.grid_search.GridSearchCV.html#sklearn.grid_search.GridSearchCV)\n",
    "*  'grid search, or a parameter sweep...is simply an exhaustive searching through a manually specified subset of the hyperparameter space of a learning algorithm' - [Wikipedia](https://en.wikipedia.org/wiki/Hyperparameter_optimization) "
   ]
  },
  {
   "cell_type": "markdown",
   "metadata": {},
   "source": [
    "###### Define the parameter space to search"
   ]
  },
  {
   "cell_type": "code",
   "execution_count": 89,
   "metadata": {
    "collapsed": false
   },
   "outputs": [
    {
     "name": "stdout",
     "output_type": "stream",
     "text": [
      "the exhaustive search will examine 70 candidates\n"
     ]
    }
   ],
   "source": [
    "feat_range = np.arange(1,X.shape[1],2)\n",
    "depth_range = np.arange(1,21,3)\n",
    "boot_range = [True, False]\n",
    "\n",
    "params = {'max_features':feat_range,\n",
    "         'max_depth':depth_range,\n",
    "         'bootstrap':boot_range}\n",
    "\n",
    "n_combos = len(feat_range) * len(depth_range) * len(boot_range)\n",
    "\n",
    "print('the exhaustive search will examine {0} candidates'.format(n_combos))"
   ]
  },
  {
   "cell_type": "markdown",
   "metadata": {},
   "source": [
    "######Perform Grid Search and inspect the results"
   ]
  },
  {
   "cell_type": "code",
   "execution_count": 85,
   "metadata": {
    "collapsed": false
   },
   "outputs": [
    {
     "name": "stdout",
     "output_type": "stream",
     "text": [
      "163 seconds elapsed during exhaustive search\n"
     ]
    },
    {
     "data": {
      "text/html": [
       "<div style=\"max-height:1000px;max-width:1500px;overflow:auto;\">\n",
       "<table border=\"1\" class=\"dataframe\">\n",
       "  <thead>\n",
       "    <tr style=\"text-align: right;\">\n",
       "      <th></th>\n",
       "      <th>params</th>\n",
       "      <th>mean_score</th>\n",
       "      <th>sd</th>\n",
       "    </tr>\n",
       "  </thead>\n",
       "  <tbody>\n",
       "    <tr>\n",
       "      <th>13</th>\n",
       "      <td> {u'max_features': 7, u'bootstrap': True, u'max...</td>\n",
       "      <td>-90.786488</td>\n",
       "      <td> 18.692227</td>\n",
       "    </tr>\n",
       "    <tr>\n",
       "      <th>17</th>\n",
       "      <td> {u'max_features': 5, u'bootstrap': True, u'max...</td>\n",
       "      <td>-91.198049</td>\n",
       "      <td> 18.902192</td>\n",
       "    </tr>\n",
       "    <tr>\n",
       "      <th>18</th>\n",
       "      <td> {u'max_features': 7, u'bootstrap': True, u'max...</td>\n",
       "      <td>-91.914027</td>\n",
       "      <td> 18.475632</td>\n",
       "    </tr>\n",
       "    <tr>\n",
       "      <th>22</th>\n",
       "      <td> {u'max_features': 5, u'bootstrap': True, u'max...</td>\n",
       "      <td>-92.231863</td>\n",
       "      <td> 17.732162</td>\n",
       "    </tr>\n",
       "    <tr>\n",
       "      <th>27</th>\n",
       "      <td> {u'max_features': 5, u'bootstrap': True, u'max...</td>\n",
       "      <td>-92.246243</td>\n",
       "      <td> 17.649197</td>\n",
       "    </tr>\n",
       "    <tr>\n",
       "      <th>14</th>\n",
       "      <td> {u'max_features': 9, u'bootstrap': True, u'max...</td>\n",
       "      <td>-92.456793</td>\n",
       "      <td> 18.389426</td>\n",
       "    </tr>\n",
       "    <tr>\n",
       "      <th>12</th>\n",
       "      <td> {u'max_features': 5, u'bootstrap': True, u'max...</td>\n",
       "      <td>-92.572531</td>\n",
       "      <td> 19.147717</td>\n",
       "    </tr>\n",
       "    <tr>\n",
       "      <th>33</th>\n",
       "      <td> {u'max_features': 7, u'bootstrap': True, u'max...</td>\n",
       "      <td>-92.890291</td>\n",
       "      <td> 18.634223</td>\n",
       "    </tr>\n",
       "    <tr>\n",
       "      <th>52</th>\n",
       "      <td> {u'max_features': 5, u'bootstrap': False, u'ma...</td>\n",
       "      <td>-93.193447</td>\n",
       "      <td> 18.194320</td>\n",
       "    </tr>\n",
       "    <tr>\n",
       "      <th>32</th>\n",
       "      <td> {u'max_features': 5, u'bootstrap': True, u'max...</td>\n",
       "      <td>-93.303925</td>\n",
       "      <td> 17.669478</td>\n",
       "    </tr>\n",
       "  </tbody>\n",
       "</table>\n",
       "</div>"
      ],
      "text/plain": [
       "                                               params  mean_score         sd\n",
       "13  {u'max_features': 7, u'bootstrap': True, u'max...  -90.786488  18.692227\n",
       "17  {u'max_features': 5, u'bootstrap': True, u'max...  -91.198049  18.902192\n",
       "18  {u'max_features': 7, u'bootstrap': True, u'max...  -91.914027  18.475632\n",
       "22  {u'max_features': 5, u'bootstrap': True, u'max...  -92.231863  17.732162\n",
       "27  {u'max_features': 5, u'bootstrap': True, u'max...  -92.246243  17.649197\n",
       "14  {u'max_features': 9, u'bootstrap': True, u'max...  -92.456793  18.389426\n",
       "12  {u'max_features': 5, u'bootstrap': True, u'max...  -92.572531  19.147717\n",
       "33  {u'max_features': 7, u'bootstrap': True, u'max...  -92.890291  18.634223\n",
       "52  {u'max_features': 5, u'bootstrap': False, u'ma...  -93.193447  18.194320\n",
       "32  {u'max_features': 5, u'bootstrap': True, u'max...  -93.303925  17.669478"
      ]
     },
     "execution_count": 85,
     "metadata": {},
     "output_type": "execute_result"
    }
   ],
   "source": [
    "grid = GridSearchCV(forest, params, cv = 5, n_jobs=-1, scoring='mean_squared_error')\n",
    "\n",
    "start = datetime.datetime.now()\n",
    "\n",
    "grid_search = grid.fit(X,y)\n",
    "\n",
    "elapsed = datetime.datetime.now() - start\n",
    "print('{0} seconds elapsed during exhaustive search'.format(elapsed.seconds))\n",
    "\n",
    "df_grid = get_data_frame(grid.grid_scores_)\n",
    "df_grid"
   ]
  },
  {
   "cell_type": "markdown",
   "metadata": {},
   "source": [
    "We know for sure that the best possible model over this parameter space is the one selected by the Grid Search. We are interested in finding out whether or not we really need to calculated all of these (redundant) models, or if we can get away with calculating a random subset of them."
   ]
  },
  {
   "cell_type": "markdown",
   "metadata": {},
   "source": [
    "##Randomized Search"
   ]
  },
  {
   "cell_type": "markdown",
   "metadata": {},
   "source": [
    "######Define the parameter space to search\n",
    "* There is a new parameter *n_iter*\n",
    "* The feature ranges are now defined as discrete distributions (this doesn't really matter here, but if the parameter space we were searching was continuous, sklearn advises that it's best to use continuous distributions).<sup>*</sup>\n",
    "\n",
    "<sup>*</sup>\" It is highly recommended to use continuous distributions for continuous parameters.\" - [sklearn docs](http://scikit-learn.org/stable/modules/generated/sklearn.grid_search.RandomizedSearchCV.html)"
   ]
  },
  {
   "cell_type": "code",
   "execution_count": 102,
   "metadata": {
    "collapsed": false
   },
   "outputs": [
    {
     "name": "stdout",
     "output_type": "stream",
     "text": [
      "the randomized search will examine 10 candidates\n"
     ]
    }
   ],
   "source": [
    "n_iter = 10\n",
    "\n",
    "feat_range = sp_randint(1,X.shape[1])\n",
    "depth_range = sp_randint(1,21)\n",
    "boot_range = [True, False]\n",
    "\n",
    "\n",
    "params = {'max_features':feat_range,\n",
    "         'max_depth':depth_range,\n",
    "         'bootstrap':boot_range}\n",
    "\n",
    "print('the randomized search will examine {0} candidates'.format(n_iter))"
   ]
  },
  {
   "cell_type": "markdown",
   "metadata": {},
   "source": [
    "######Perform Randomized Search and inspect the results"
   ]
  },
  {
   "cell_type": "code",
   "execution_count": 103,
   "metadata": {
    "collapsed": false
   },
   "outputs": [
    {
     "name": "stdout",
     "output_type": "stream",
     "text": [
      "24 seconds elapsed during randomized search\n"
     ]
    },
    {
     "data": {
      "text/html": [
       "<div style=\"max-height:1000px;max-width:1500px;overflow:auto;\">\n",
       "<table border=\"1\" class=\"dataframe\">\n",
       "  <thead>\n",
       "    <tr style=\"text-align: right;\">\n",
       "      <th></th>\n",
       "      <th>params</th>\n",
       "      <th>mean_score</th>\n",
       "      <th>sd</th>\n",
       "    </tr>\n",
       "  </thead>\n",
       "  <tbody>\n",
       "    <tr>\n",
       "      <th>0</th>\n",
       "      <td> {u'max_features': 6, u'bootstrap': True, u'max...</td>\n",
       "      <td> -91.569584</td>\n",
       "      <td> 18.583897</td>\n",
       "    </tr>\n",
       "    <tr>\n",
       "      <th>2</th>\n",
       "      <td> {u'max_features': 5, u'bootstrap': True, u'max...</td>\n",
       "      <td> -93.303925</td>\n",
       "      <td> 17.669478</td>\n",
       "    </tr>\n",
       "    <tr>\n",
       "      <th>5</th>\n",
       "      <td> {u'max_features': 6, u'bootstrap': True, u'max...</td>\n",
       "      <td> -93.328175</td>\n",
       "      <td> 18.896409</td>\n",
       "    </tr>\n",
       "    <tr>\n",
       "      <th>1</th>\n",
       "      <td> {u'max_features': 4, u'bootstrap': True, u'max...</td>\n",
       "      <td> -93.863623</td>\n",
       "      <td> 17.182798</td>\n",
       "    </tr>\n",
       "    <tr>\n",
       "      <th>4</th>\n",
       "      <td> {u'max_features': 3, u'bootstrap': False, u'ma...</td>\n",
       "      <td>-100.750272</td>\n",
       "      <td> 16.989713</td>\n",
       "    </tr>\n",
       "    <tr>\n",
       "      <th>6</th>\n",
       "      <td> {u'max_features': 8, u'bootstrap': False, u'ma...</td>\n",
       "      <td>-109.400205</td>\n",
       "      <td> 20.378359</td>\n",
       "    </tr>\n",
       "    <tr>\n",
       "      <th>9</th>\n",
       "      <td> {u'max_features': 2, u'bootstrap': False, u'ma...</td>\n",
       "      <td>-119.673723</td>\n",
       "      <td> 16.474665</td>\n",
       "    </tr>\n",
       "    <tr>\n",
       "      <th>7</th>\n",
       "      <td> {u'max_features': 2, u'bootstrap': True, u'max...</td>\n",
       "      <td>-164.637834</td>\n",
       "      <td> 13.361455</td>\n",
       "    </tr>\n",
       "    <tr>\n",
       "      <th>8</th>\n",
       "      <td> {u'max_features': 1, u'bootstrap': True, u'max...</td>\n",
       "      <td>-225.837746</td>\n",
       "      <td> 32.969440</td>\n",
       "    </tr>\n",
       "    <tr>\n",
       "      <th>3</th>\n",
       "      <td> {u'max_features': 1, u'bootstrap': True, u'max...</td>\n",
       "      <td>-302.469580</td>\n",
       "      <td> 36.840713</td>\n",
       "    </tr>\n",
       "  </tbody>\n",
       "</table>\n",
       "</div>"
      ],
      "text/plain": [
       "                                              params  mean_score         sd\n",
       "0  {u'max_features': 6, u'bootstrap': True, u'max...  -91.569584  18.583897\n",
       "2  {u'max_features': 5, u'bootstrap': True, u'max...  -93.303925  17.669478\n",
       "5  {u'max_features': 6, u'bootstrap': True, u'max...  -93.328175  18.896409\n",
       "1  {u'max_features': 4, u'bootstrap': True, u'max...  -93.863623  17.182798\n",
       "4  {u'max_features': 3, u'bootstrap': False, u'ma... -100.750272  16.989713\n",
       "6  {u'max_features': 8, u'bootstrap': False, u'ma... -109.400205  20.378359\n",
       "9  {u'max_features': 2, u'bootstrap': False, u'ma... -119.673723  16.474665\n",
       "7  {u'max_features': 2, u'bootstrap': True, u'max... -164.637834  13.361455\n",
       "8  {u'max_features': 1, u'bootstrap': True, u'max... -225.837746  32.969440\n",
       "3  {u'max_features': 1, u'bootstrap': True, u'max... -302.469580  36.840713"
      ]
     },
     "execution_count": 103,
     "metadata": {},
     "output_type": "execute_result"
    }
   ],
   "source": [
    "rand = RandomizedSearchCV(forest, params, cv=5, n_jobs=-1, n_iter=n_iter, scoring='mean_squared_error', random_state=91)\n",
    "\n",
    "start = datetime.datetime.now()\n",
    "\n",
    "random_search = rand.fit(X,y)\n",
    "\n",
    "elapsed = datetime.datetime.now() - start\n",
    "print('{0} seconds elapsed during randomized search'.format(elapsed.seconds))\n",
    "\n",
    "df_rand = get_data_frame(rand.grid_scores_)\n",
    "df_rand"
   ]
  },
  {
   "cell_type": "markdown",
   "metadata": {},
   "source": [
    "This comparison shows that the best result from the randomized search is not statistically different than the best result from the grid search. This has two important implications:\n",
    "1. The randomized search is more adaptable to huge data sets where computation time becomes unfeasable\n",
    "2. Holding all else constant (including computation time), a randomized search allows us to search a larger parameter space.\n",
    "\n",
    "Although it is not obvious that saving a couple minutes is a big deal, imagine these computation times were in hours or days."
   ]
  },
  {
   "cell_type": "markdown",
   "metadata": {},
   "source": [
    "######Perform repeated sampling to demonstrate"
   ]
  },
  {
   "cell_type": "code",
   "execution_count": 105,
   "metadata": {
    "collapsed": false
   },
   "outputs": [
    {
     "data": {
      "text/plain": [
       "<matplotlib.axes._subplots.AxesSubplot at 0x7f8df5b27c50>"
      ]
     },
     "execution_count": 105,
     "metadata": {},
     "output_type": "execute_result"
    },
    {
     "data": {
      "image/png": "[encoded data removed]",
      "text/plain": [
       "<matplotlib.figure.Figure at 0x7f8df5d68e50>"
      ]
     },
     "metadata": {},
     "output_type": "display_data"
    }
   ],
   "source": [
    "nrange = range(0,10)\n",
    "iterange = range(1,15)\n",
    "df_log = pd.DataFrame(index=iterange, columns=nrange)\n",
    "\n",
    "for n in nrange:\n",
    "    for n_iter in iterange:\n",
    "        rand = RandomizedSearchCV(forest, params, cv=5, n_jobs=-1, n_iter=n_iter, \n",
    "                                  scoring='mean_squared_error', random_state=91)\n",
    "        random_search = rand.fit(X,y)\n",
    "        df_rand = get_data_frame(rand.grid_scores_)\n",
    "        df_log.loc[n_iter][n] = df_rand.iloc[0].mean_score\n",
    "\n",
    "plt.xlabel('number of iterations',size=24)\n",
    "plt.ylabel('negative MSE',size=24)\n",
    "df_log.mean(axis=1).plot() # plotting right from pandas series"
   ]
  },
  {
   "cell_type": "markdown",
   "metadata": {},
   "source": [
    "##Pipelines"
   ]
  },
  {
   "cell_type": "markdown",
   "metadata": {},
   "source": [
    "Pipelines allow you to chain functions together. This is useful when we want to optimize parameters on two or more functions. In this example, we first perfrom PCA on the data, then we perform our classification.  \n",
    "\n",
    "*Note that this is a bad example statistically because PCA should not change our predictions much (it is simply a linear combination of the original variables). A real-world example would be text classification in which you would have to tune a text vectorizer and a classifier, or if you had very large data and wanted to reduce computation time"
   ]
  },
  {
   "cell_type": "code",
   "execution_count": 64,
   "metadata": {
    "collapsed": true
   },
   "outputs": [],
   "source": [
    "from sklearn.pipeline import Pipeline\n",
    "from sklearn.decomposition import PCA\n",
    "from scipy.stats import uniform\n",
    "from sklearn import datasets\n",
    "from sklearn.ensemble import RandomForestClassifier"
   ]
  },
  {
   "cell_type": "code",
   "execution_count": 58,
   "metadata": {
    "collapsed": false
   },
   "outputs": [],
   "source": [
    "digits = datasets.load_digits()\n",
    "X_digits = digits.data\n",
    "y_digits = digits.target"
   ]
  },
  {
   "cell_type": "markdown",
   "metadata": {},
   "source": [
    "######Define pipeline and parameter space\n",
    "* Note the new parameter **pc_range**\n",
    "* Now that we have two function in a pipeline, we must specify which parameter belongs to which function"
   ]
  },
  {
   "cell_type": "code",
   "execution_count": 65,
   "metadata": {
    "collapsed": false
   },
   "outputs": [],
   "source": [
    "pca = PCA()\n",
    "forest_class = RandomForestClassifier(n_estimators = 100, random_state=91)\n",
    "# we have to specify names for the elements of the pipeline\n",
    "# I've called pca 'components' and the random forest 'rfc'\n",
    "pipeline = Pipeline([(\"components\", pca), (\"rfc\", forest_class)])\n",
    "\n",
    "feat_range = uniform(0,1)\n",
    "depth_range = sp_randint(1,51)\n",
    "boot_range = [True, False]\n",
    "pc_range = sp_randint(1,X_digits.shape[1])\n",
    "\n",
    "params = {'rfc__max_features':feat_range,\n",
    "         'rfc__max_depth':depth_range,\n",
    "         'rfc__bootstrap':boot_range,\n",
    "         'components__n_components':pc_range}\n"
   ]
  },
  {
   "cell_type": "markdown",
   "metadata": {},
   "source": [
    "######Perform Randomized Search and inspect the results\n",
    "\n",
    "Notice that we simply pass the pipeline to the Randomized Search. "
   ]
  },
  {
   "cell_type": "code",
   "execution_count": 66,
   "metadata": {
    "collapsed": false
   },
   "outputs": [
    {
     "name": "stdout",
     "output_type": "stream",
     "text": [
      "63 seconds elapsed during randomized search\n"
     ]
    },
    {
     "data": {
      "text/html": [
       "<div style=\"max-height:1000px;max-width:1500px;overflow:auto;\">\n",
       "<table border=\"1\" class=\"dataframe\">\n",
       "  <thead>\n",
       "    <tr style=\"text-align: right;\">\n",
       "      <th></th>\n",
       "      <th>params</th>\n",
       "      <th>mean_score</th>\n",
       "      <th>sd</th>\n",
       "    </tr>\n",
       "  </thead>\n",
       "  <tbody>\n",
       "    <tr>\n",
       "      <th>0</th>\n",
       "      <td> {u'rfc__max_depth': 30, u'rfc__bootstrap': Tru...</td>\n",
       "      <td> 0.929883</td>\n",
       "      <td> 0.022405</td>\n",
       "    </tr>\n",
       "    <tr>\n",
       "      <th>1</th>\n",
       "      <td> {u'rfc__max_depth': 10, u'rfc__bootstrap': Tru...</td>\n",
       "      <td> 0.927101</td>\n",
       "      <td> 0.024923</td>\n",
       "    </tr>\n",
       "    <tr>\n",
       "      <th>4</th>\n",
       "      <td> {u'rfc__max_depth': 20, u'rfc__bootstrap': Fal...</td>\n",
       "      <td> 0.922092</td>\n",
       "      <td> 0.022713</td>\n",
       "    </tr>\n",
       "    <tr>\n",
       "      <th>5</th>\n",
       "      <td> {u'rfc__max_depth': 42, u'rfc__bootstrap': Tru...</td>\n",
       "      <td> 0.919866</td>\n",
       "      <td> 0.017024</td>\n",
       "    </tr>\n",
       "    <tr>\n",
       "      <th>2</th>\n",
       "      <td> {u'rfc__max_depth': 33, u'rfc__bootstrap': Tru...</td>\n",
       "      <td> 0.916528</td>\n",
       "      <td> 0.020357</td>\n",
       "    </tr>\n",
       "    <tr>\n",
       "      <th>7</th>\n",
       "      <td> {u'rfc__max_depth': 27, u'rfc__bootstrap': Tru...</td>\n",
       "      <td> 0.915415</td>\n",
       "      <td> 0.028417</td>\n",
       "    </tr>\n",
       "    <tr>\n",
       "      <th>8</th>\n",
       "      <td> {u'rfc__max_depth': 8, u'rfc__bootstrap': True...</td>\n",
       "      <td> 0.904285</td>\n",
       "      <td> 0.022453</td>\n",
       "    </tr>\n",
       "    <tr>\n",
       "      <th>6</th>\n",
       "      <td> {u'rfc__max_depth': 31, u'rfc__bootstrap': Fal...</td>\n",
       "      <td> 0.902615</td>\n",
       "      <td> 0.026475</td>\n",
       "    </tr>\n",
       "    <tr>\n",
       "      <th>3</th>\n",
       "      <td> {u'rfc__max_depth': 16, u'rfc__bootstrap': Tru...</td>\n",
       "      <td> 0.895938</td>\n",
       "      <td> 0.022642</td>\n",
       "    </tr>\n",
       "    <tr>\n",
       "      <th>9</th>\n",
       "      <td> {u'rfc__max_depth': 18, u'rfc__bootstrap': Fal...</td>\n",
       "      <td> 0.873122</td>\n",
       "      <td> 0.020347</td>\n",
       "    </tr>\n",
       "  </tbody>\n",
       "</table>\n",
       "</div>"
      ],
      "text/plain": [
       "                                              params  mean_score        sd\n",
       "0  {u'rfc__max_depth': 30, u'rfc__bootstrap': Tru...    0.929883  0.022405\n",
       "1  {u'rfc__max_depth': 10, u'rfc__bootstrap': Tru...    0.927101  0.024923\n",
       "4  {u'rfc__max_depth': 20, u'rfc__bootstrap': Fal...    0.922092  0.022713\n",
       "5  {u'rfc__max_depth': 42, u'rfc__bootstrap': Tru...    0.919866  0.017024\n",
       "2  {u'rfc__max_depth': 33, u'rfc__bootstrap': Tru...    0.916528  0.020357\n",
       "7  {u'rfc__max_depth': 27, u'rfc__bootstrap': Tru...    0.915415  0.028417\n",
       "8  {u'rfc__max_depth': 8, u'rfc__bootstrap': True...    0.904285  0.022453\n",
       "6  {u'rfc__max_depth': 31, u'rfc__bootstrap': Fal...    0.902615  0.026475\n",
       "3  {u'rfc__max_depth': 16, u'rfc__bootstrap': Tru...    0.895938  0.022642\n",
       "9  {u'rfc__max_depth': 18, u'rfc__bootstrap': Fal...    0.873122  0.020347"
      ]
     },
     "execution_count": 66,
     "metadata": {},
     "output_type": "execute_result"
    }
   ],
   "source": [
    "search = RandomizedSearchCV(pipeline, params, cv=5, n_jobs=1, n_iter=10, scoring='accuracy', random_state=91)\n",
    "\n",
    "start = datetime.datetime.now()\n",
    "\n",
    "pipe_search = search.fit(X_digits,y_digits)\n",
    "\n",
    "elapsed = datetime.datetime.now() - start\n",
    "print('{0} seconds elapsed during randomized search'.format(elapsed.seconds))\n",
    "\n",
    "df_pipe = get_data_frame(search.grid_scores_)\n",
    "df_pipe"
   ]
  },
  {
   "cell_type": "markdown",
   "metadata": {},
   "source": [
    "##Model Assessment\n",
    "\n",
    "In practice, it is (sorta) acceptable to perform hyperparameter optimization on the entire dataset because the cross-validation scores are computed by fitting the model on a subset of the data and testing it on different data. After we have found the optimal values of hyperparameters, we can use them to train a model on training data to assess performance.\n",
    "\n",
    "This step isn't totally necessary as we already have an estimate of our validation error, however we can access some extra functionality in scikit learn by doing it this way."
   ]
  },
  {
   "cell_type": "markdown",
   "metadata": {},
   "source": [
    "####Select and fit a model on training data"
   ]
  },
  {
   "cell_type": "code",
   "execution_count": 91,
   "metadata": {
    "collapsed": true
   },
   "outputs": [],
   "source": [
    "X_train, X_test, y_train, y_test = train_test_split(X_digits, y_digits, test_size=0.2, random_state=91)"
   ]
  },
  {
   "cell_type": "code",
   "execution_count": 93,
   "metadata": {
    "collapsed": false
   },
   "outputs": [],
   "source": [
    "forest = pipe_search.best_estimator_ # just grab the best estimator from before (the random search)\n",
    "y_pred = forest.fit(X_train, y_train).predict(X_test)"
   ]
  },
  {
   "cell_type": "markdown",
   "metadata": {},
   "source": [
    "####Confusion Matrices and Classification Reports"
   ]
  },
  {
   "cell_type": "code",
   "execution_count": 94,
   "metadata": {
    "collapsed": true
   },
   "outputs": [],
   "source": [
    "from sklearn.metrics import confusion_matrix\n",
    "from sklearn.metrics import classification_report"
   ]
  },
  {
   "cell_type": "code",
   "execution_count": 95,
   "metadata": {
    "collapsed": true
   },
   "outputs": [],
   "source": [
    "df_confusion = pd.crosstab(y_test, y_pred, rownames=['Actual'], colnames=['Predicted'])"
   ]
  },
  {
   "cell_type": "code",
   "execution_count": 96,
   "metadata": {
    "collapsed": false,
    "scrolled": true
   },
   "outputs": [
    {
     "data": {
      "text/plain": [
       "<matplotlib.text.Text at 0x7f8e3dd2f390>"
      ]
     },
     "execution_count": 96,
     "metadata": {},
     "output_type": "execute_result"
    },
    {
     "data": {
      "image/png": "[encoded data removed]",
      "text/plain": [
       "<matplotlib.figure.Figure at 0x7f8e173c2310>"
      ]
     },
     "metadata": {},
     "output_type": "display_data"
    }
   ],
   "source": [
    "plt.imshow(df_confusion,interpolation='nearest')\n",
    "plt.colorbar()\n",
    "tick_marks = np.arange(len(df_confusion.columns))\n",
    "plt.xticks(tick_marks, df_confusion.columns)\n",
    "plt.yticks(tick_marks, df_confusion.index)\n",
    "plt.ylabel(df_confusion.index.name)\n",
    "plt.xlabel(df_confusion.columns.name)"
   ]
  },
  {
   "cell_type": "code",
   "execution_count": 97,
   "metadata": {
    "collapsed": false
   },
   "outputs": [
    {
     "name": "stdout",
     "output_type": "stream",
     "text": [
      "             precision    recall  f1-score   support\n",
      "\n",
      "          0       1.00      0.97      0.98        32\n",
      "          1       0.90      1.00      0.95        37\n",
      "          2       1.00      1.00      1.00        38\n",
      "          3       1.00      1.00      1.00        42\n",
      "          4       0.97      1.00      0.99        34\n",
      "          5       1.00      0.97      0.98        31\n",
      "          6       1.00      1.00      1.00        35\n",
      "          7       0.97      1.00      0.99        36\n",
      "          8       1.00      0.89      0.94        36\n",
      "          9       0.97      0.97      0.97        39\n",
      "\n",
      "avg / total       0.98      0.98      0.98       360\n",
      "\n"
     ]
    }
   ],
   "source": [
    "print(classification_report(y_test,y_pred))"
   ]
  },
  {
   "cell_type": "markdown",
   "metadata": {},
   "source": [
    "###References\n",
    "\n",
    "* http://www.jmlr.org/papers/volume13/bergstra12a/bergstra12a.pdf\n",
    "* http://scikit-learn.org/stable/auto_examples/model_selection/randomized_search.html"
   ]
  }
 ],
 "metadata": {
  "kernelspec": {
   "display_name": "Python 2",
   "language": "python",
   "name": "python2"
  },
  "language_info": {
   "codemirror_mode": {
    "name": "ipython",
    "version": 2
   },
   "file_extension": ".py",
   "mimetype": "text/x-python",
   "name": "python",
   "nbconvert_exporter": "python",
   "pygments_lexer": "ipython2",
   "version": "2.7.9"
  }
 },
 "nbformat": 4,
 "nbformat_minor": 0
}
