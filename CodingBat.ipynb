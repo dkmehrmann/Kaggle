{
 "cells": [
  {
   "cell_type": "markdown",
   "metadata": {},
   "source": [
    "#Coding Bat Exercises\n",
    "Taken from http://codingbat.com/python"
   ]
  },
  {
   "cell_type": "markdown",
   "metadata": {},
   "source": [
    "##[Logic 2](http://codingbat.com/python/Logic-2)"
   ]
  },
  {
   "cell_type": "markdown",
   "metadata": {},
   "source": [
    "####Make Bricks\n",
    "We want to make a row of bricks that is goal inches long. We have a number of small bricks (1 inch each) and big bricks (5 inches each). Return True if it is possible to make the goal by choosing from the given bricks. This is a little harder than it looks and can be done without any loops."
   ]
  },
  {
   "cell_type": "code",
   "execution_count": 44,
   "metadata": {
    "collapsed": true
   },
   "outputs": [],
   "source": [
    "def make_bricks(small, big, goal):\n",
    "    if 5*big >= goal:\n",
    "        big_needed = goal//5\n",
    "        rmdr = goal - 5*big_needed\n",
    "        if small >= rmdr:\n",
    "            return True\n",
    "        else:\n",
    "            return False\n",
    "    else:\n",
    "        if 5*big+small >= goal:\n",
    "            return True\n",
    "        else:\n",
    "            return False\n",
    "    "
   ]
  },
  {
   "cell_type": "code",
   "execution_count": 45,
   "metadata": {
    "collapsed": false
   },
   "outputs": [
    {
     "data": {
      "text/plain": [
       "False"
      ]
     },
     "execution_count": 45,
     "metadata": {},
     "output_type": "execute_result"
    }
   ],
   "source": [
    "make_bricks(1,4,12)"
   ]
  },
  {
   "cell_type": "markdown",
   "metadata": {},
   "source": [
    "####Lucky Sum\n",
    "\n",
    "Given 3 int values, a b c, return their sum. However, if one of the values is 13 then it does not count towards the sum and values to its right do not count. So for example, if b is 13, then both b and c do not count. "
   ]
  },
  {
   "cell_type": "code",
   "execution_count": 3,
   "metadata": {
    "collapsed": false
   },
   "outputs": [],
   "source": [
    "def lucky_sum(a, b, c):\n",
    "    sm=0\n",
    "    for i in [a,b,c]:\n",
    "        if i != 13:\n",
    "            sm+=i\n",
    "        else:\n",
    "            return sm\n",
    "    return sm"
   ]
  },
  {
   "cell_type": "code",
   "execution_count": 4,
   "metadata": {
    "collapsed": false
   },
   "outputs": [
    {
     "data": {
      "text/plain": [
       "1"
      ]
     },
     "execution_count": 4,
     "metadata": {},
     "output_type": "execute_result"
    }
   ],
   "source": [
    "lucky_sum(1,13,2)"
   ]
  },
  {
   "cell_type": "markdown",
   "metadata": {},
   "source": [
    "####Lone Sum\n",
    "Given 3 int values, a b c, return their sum. However, if one of the values is the same as another of the values, it does not count towards the sum. "
   ]
  },
  {
   "cell_type": "code",
   "execution_count": 5,
   "metadata": {
    "collapsed": false
   },
   "outputs": [],
   "source": [
    "def lone_sum(a, b, c):\n",
    "    lst = [a,b,c]\n",
    "    sm=0\n",
    "    for i in range(0,len(lst)):\n",
    "        x = lst[:]\n",
    "        x.remove(lst[i])\n",
    "        if lst[i] not in x:\n",
    "            sm+=lst[i]\n",
    "    return sm"
   ]
  },
  {
   "cell_type": "code",
   "execution_count": 6,
   "metadata": {
    "collapsed": false
   },
   "outputs": [
    {
     "data": {
      "text/plain": [
       "6"
      ]
     },
     "execution_count": 6,
     "metadata": {},
     "output_type": "execute_result"
    }
   ],
   "source": [
    "lone_sum(1,2,3)"
   ]
  },
  {
   "cell_type": "markdown",
   "metadata": {},
   "source": [
    "####No Teen Sum\n",
    "\n",
    "Given 3 int values, a b c, return their sum. However, if any of the values is a teen -- in the range 13..19 inclusive -- then that value counts as 0, except 15 and 16 do not count as a teens. Write a separate helper \"def fix_teen(n):\"that takes in an int value and returns that value fixed for the teen rule. In this way, you avoid repeating the teen code 3 times (i.e. \"decomposition\"). Define the helper below and at the same indent level as the main no_teen_sum(). "
   ]
  },
  {
   "cell_type": "code",
   "execution_count": 7,
   "metadata": {
    "collapsed": false
   },
   "outputs": [],
   "source": [
    "def fix_teen(n):\n",
    "    if n == 15 or n==16:\n",
    "        return n\n",
    "    elif n >=13 and n<=19:\n",
    "        return 0\n",
    "    else:\n",
    "        return n\n",
    "    \n",
    "def no_teen_sum(a, b, c):\n",
    "    sm=0\n",
    "    for i in [a,b,c]:\n",
    "        n = fix_teen(i)\n",
    "        sm +=n\n",
    "    return sm"
   ]
  },
  {
   "cell_type": "code",
   "execution_count": 8,
   "metadata": {
    "collapsed": false
   },
   "outputs": [
    {
     "data": {
      "text/plain": [
       "16"
      ]
     },
     "execution_count": 8,
     "metadata": {},
     "output_type": "execute_result"
    }
   ],
   "source": [
    "no_teen_sum(1,13,15)"
   ]
  },
  {
   "cell_type": "markdown",
   "metadata": {},
   "source": [
    "####Round Sum\n",
    "\n",
    "For this problem, we'll round an int value up to the next multiple of 10 if its rightmost digit is 5 or more, so 15 rounds up to 20. Alternately, round down to the previous multiple of 10 if its rightmost digit is less than 5, so 12 rounds down to 10. Given 3 ints, a b c, return the sum of their rounded values. To avoid code repetition, write a separate helper \"def round10(num):\" and call it 3 times. Write the helper entirely below and at the same indent level as round_sum(). "
   ]
  },
  {
   "cell_type": "code",
   "execution_count": 9,
   "metadata": {
    "collapsed": false
   },
   "outputs": [],
   "source": [
    "def round10(num):\n",
    "    if num % 10 >=5:\n",
    "        return 10-num%10+num\n",
    "    else:\n",
    "        return num- num%10\n",
    "\n",
    "def round_sum(a, b, c):\n",
    "    lst = [a,b,c]\n",
    "    return sum([round10(x) for x in lst])"
   ]
  },
  {
   "cell_type": "code",
   "execution_count": 10,
   "metadata": {
    "collapsed": false
   },
   "outputs": [
    {
     "data": {
      "text/plain": [
       "10"
      ]
     },
     "execution_count": 10,
     "metadata": {},
     "output_type": "execute_result"
    }
   ],
   "source": [
    "round_sum(1,12,3)"
   ]
  },
  {
   "cell_type": "markdown",
   "metadata": {},
   "source": [
    "####Close Far\n",
    "\n",
    "Given three ints, a b c, return True if one of b or c is \"close\" (differing from a by at most 1), while the other is \"far\", differing from both other values by 2 or more. Note: abs(num) computes the absolute value of a number. "
   ]
  },
  {
   "cell_type": "code",
   "execution_count": 11,
   "metadata": {
    "collapsed": false
   },
   "outputs": [],
   "source": [
    "def close_far(a, b, c):\n",
    "    dev1 = abs(a-b)\n",
    "    dev2 = abs(a-c)\n",
    "    dev3 = abs(b-c)\n",
    "    return sum([x<=1 for x in [dev1,dev2,dev3]]) == 1"
   ]
  },
  {
   "cell_type": "code",
   "execution_count": 12,
   "metadata": {
    "collapsed": false
   },
   "outputs": [
    {
     "data": {
      "text/plain": [
       "True"
      ]
     },
     "execution_count": 12,
     "metadata": {},
     "output_type": "execute_result"
    }
   ],
   "source": [
    "close_far(1,1,3)"
   ]
  },
  {
   "cell_type": "markdown",
   "metadata": {},
   "source": [
    "####Make Chocolate\n",
    "\n",
    "We want make a package of goal kilos of chocolate. We have small bars (1 kilo each) and big bars (5 kilos each). Return the number of small bars to use, assuming we always use big bars before small bars. Return -1 if it can't be done. "
   ]
  },
  {
   "cell_type": "code",
   "execution_count": 18,
   "metadata": {
    "collapsed": false
   },
   "outputs": [],
   "source": [
    "def make_chocolate(small, big, goal):\n",
    "    if 5*big >= goal:\n",
    "        big_needed = goal//5\n",
    "        rmdr = goal - 5*big_needed\n",
    "        if small >= rmdr:\n",
    "            return rmdr\n",
    "        else:\n",
    "            return -1\n",
    "    else:\n",
    "        if 5*big+small >= goal:\n",
    "            return goal-5*big\n",
    "        else:\n",
    "            return -1"
   ]
  },
  {
   "cell_type": "code",
   "execution_count": 19,
   "metadata": {
    "collapsed": false
   },
   "outputs": [
    {
     "data": {
      "text/plain": [
       "4"
      ]
     },
     "execution_count": 19,
     "metadata": {},
     "output_type": "execute_result"
    }
   ],
   "source": [
    "make_chocolate(4, 1, 9)"
   ]
  }
 ],
 "metadata": {
  "kernelspec": {
   "display_name": "Python 3",
   "language": "python",
   "name": "python3"
  },
  "language_info": {
   "codemirror_mode": {
    "name": "ipython",
    "version": 3
   },
   "file_extension": ".py",
   "mimetype": "text/x-python",
   "name": "python",
   "nbconvert_exporter": "python",
   "pygments_lexer": "ipython3",
   "version": "3.4.3"
  }
 },
 "nbformat": 4,
 "nbformat_minor": 0
}
