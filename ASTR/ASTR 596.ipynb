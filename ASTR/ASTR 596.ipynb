{
 "cells": [
  {
   "cell_type": "markdown",
   "metadata": {},
   "source": [
    "#Grid vs. Randomized Searches for Hyperparameter Optimization\n",
    "###Author: Andrew Mehrmann\n",
    "###ASTR 596"
   ]
  },
  {
   "cell_type": "code",
   "execution_count": 1,
   "metadata": {
    "collapsed": true
   },
   "outputs": [],
   "source": [
    "%matplotlib inline"
   ]
  },
  {
   "cell_type": "code",
   "execution_count": 170,
   "metadata": {
    "collapsed": false
   },
   "outputs": [],
   "source": [
    "import pandas as pd\n",
    "import matplotlib.pyplot as plt\n",
    "import numpy as np\n",
    "import datetime\n",
    "from collections import Counter\n",
    "from sklearn import datasets\n",
    "from sklearn.cross_validation import train_test_split\n",
    "from sklearn.grid_search import GridSearchCV\n",
    "from sklearn.grid_search import RandomizedSearchCV\n",
    "from sklearn.metrics import classification_report\n",
    "from scipy.stats import randint as sp_randint\n",
    "from sklearn.ensemble import RandomForestClassifier"
   ]
  },
  {
   "cell_type": "markdown",
   "metadata": {},
   "source": [
    "###Load in and Inspect the Data"
   ]
  },
  {
   "cell_type": "code",
   "execution_count": 38,
   "metadata": {
    "collapsed": false
   },
   "outputs": [],
   "source": [
    "dgts = datasets.load_digits()\n",
    "X = dgts.data\n",
    "y = dgts.target"
   ]
  },
  {
   "cell_type": "code",
   "execution_count": null,
   "metadata": {
    "collapsed": true
   },
   "outputs": [],
   "source": [
    "Counter(y)"
   ]
  },
  {
   "cell_type": "code",
   "execution_count": 41,
   "metadata": {
    "collapsed": false
   },
   "outputs": [
    {
     "data": {
      "text/plain": [
       "(1797, 64)"
      ]
     },
     "execution_count": 41,
     "metadata": {},
     "output_type": "execute_result"
    }
   ],
   "source": [
    "X.shape"
   ]
  },
  {
   "cell_type": "markdown",
   "metadata": {},
   "source": [
    "###Define the classifier"
   ]
  },
  {
   "cell_type": "code",
   "execution_count": 175,
   "metadata": {
    "collapsed": false
   },
   "outputs": [],
   "source": [
    "forest = RandomForestClassifier(n_estimators = 100)"
   ]
  },
  {
   "cell_type": "markdown",
   "metadata": {},
   "source": [
    "##Grid (Exhaustive) Search"
   ]
  },
  {
   "cell_type": "code",
   "execution_count": 197,
   "metadata": {
    "collapsed": false
   },
   "outputs": [
    {
     "name": "stdout",
     "output_type": "stream",
     "text": [
      "the exhaustive search will examine 14 candidates\n"
     ]
    }
   ],
   "source": [
    "feat_range = np.arange(1,X.shape[1],10)\n",
    "depth_range = np.arange(1,51,10)\n",
    "boot_range = [True, False]\n",
    "\n",
    "params = {'max_features':feat_range,\n",
    "         'max_depth':depth_range,\n",
    "         'bootstrap':boot_range}\n",
    "\n",
    "n_combos = len(feat_range) + len(depth_range) + len(boot_range)\n",
    "\n",
    "print('the exhaustive search will examine {0} candidates'.format(n_combos))"
   ]
  },
  {
   "cell_type": "code",
   "execution_count": 198,
   "metadata": {
    "collapsed": false
   },
   "outputs": [
    {
     "name": "stdout",
     "output_type": "stream",
     "text": [
      "115 seconds elapsed during exhaustive search\n"
     ]
    },
    {
     "data": {
      "text/html": [
       "<div style=\"max-height:1000px;max-width:1500px;overflow:auto;\">\n",
       "<table border=\"1\" class=\"dataframe\">\n",
       "  <thead>\n",
       "    <tr style=\"text-align: right;\">\n",
       "      <th></th>\n",
       "      <th>params</th>\n",
       "      <th>mean_score</th>\n",
       "      <th>sd</th>\n",
       "    </tr>\n",
       "  </thead>\n",
       "  <tbody>\n",
       "    <tr>\n",
       "      <th>49</th>\n",
       "      <td> {u'max_features': 1, u'bootstrap': False, u'ma...</td>\n",
       "      <td> 0.947134</td>\n",
       "      <td> 0.023032</td>\n",
       "    </tr>\n",
       "    <tr>\n",
       "      <th>64</th>\n",
       "      <td> {u'max_features': 11, u'bootstrap': False, u'm...</td>\n",
       "      <td> 0.941569</td>\n",
       "      <td> 0.021652</td>\n",
       "    </tr>\n",
       "    <tr>\n",
       "      <th>57</th>\n",
       "      <td> {u'max_features': 11, u'bootstrap': False, u'm...</td>\n",
       "      <td> 0.941569</td>\n",
       "      <td> 0.019424</td>\n",
       "    </tr>\n",
       "    <tr>\n",
       "      <th>21</th>\n",
       "      <td> {u'max_features': 1, u'bootstrap': True, u'max...</td>\n",
       "      <td> 0.941013</td>\n",
       "      <td> 0.020036</td>\n",
       "    </tr>\n",
       "    <tr>\n",
       "      <th>63</th>\n",
       "      <td> {u'max_features': 1, u'bootstrap': False, u'ma...</td>\n",
       "      <td> 0.940456</td>\n",
       "      <td> 0.017386</td>\n",
       "    </tr>\n",
       "    <tr>\n",
       "      <th>43</th>\n",
       "      <td> {u'max_features': 11, u'bootstrap': False, u'm...</td>\n",
       "      <td> 0.939900</td>\n",
       "      <td> 0.019200</td>\n",
       "    </tr>\n",
       "    <tr>\n",
       "      <th>8 </th>\n",
       "      <td> {u'max_features': 11, u'bootstrap': True, u'ma...</td>\n",
       "      <td> 0.939900</td>\n",
       "      <td> 0.020229</td>\n",
       "    </tr>\n",
       "    <tr>\n",
       "      <th>56</th>\n",
       "      <td> {u'max_features': 1, u'bootstrap': False, u'ma...</td>\n",
       "      <td> 0.939900</td>\n",
       "      <td> 0.021638</td>\n",
       "    </tr>\n",
       "    <tr>\n",
       "      <th>50</th>\n",
       "      <td> {u'max_features': 11, u'bootstrap': False, u'm...</td>\n",
       "      <td> 0.939343</td>\n",
       "      <td> 0.026921</td>\n",
       "    </tr>\n",
       "    <tr>\n",
       "      <th>14</th>\n",
       "      <td> {u'max_features': 1, u'bootstrap': True, u'max...</td>\n",
       "      <td> 0.938787</td>\n",
       "      <td> 0.023742</td>\n",
       "    </tr>\n",
       "  </tbody>\n",
       "</table>\n",
       "</div>"
      ],
      "text/plain": [
       "                                               params  mean_score        sd\n",
       "49  {u'max_features': 1, u'bootstrap': False, u'ma...    0.947134  0.023032\n",
       "64  {u'max_features': 11, u'bootstrap': False, u'm...    0.941569  0.021652\n",
       "57  {u'max_features': 11, u'bootstrap': False, u'm...    0.941569  0.019424\n",
       "21  {u'max_features': 1, u'bootstrap': True, u'max...    0.941013  0.020036\n",
       "63  {u'max_features': 1, u'bootstrap': False, u'ma...    0.940456  0.017386\n",
       "43  {u'max_features': 11, u'bootstrap': False, u'm...    0.939900  0.019200\n",
       "8   {u'max_features': 11, u'bootstrap': True, u'ma...    0.939900  0.020229\n",
       "56  {u'max_features': 1, u'bootstrap': False, u'ma...    0.939900  0.021638\n",
       "50  {u'max_features': 11, u'bootstrap': False, u'm...    0.939343  0.026921\n",
       "14  {u'max_features': 1, u'bootstrap': True, u'max...    0.938787  0.023742"
      ]
     },
     "execution_count": 198,
     "metadata": {},
     "output_type": "execute_result"
    }
   ],
   "source": [
    "grid = GridSearchCV(forest, params, cv = 5, n_jobs=-1, scoring='accuracy')\n",
    "\n",
    "start = datetime.datetime.now()\n",
    "\n",
    "temp = grid.fit(X,y)\n",
    "\n",
    "elapsed = datetime.datetime.now() - start\n",
    "print('{0} seconds elapsed during exhaustive search'.format(elapsed.seconds))\n",
    "\n",
    "df = pd.DataFrame(grid.grid_scores_)\n",
    "df.columns = ['params','mean_score','scores']\n",
    "df['sd'] = df.scores.apply(np.std)\n",
    "df = df.drop('scores',axis=1)\n",
    "df_sorted = df.sort('mean_score', ascending=False)\n",
    "df_sorted.head(10)"
   ]
  },
  {
   "cell_type": "markdown",
   "metadata": {},
   "source": [
    "##Randomized Search"
   ]
  },
  {
   "cell_type": "code",
   "execution_count": 194,
   "metadata": {
    "collapsed": false
   },
   "outputs": [
    {
     "name": "stdout",
     "output_type": "stream",
     "text": [
      "the randomized search will examine 5 candidates\n"
     ]
    }
   ],
   "source": [
    "n_iter = 5\n",
    "\n",
    "feat_range = sp_randint(1,X.shape[1])\n",
    "depth_range = sp_randint(1,51)\n",
    "boot_range = [True, False]\n",
    "\n",
    "\n",
    "params = {'max_features':feat_range,\n",
    "         'max_depth':depth_range,\n",
    "         'bootstrap':boot_range}\n",
    "\n",
    "print('the randomized search will examine {0} candidates'.format(n_iter))"
   ]
  },
  {
   "cell_type": "code",
   "execution_count": 195,
   "metadata": {
    "collapsed": false
   },
   "outputs": [
    {
     "name": "stdout",
     "output_type": "stream",
     "text": [
      "8 seconds elapsed during randomized search\n"
     ]
    },
    {
     "data": {
      "text/html": [
       "<div style=\"max-height:1000px;max-width:1500px;overflow:auto;\">\n",
       "<table border=\"1\" class=\"dataframe\">\n",
       "  <thead>\n",
       "    <tr style=\"text-align: right;\">\n",
       "      <th></th>\n",
       "      <th>params</th>\n",
       "      <th>mean_score</th>\n",
       "      <th>scores</th>\n",
       "      <th>sd</th>\n",
       "    </tr>\n",
       "  </thead>\n",
       "  <tbody>\n",
       "    <tr>\n",
       "      <th>1</th>\n",
       "      <td> {u'max_features': 8, u'bootstrap': True, u'cri...</td>\n",
       "      <td> 0.942682</td>\n",
       "      <td> [0.93956043956, 0.906077348066, 0.961002785515...</td>\n",
       "      <td> 0.021952</td>\n",
       "    </tr>\n",
       "    <tr>\n",
       "      <th>3</th>\n",
       "      <td> {u'max_features': 13, u'bootstrap': True, u'cr...</td>\n",
       "      <td> 0.940456</td>\n",
       "      <td> [0.936813186813, 0.922651933702, 0.95821727019...</td>\n",
       "      <td> 0.015103</td>\n",
       "    </tr>\n",
       "    <tr>\n",
       "      <th>2</th>\n",
       "      <td> {u'max_features': 8, u'bootstrap': False, u'cr...</td>\n",
       "      <td> 0.939900</td>\n",
       "      <td> [0.934065934066, 0.911602209945, 0.95821727019...</td>\n",
       "      <td> 0.019892</td>\n",
       "    </tr>\n",
       "    <tr>\n",
       "      <th>0</th>\n",
       "      <td> {u'max_features': 42, u'bootstrap': False, u'c...</td>\n",
       "      <td> 0.900390</td>\n",
       "      <td> [0.903846153846, 0.872928176796, 0.94150417827...</td>\n",
       "      <td> 0.029601</td>\n",
       "    </tr>\n",
       "    <tr>\n",
       "      <th>4</th>\n",
       "      <td> {u'max_features': 10, u'bootstrap': True, u'cr...</td>\n",
       "      <td> 0.844741</td>\n",
       "      <td> [0.879120879121, 0.812154696133, 0.82729805013...</td>\n",
       "      <td> 0.028760</td>\n",
       "    </tr>\n",
       "  </tbody>\n",
       "</table>\n",
       "</div>"
      ],
      "text/plain": [
       "                                              params  mean_score  \\\n",
       "1  {u'max_features': 8, u'bootstrap': True, u'cri...    0.942682   \n",
       "3  {u'max_features': 13, u'bootstrap': True, u'cr...    0.940456   \n",
       "2  {u'max_features': 8, u'bootstrap': False, u'cr...    0.939900   \n",
       "0  {u'max_features': 42, u'bootstrap': False, u'c...    0.900390   \n",
       "4  {u'max_features': 10, u'bootstrap': True, u'cr...    0.844741   \n",
       "\n",
       "                                              scores        sd  \n",
       "1  [0.93956043956, 0.906077348066, 0.961002785515...  0.021952  \n",
       "3  [0.936813186813, 0.922651933702, 0.95821727019...  0.015103  \n",
       "2  [0.934065934066, 0.911602209945, 0.95821727019...  0.019892  \n",
       "0  [0.903846153846, 0.872928176796, 0.94150417827...  0.029601  \n",
       "4  [0.879120879121, 0.812154696133, 0.82729805013...  0.028760  "
      ]
     },
     "execution_count": 195,
     "metadata": {},
     "output_type": "execute_result"
    }
   ],
   "source": [
    "rand = RandomizedSearchCV(forest, params, cv=5, n_jobs=-1, n_iter=n_iter, scoring='accuracy')\n",
    "\n",
    "start = datetime.datetime.now()\n",
    "\n",
    "temp = rand.fit(X,y)\n",
    "\n",
    "elapsed = datetime.datetime.now() - start\n",
    "print('{0} seconds elapsed during randomized search'.format(elapsed.seconds))\n",
    "\n",
    "df_rand = pd.DataFrame(rand.grid_scores_)\n",
    "df_rand.columns = ['params','mean_score','scores']\n",
    "df_rand['sd'] = df_rand.scores.apply(np.std)\n",
    "df_rand = df_rand.drop('scores',axis=1)\n",
    "df_rand_sorted = df_rand.sort('mean_score', ascending=False)\n",
    "df_rand_sorted\n"
   ]
  },
  {
   "cell_type": "markdown",
   "metadata": {},
   "source": [
    "##Pipelines"
   ]
  },
  {
   "cell_type": "code",
   "execution_count": 200,
   "metadata": {
    "collapsed": true
   },
   "outputs": [],
   "source": [
    "from sklearn.pipeline import Pipeline\n",
    "from sklearn.decomposition import PCA\n",
    "from scipy.stats import uniform"
   ]
  },
  {
   "cell_type": "code",
   "execution_count": 221,
   "metadata": {
    "collapsed": true
   },
   "outputs": [],
   "source": [
    "pca = PCA()\n",
    "pipeline = Pipeline([(\"components\", pca), (\"rfc\", forest)])\n",
    "\n",
    "feat_range = uniform(0,1)\n",
    "depth_range = sp_randint(1,51)\n",
    "boot_range = [True, False]\n",
    "pc_range = sp_randint(1,X.shape[1])\n",
    "\n",
    "params = {'rfc__max_features':feat_range,\n",
    "         'rfc__max_depth':depth_range,\n",
    "         'rfc__bootstrap':boot_range,\n",
    "         'components__n_components':pc_range}\n"
   ]
  },
  {
   "cell_type": "code",
   "execution_count": 222,
   "metadata": {
    "collapsed": false
   },
   "outputs": [
    {
     "name": "stdout",
     "output_type": "stream",
     "text": [
      "61 seconds elapsed during randomized search\n"
     ]
    },
    {
     "data": {
      "text/html": [
       "<div style=\"max-height:1000px;max-width:1500px;overflow:auto;\">\n",
       "<table border=\"1\" class=\"dataframe\">\n",
       "  <thead>\n",
       "    <tr style=\"text-align: right;\">\n",
       "      <th></th>\n",
       "      <th>params</th>\n",
       "      <th>mean_score</th>\n",
       "      <th>sd</th>\n",
       "    </tr>\n",
       "  </thead>\n",
       "  <tbody>\n",
       "    <tr>\n",
       "      <th>6 </th>\n",
       "      <td> {u'rfc__max_depth': 12, u'rfc__bootstrap': Tru...</td>\n",
       "      <td> 0.934335</td>\n",
       "      <td> 0.018038</td>\n",
       "    </tr>\n",
       "    <tr>\n",
       "      <th>10</th>\n",
       "      <td> {u'rfc__max_depth': 37, u'rfc__bootstrap': Fal...</td>\n",
       "      <td> 0.930440</td>\n",
       "      <td> 0.016398</td>\n",
       "    </tr>\n",
       "    <tr>\n",
       "      <th>8 </th>\n",
       "      <td> {u'rfc__max_depth': 50, u'rfc__bootstrap': Tru...</td>\n",
       "      <td> 0.928214</td>\n",
       "      <td> 0.018737</td>\n",
       "    </tr>\n",
       "    <tr>\n",
       "      <th>11</th>\n",
       "      <td> {u'rfc__max_depth': 32, u'rfc__bootstrap': Fal...</td>\n",
       "      <td> 0.918753</td>\n",
       "      <td> 0.023948</td>\n",
       "    </tr>\n",
       "    <tr>\n",
       "      <th>4 </th>\n",
       "      <td> {u'rfc__max_depth': 28, u'rfc__bootstrap': Fal...</td>\n",
       "      <td> 0.914858</td>\n",
       "      <td> 0.017474</td>\n",
       "    </tr>\n",
       "    <tr>\n",
       "      <th>13</th>\n",
       "      <td> {u'rfc__max_depth': 35, u'rfc__bootstrap': Tru...</td>\n",
       "      <td> 0.914302</td>\n",
       "      <td> 0.017552</td>\n",
       "    </tr>\n",
       "    <tr>\n",
       "      <th>3 </th>\n",
       "      <td> {u'rfc__max_depth': 49, u'rfc__bootstrap': Tru...</td>\n",
       "      <td> 0.913745</td>\n",
       "      <td> 0.020179</td>\n",
       "    </tr>\n",
       "    <tr>\n",
       "      <th>17</th>\n",
       "      <td> {u'rfc__max_depth': 36, u'rfc__bootstrap': Tru...</td>\n",
       "      <td> 0.909850</td>\n",
       "      <td> 0.020246</td>\n",
       "    </tr>\n",
       "    <tr>\n",
       "      <th>9 </th>\n",
       "      <td> {u'rfc__max_depth': 45, u'rfc__bootstrap': Tru...</td>\n",
       "      <td> 0.907624</td>\n",
       "      <td> 0.021491</td>\n",
       "    </tr>\n",
       "    <tr>\n",
       "      <th>5 </th>\n",
       "      <td> {u'rfc__max_depth': 9, u'rfc__bootstrap': True...</td>\n",
       "      <td> 0.907067</td>\n",
       "      <td> 0.026705</td>\n",
       "    </tr>\n",
       "    <tr>\n",
       "      <th>15</th>\n",
       "      <td> {u'rfc__max_depth': 43, u'rfc__bootstrap': Tru...</td>\n",
       "      <td> 0.903172</td>\n",
       "      <td> 0.016523</td>\n",
       "    </tr>\n",
       "    <tr>\n",
       "      <th>1 </th>\n",
       "      <td> {u'rfc__max_depth': 25, u'rfc__bootstrap': Tru...</td>\n",
       "      <td> 0.903172</td>\n",
       "      <td> 0.019789</td>\n",
       "    </tr>\n",
       "    <tr>\n",
       "      <th>0 </th>\n",
       "      <td> {u'rfc__max_depth': 21, u'rfc__bootstrap': Tru...</td>\n",
       "      <td> 0.894268</td>\n",
       "      <td> 0.023030</td>\n",
       "    </tr>\n",
       "    <tr>\n",
       "      <th>14</th>\n",
       "      <td> {u'rfc__max_depth': 47, u'rfc__bootstrap': Fal...</td>\n",
       "      <td> 0.879800</td>\n",
       "      <td> 0.016703</td>\n",
       "    </tr>\n",
       "    <tr>\n",
       "      <th>7 </th>\n",
       "      <td> {u'rfc__max_depth': 10, u'rfc__bootstrap': Fal...</td>\n",
       "      <td> 0.851976</td>\n",
       "      <td> 0.033346</td>\n",
       "    </tr>\n",
       "    <tr>\n",
       "      <th>18</th>\n",
       "      <td> {u'rfc__max_depth': 6, u'rfc__bootstrap': True...</td>\n",
       "      <td> 0.824151</td>\n",
       "      <td> 0.028111</td>\n",
       "    </tr>\n",
       "    <tr>\n",
       "      <th>12</th>\n",
       "      <td> {u'rfc__max_depth': 2, u'rfc__bootstrap': True...</td>\n",
       "      <td> 0.777963</td>\n",
       "      <td> 0.039734</td>\n",
       "    </tr>\n",
       "    <tr>\n",
       "      <th>19</th>\n",
       "      <td> {u'rfc__max_depth': 15, u'rfc__bootstrap': Tru...</td>\n",
       "      <td> 0.727880</td>\n",
       "      <td> 0.018390</td>\n",
       "    </tr>\n",
       "    <tr>\n",
       "      <th>2 </th>\n",
       "      <td> {u'rfc__max_depth': 2, u'rfc__bootstrap': Fals...</td>\n",
       "      <td> 0.639955</td>\n",
       "      <td> 0.049525</td>\n",
       "    </tr>\n",
       "    <tr>\n",
       "      <th>16</th>\n",
       "      <td> {u'rfc__max_depth': 22, u'rfc__bootstrap': Fal...</td>\n",
       "      <td> 0.284363</td>\n",
       "      <td> 0.027356</td>\n",
       "    </tr>\n",
       "  </tbody>\n",
       "</table>\n",
       "</div>"
      ],
      "text/plain": [
       "                                               params  mean_score        sd\n",
       "6   {u'rfc__max_depth': 12, u'rfc__bootstrap': Tru...    0.934335  0.018038\n",
       "10  {u'rfc__max_depth': 37, u'rfc__bootstrap': Fal...    0.930440  0.016398\n",
       "8   {u'rfc__max_depth': 50, u'rfc__bootstrap': Tru...    0.928214  0.018737\n",
       "11  {u'rfc__max_depth': 32, u'rfc__bootstrap': Fal...    0.918753  0.023948\n",
       "4   {u'rfc__max_depth': 28, u'rfc__bootstrap': Fal...    0.914858  0.017474\n",
       "13  {u'rfc__max_depth': 35, u'rfc__bootstrap': Tru...    0.914302  0.017552\n",
       "3   {u'rfc__max_depth': 49, u'rfc__bootstrap': Tru...    0.913745  0.020179\n",
       "17  {u'rfc__max_depth': 36, u'rfc__bootstrap': Tru...    0.909850  0.020246\n",
       "9   {u'rfc__max_depth': 45, u'rfc__bootstrap': Tru...    0.907624  0.021491\n",
       "5   {u'rfc__max_depth': 9, u'rfc__bootstrap': True...    0.907067  0.026705\n",
       "15  {u'rfc__max_depth': 43, u'rfc__bootstrap': Tru...    0.903172  0.016523\n",
       "1   {u'rfc__max_depth': 25, u'rfc__bootstrap': Tru...    0.903172  0.019789\n",
       "0   {u'rfc__max_depth': 21, u'rfc__bootstrap': Tru...    0.894268  0.023030\n",
       "14  {u'rfc__max_depth': 47, u'rfc__bootstrap': Fal...    0.879800  0.016703\n",
       "7   {u'rfc__max_depth': 10, u'rfc__bootstrap': Fal...    0.851976  0.033346\n",
       "18  {u'rfc__max_depth': 6, u'rfc__bootstrap': True...    0.824151  0.028111\n",
       "12  {u'rfc__max_depth': 2, u'rfc__bootstrap': True...    0.777963  0.039734\n",
       "19  {u'rfc__max_depth': 15, u'rfc__bootstrap': Tru...    0.727880  0.018390\n",
       "2   {u'rfc__max_depth': 2, u'rfc__bootstrap': Fals...    0.639955  0.049525\n",
       "16  {u'rfc__max_depth': 22, u'rfc__bootstrap': Fal...    0.284363  0.027356"
      ]
     },
     "execution_count": 222,
     "metadata": {},
     "output_type": "execute_result"
    }
   ],
   "source": [
    "search = RandomizedSearchCV(pipeline, params, cv=5, n_jobs=-1, n_iter=20, scoring='accuracy')\n",
    "\n",
    "start = datetime.datetime.now()\n",
    "\n",
    "temp = search.fit(X,y)\n",
    "\n",
    "elapsed = datetime.datetime.now() - start\n",
    "print('{0} seconds elapsed during randomized search'.format(elapsed.seconds))\n",
    "\n",
    "df_pipe = pd.DataFrame(search.grid_scores_)\n",
    "df_pipe.columns = ['params','mean_score','scores']\n",
    "df_pipe['sd'] = df_pipe.scores.apply(np.std)\n",
    "df_pipe = df_pipe.drop('scores',axis=1)\n",
    "df_pipe_sorted = df_pipe.sort('mean_score', ascending=False)\n",
    "df_pipe_sorted\n"
   ]
  },
  {
   "cell_type": "code",
   "execution_count": 228,
   "metadata": {
    "collapsed": false
   },
   "outputs": [
    {
     "data": {
      "text/plain": [
       "{'components__n_components': 38,\n",
       " 'rfc__bootstrap': True,\n",
       " 'rfc__max_depth': 35,\n",
       " 'rfc__max_features': 0.012961589710068444}"
      ]
     },
     "execution_count": 228,
     "metadata": {},
     "output_type": "execute_result"
    }
   ],
   "source": [
    "df_pipe_sorted.iloc[5].params"
   ]
  },
  {
   "cell_type": "code",
   "execution_count": 199,
   "metadata": {
    "collapsed": true
   },
   "outputs": [],
   "source": [
    "X_train, X_test, y_train, y_test = train_test_split(X, y, test_size=0.2, random_state=0)"
   ]
  },
  {
   "cell_type": "markdown",
   "metadata": {},
   "source": [
    "###References\n",
    "\n",
    "* http://www.jmlr.org/papers/volume13/bergstra12a/bergstra12a.pdf\n",
    "* http://scikit-learn.org/stable/auto_examples/model_selection/randomized_search.html"
   ]
  }
 ],
 "metadata": {
  "kernelspec": {
   "display_name": "Python 2",
   "language": "python",
   "name": "python2"
  },
  "language_info": {
   "codemirror_mode": {
    "name": "ipython",
    "version": 2
   },
   "file_extension": ".py",
   "mimetype": "text/x-python",
   "name": "python",
   "nbconvert_exporter": "python",
   "pygments_lexer": "ipython2",
   "version": "2.7.9"
  }
 },
 "nbformat": 4,
 "nbformat_minor": 0
}
