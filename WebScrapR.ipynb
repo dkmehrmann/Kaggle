{
 "cells": [
  {
   "cell_type": "code",
   "execution_count": null,
   "metadata": {
    "collapsed": true
   },
   "outputs": [],
   "source": [
    "#!sudo apt-get install libcurl4-openssl-dev\n",
    "#!sudo apt-get install libxml2-dev"
   ]
  },
  {
   "cell_type": "code",
   "execution_count": 32,
   "metadata": {
    "collapsed": false
   },
   "outputs": [
    {
     "name": "stderr",
     "output_type": "stream",
     "text": [
      "Installing package into ‘/home/andrew/R/x86_64-pc-linux-gnu-library/3.2’\n",
      "(as ‘lib’ is unspecified)\n"
     ]
    },
    {
     "name": "stdout",
     "output_type": "stream",
     "text": [
      "\n",
      "The downloaded source packages are in\n",
      "\t‘/tmp/RtmpZ7zWad/downloaded_packages’\n"
     ]
    }
   ],
   "source": [
    "#install.packages('png')\n",
    "#install.packages(\"rvest\")\n",
    "library(rvest)\n",
    "library(png)"
   ]
  },
  {
   "cell_type": "code",
   "execution_count": 4,
   "metadata": {
    "collapsed": true
   },
   "outputs": [],
   "source": [
    "YOUR_GITHUB_USERNAME = 'dkmehrmann'"
   ]
  },
  {
   "cell_type": "code",
   "execution_count": 6,
   "metadata": {
    "collapsed": false
   },
   "outputs": [],
   "source": [
    "url=sprintf('https://github.com/%s',YOUR_GITHUB_USERNAME)\n",
    "your_homepage <- read_html(url)"
   ]
  },
  {
   "cell_type": "markdown",
   "metadata": {},
   "source": [
    "I use Chrome as a browser, so these directions are Chrome-specific. I'm sure it wouldn't be much different in FireFox/Safari etc. To find an XPATH, open your GitHub home page and select something you'd like to scrape. Right click it and select inspect. Then right click the block of HTML that is highlighted in the developer console and select copy then XPATH."
   ]
  },
  {
   "cell_type": "code",
   "execution_count": null,
   "metadata": {
    "collapsed": true
   },
   "outputs": [],
   "source": [
    "XPATH <- '//*[@id=\"js-pjax-container\"]/div/div/div[1]/a/img'"
   ]
  },
  {
   "cell_type": "code",
   "execution_count": 20,
   "metadata": {
    "collapsed": false
   },
   "outputs": [],
   "source": [
    "your_avatar <- html_nodes(your_homepage, xpath=XPATH) %>%\n",
    "               html_attr(\"src\")"
   ]
  },
  {
   "cell_type": "code",
   "execution_count": 37,
   "metadata": {
    "collapsed": true
   },
   "outputs": [],
   "source": [
    "download.file(your_avatar,'avatar.png', mode = 'wb')"
   ]
  },
  {
   "cell_type": "code",
   "execution_count": 41,
   "metadata": {
    "collapsed": false
   },
   "outputs": [
    {
     "data": {
      "image/png": "[encoded data removed]",
      "image/svg+xml": [
       "<?xml version=\"1.0\" encoding=\"UTF-8\"?>\n",
       "<svg xmlns=\"http://www.w3.org/2000/svg\" xmlns:xlink=\"http://www.w3.org/1999/xlink\" width=\"504pt\" height=\"504pt\" viewBox=\"0 0 504 504\" version=\"1.1\">\n",
       "<defs>\n",
       "<clipPath id=\"clip1\">\n",
       "  <path d=\"M 74.398438 72.800781 L 458.398438 72.800781 L 458.398438 416.800781 L 74.398438 416.800781 Z M 74.398438 72.800781 \"/>\n",
       "</clipPath>\n",
       "<image id=\"image47\" width=\"420\" height=\"420\" xlink:href=\"data:image/png;base64,iVBORw0KGgoAAAANSUhEUgAAAaQAAAGkCAIAAADxLsZiAAAABmJLR0QA/wD/AP+gvaeTAAAFx0lEQVR4nO3X0W2DQBRFwRDRh9tDLgjRHh1sCekhslnsM9MA92N19FjGGD8A3+539gCAK4gdkCB2QILYAQliBySIHZAgdkCC2AEJYgckiB2QIHZAgtgBCWIHJIgdkCB2QILYAQliBySIHZAgdkCC2AEJYgckiB2QIHZAgtgBCWIHJIgdkCB2QILYAQliBySIHZAgdkCC2AEJYgckiB2QIHZAgtgBCWIHJIgdkCB2QILYAQliBySIHZAgdkCC2AEJYgckiB2QIHZAgtgBCWIHJIgdkCB2QILYAQliBySIHZAgdkCC2AEJYgckiB2QIHZAgtgBCWIHJIgdkCB2QILYAQliBySIHZAgdkCC2AEJYgckiB2QIHZAgtgBCWIHJIgdkCB2QILYAQliBySIHZAgdkCC2AEJYgckiB2QIHZAgtgBCWIHJIgdkCB2QILYAQliBySIHZAgdkCC2AEJYgckiB2QIHZAgtgBCWIHJIgdkCB2QILYAQliBySIHZAgdkCC2AEJ62VfOvfjsm/xb4/nNnvCK3l1H+GaV+eyAxLEDkgQOyBB7IAEsQMSxA5IEDsgQeyABLEDEsQOSBA7IEHsgASxAxLEDkgQOyBB7IAEsQMSxA5IEDsgQeyABLEDEsQOSBA7IEHsgASxAxLEDkgQOyBB7IAEsQMSxA5IEDsgQeyABLEDEsQOSBA7IEHsgASxAxLEDkgQOyBB7IAEsQMSxA5IEDsgQeyABLEDEsQOSBA7IEHsgASxAxLEDkgQOyBB7IAEsQMSxA5IEDsgQeyABLEDEsQOSBA7IEHsgASxAxLEDkgQOyBB7IAEsQMSxA5IEDsgQeyABLEDEtbZA7iXcz9mT4C3WMYYszd8Kl1gisdzmz3hI/mNBRLEDkgQOyBB7IAEsQMSxA5IEDsgQeyABLEDEsQOSBA7IEHsgASxAxLEDkgQOyBB7IAEsQMSxA5IEDsgQeyABLEDEsQOSBA7IEHsgASxAxLEDkgQOyBB7IAEsQMSxA5IEDsgQeyABLEDEsQOSBA7IEHsgASxAxLEDkgQOyBB7IAEsQMSxA5IEDsgQeyABLEDEsQOSBA7IEHsgASxAxLEDkgQOyBB7IAEsQMSxA5IEDsgQeyABLEDEsQOSBA7IEHsgASxAxLEDkgQOyBB7IAEsQMSxA5IEDsgQeyABLEDEtbZA7iXx3ObPeGVzv2YPYG7cNkBCWIHJIgdkCB2QILYAQliBySIHZAgdkCC2AEJYgckiB2QIHZAgtgBCWIHJIgdkCB2QILYAQliBySIHZAgdkCC2AEJYgckiB2QIHZAgtgBCWIHJIgdkCB2QILYAQliBySIHZAgdkCC2AEJYgckiB2QIHZAgtgBCWIHJIgdkCB2QILYAQliBySIHZAgdkCC2AEJYgckiB2QIHZAgtgBCWIHJIgdkCB2QILYAQliBySIHZAgdkCC2AEJYgckiB2QIHZAgtgBCWIHJIgdkCB2QILYAQliBySIHZAgdkDCOnsA93Lux+wJ8BYuOyBB7IAEsQMSxA5IEDsgQeyABLEDEsQOSBA7IEHsgASxAxLEDkgQOyBB7IAEsQMSxA5IEDsgQeyABLEDEsQOSBA7IEHsgASxAxLEDkgQOyBB7IAEsQMSxA5IEDsgQeyABLEDEsQOSBA7IEHsgASxAxLEDkgQOyBB7IAEsQMSxA5IEDsgQeyABLEDEsQOSBA7IEHsgASxAxLEDkgQOyBB7IAEsQMSxA5IEDsgQeyABLEDEsQOSBA7IEHsgASxAxLEDkgQOyBB7IAEsQMSxA5IEDsgQeyABLEDEsQOSBA7IEHsgIRljDF7A8DbueyABLEDEsQOSBA7IEHsgASxAxLEDkgQOyBB7IAEsQMSxA5IEDsgQeyABLEDEsQOSBA7IEHsgASxAxLEDkgQOyBB7IAEsQMSxA5IEDsgQeyABLEDEsQOSBA7IEHsgASxAxLEDkgQOyBB7ICEP60KG9yV2H5uAAAAAElFTkSuQmCC\"/>\n",
       "<pattern id=\"pattern0\" patternUnits=\"userSpaceOnUse\" width=\"420\" height=\"420\"  patternTransform=\"matrix(0.914286,0,0,0.819048,74.4,72.8)\">\n",
       "  <use xlink:href=\"#image47\"/>\n",
       "</pattern>\n",
       "</defs>\n",
       "<g id=\"surface43\">\n",
       "<rect x=\"0\" y=\"0\" width=\"504\" height=\"504\" style=\"fill:rgb(100%,100%,100%);fill-opacity:1;stroke:none;\"/>\n",
       "<g clip-path=\"url(#clip1)\" clip-rule=\"nonzero\">\n",
       "<rect x=\"0\" y=\"0\" width=\"504\" height=\"504\" style=\"fill:url(#pattern0);stroke:none;\"/>\n",
       "</g>\n",
       "</g>\n",
       "</svg>\n"
      ],
      "text/plain": [
       "plot without title"
      ]
     },
     "metadata": {
      "image/svg+xml": {
       "isolated": true
      }
     },
     "output_type": "display_data"
    }
   ],
   "source": [
    "jj <- readPNG(\"avatar.png\",native=TRUE)\n",
    "plot(0:1,0:1,type=\"n\",ann=FALSE,axes=FALSE)\n",
    "rasterImage(jj,0,0,1,1)"
   ]
  },
  {
   "cell_type": "markdown",
   "metadata": {},
   "source": [
    "## Making GitHub Avatars\n",
    "\n",
    "Just for fun, what if we wanted to make our own customized GitHub-style avatars? It turns out it is only a few lines of code!"
   ]
  },
  {
   "cell_type": "code",
   "execution_count": 123,
   "metadata": {
    "collapsed": true
   },
   "outputs": [],
   "source": [
    "avatar_ID <- 11"
   ]
  },
  {
   "cell_type": "code",
   "execution_count": 124,
   "metadata": {
    "collapsed": false
   },
   "outputs": [
    {
     "data": {
      "image/png": "[encoded data removed]",
      "image/svg+xml": [
       "<?xml version=\"1.0\" encoding=\"UTF-8\"?>\n",
       "<svg xmlns=\"http://www.w3.org/2000/svg\" xmlns:xlink=\"http://www.w3.org/1999/xlink\" width=\"504pt\" height=\"504pt\" viewBox=\"0 0 504 504\" version=\"1.1\">\n",
       "<defs>\n",
       "<g>\n",
       "<symbol overflow=\"visible\" id=\"glyph0-0\">\n",
       "<path style=\"stroke:none;\" d=\"\"/>\n",
       "</symbol>\n",
       "<symbol overflow=\"visible\" id=\"glyph0-1\">\n",
       "<path style=\"stroke:none;\" d=\"M 6.21875 -4.21875 C 6.21875 -7.171875 5.140625 -8.765625 3.296875 -8.765625 C 1.46875 -8.765625 0.375 -7.15625 0.375 -4.296875 C 0.375 -1.421875 1.46875 0.1875 3.296875 0.1875 C 5.09375 0.1875 6.21875 -1.421875 6.21875 -4.21875 Z M 4.859375 -4.3125 C 4.859375 -1.90625 4.453125 -0.953125 3.28125 -0.953125 C 2.15625 -0.953125 1.734375 -1.953125 1.734375 -4.28125 C 1.734375 -6.609375 2.15625 -7.578125 3.296875 -7.578125 C 4.4375 -7.578125 4.859375 -6.59375 4.859375 -4.3125 Z M 4.859375 -4.3125 \"/>\n",
       "</symbol>\n",
       "<symbol overflow=\"visible\" id=\"glyph0-2\">\n",
       "<path style=\"stroke:none;\" d=\"M 2.421875 -0.125 L 2.421875 -1.515625 L 0.90625 -1.515625 L 0.90625 0 L 2.421875 0 Z M 2.421875 -0.125 \"/>\n",
       "</symbol>\n",
       "<symbol overflow=\"visible\" id=\"glyph0-3\">\n",
       "<path style=\"stroke:none;\" d=\"M 6.265625 -6.140625 C 6.265625 -7.578125 5.015625 -8.765625 3.40625 -8.765625 C 1.671875 -8.765625 0.515625 -7.75 0.453125 -5.5625 L 1.78125 -5.5625 C 1.875 -7.109375 2.328125 -7.578125 3.375 -7.578125 C 4.328125 -7.578125 4.90625 -7.03125 4.90625 -6.125 C 4.90625 -5.453125 4.546875 -4.96875 3.796875 -4.53125 L 2.6875 -3.90625 C 0.90625 -2.90625 0.359375 -2 0.25 0 L 6.203125 0 L 6.203125 -1.3125 L 1.75 -1.3125 C 1.84375 -1.875 2.1875 -2.21875 3.234375 -2.828125 L 4.421875 -3.484375 C 5.609375 -4.109375 6.265625 -5.09375 6.265625 -6.140625 Z M 6.265625 -6.140625 \"/>\n",
       "</symbol>\n",
       "<symbol overflow=\"visible\" id=\"glyph0-4\">\n",
       "<path style=\"stroke:none;\" d=\"M 6.375 -2.171875 L 6.375 -3.25 L 5.109375 -3.25 L 5.109375 -8.765625 L 4.125 -8.765625 L 0.1875 -3.328125 L 0.1875 -2.046875 L 3.78125 -2.046875 L 3.78125 0 L 5.109375 0 L 5.109375 -2.046875 L 6.375 -2.046875 Z M 3.921875 -3.25 L 1.515625 -3.25 L 4.015625 -6.75 L 3.78125 -6.84375 L 3.78125 -3.25 Z M 3.921875 -3.25 \"/>\n",
       "</symbol>\n",
       "<symbol overflow=\"visible\" id=\"glyph0-5\">\n",
       "<path style=\"stroke:none;\" d=\"M 6.28125 -2.765625 C 6.28125 -4.359375 5.078125 -5.5625 3.546875 -5.5625 C 2.71875 -5.5625 1.9375 -5.203125 1.484375 -4.578125 L 1.734375 -4.46875 C 1.734375 -6.546875 2.28125 -7.578125 3.484375 -7.578125 C 4.234375 -7.578125 4.609375 -7.234375 4.796875 -6.28125 L 6.125 -6.28125 C 5.90625 -7.8125 4.859375 -8.765625 3.5625 -8.765625 C 1.578125 -8.765625 0.375 -6.96875 0.375 -4.015625 C 0.375 -1.359375 1.421875 0.1875 3.375 0.1875 C 4.984375 0.1875 6.28125 -1.109375 6.28125 -2.765625 Z M 4.9375 -2.6875 C 4.9375 -1.625 4.359375 -1.015625 3.390625 -1.015625 C 2.40625 -1.015625 1.78125 -1.65625 1.78125 -2.75 C 1.78125 -3.796875 2.375 -4.359375 3.421875 -4.359375 C 4.4375 -4.359375 4.9375 -3.828125 4.9375 -2.6875 Z M 4.9375 -2.6875 \"/>\n",
       "</symbol>\n",
       "<symbol overflow=\"visible\" id=\"glyph0-6\">\n",
       "<path style=\"stroke:none;\" d=\"M 6.28125 -2.53125 C 6.28125 -3.484375 5.671875 -4.265625 4.953125 -4.625 C 5.65625 -5.046875 5.984375 -5.5625 5.984375 -6.375 C 5.984375 -7.703125 4.8125 -8.765625 3.296875 -8.765625 C 1.796875 -8.765625 0.59375 -7.703125 0.59375 -6.375 C 0.59375 -5.578125 0.921875 -5.046875 1.625 -4.625 C 0.921875 -4.265625 0.296875 -3.484375 0.296875 -2.546875 C 0.296875 -0.984375 1.625 0.1875 3.296875 0.1875 C 4.984375 0.1875 6.28125 -0.984375 6.28125 -2.53125 Z M 4.625 -6.34375 C 4.625 -5.5625 4.1875 -5.15625 3.296875 -5.15625 C 2.40625 -5.15625 1.953125 -5.5625 1.953125 -6.359375 C 1.953125 -7.171875 2.40625 -7.578125 3.296875 -7.578125 C 4.203125 -7.578125 4.625 -7.171875 4.625 -6.34375 Z M 4.9375 -2.515625 C 4.9375 -1.515625 4.359375 -1.015625 3.28125 -1.015625 C 2.25 -1.015625 1.65625 -1.53125 1.65625 -2.515625 C 1.65625 -3.515625 2.25 -4.015625 3.296875 -4.015625 C 4.359375 -4.015625 4.9375 -3.515625 4.9375 -2.515625 Z M 4.9375 -2.515625 \"/>\n",
       "</symbol>\n",
       "<symbol overflow=\"visible\" id=\"glyph0-7\">\n",
       "<path style=\"stroke:none;\" d=\"M 4.296875 -0.125 L 4.296875 -8.765625 L 3.359375 -8.765625 C 2.953125 -7.328125 2.859375 -7.28125 1.078125 -7.0625 L 1.078125 -6.0625 L 2.96875 -6.0625 L 2.96875 0 L 4.296875 0 Z M 4.296875 -0.125 \"/>\n",
       "</symbol>\n",
       "<symbol overflow=\"visible\" id=\"glyph1-0\">\n",
       "<path style=\"stroke:none;\" d=\"\"/>\n",
       "</symbol>\n",
       "<symbol overflow=\"visible\" id=\"glyph1-1\">\n",
       "<path style=\"stroke:none;\" d=\"M -4.21875 -6.21875 C -7.171875 -6.21875 -8.765625 -5.140625 -8.765625 -3.296875 C -8.765625 -1.46875 -7.15625 -0.375 -4.296875 -0.375 C -1.421875 -0.375 0.1875 -1.46875 0.1875 -3.296875 C 0.1875 -5.09375 -1.421875 -6.21875 -4.21875 -6.21875 Z M -4.3125 -4.859375 C -1.90625 -4.859375 -0.953125 -4.453125 -0.953125 -3.28125 C -0.953125 -2.15625 -1.953125 -1.734375 -4.28125 -1.734375 C -6.609375 -1.734375 -7.578125 -2.15625 -7.578125 -3.296875 C -7.578125 -4.4375 -6.59375 -4.859375 -4.3125 -4.859375 Z M -4.3125 -4.859375 \"/>\n",
       "</symbol>\n",
       "<symbol overflow=\"visible\" id=\"glyph1-2\">\n",
       "<path style=\"stroke:none;\" d=\"M -0.125 -2.421875 L -1.515625 -2.421875 L -1.515625 -0.90625 L 0 -0.90625 L 0 -2.421875 Z M -0.125 -2.421875 \"/>\n",
       "</symbol>\n",
       "<symbol overflow=\"visible\" id=\"glyph1-3\">\n",
       "<path style=\"stroke:none;\" d=\"M -6.140625 -6.265625 C -7.578125 -6.265625 -8.765625 -5.015625 -8.765625 -3.40625 C -8.765625 -1.671875 -7.75 -0.515625 -5.5625 -0.453125 L -5.5625 -1.78125 C -7.109375 -1.875 -7.578125 -2.328125 -7.578125 -3.375 C -7.578125 -4.328125 -7.03125 -4.90625 -6.125 -4.90625 C -5.453125 -4.90625 -4.96875 -4.546875 -4.53125 -3.796875 L -3.90625 -2.6875 C -2.90625 -0.90625 -2 -0.359375 0 -0.25 L 0 -6.203125 L -1.3125 -6.203125 L -1.3125 -1.75 C -1.875 -1.84375 -2.21875 -2.1875 -2.828125 -3.234375 L -3.484375 -4.421875 C -4.109375 -5.609375 -5.09375 -6.265625 -6.140625 -6.265625 Z M -6.140625 -6.265625 \"/>\n",
       "</symbol>\n",
       "<symbol overflow=\"visible\" id=\"glyph1-4\">\n",
       "<path style=\"stroke:none;\" d=\"M -2.171875 -6.375 L -3.25 -6.375 L -3.25 -5.109375 L -8.765625 -5.109375 L -8.765625 -4.125 L -3.328125 -0.1875 L -2.046875 -0.1875 L -2.046875 -3.78125 L 0 -3.78125 L 0 -5.109375 L -2.046875 -5.109375 L -2.046875 -6.375 Z M -3.25 -3.921875 L -3.25 -1.515625 L -6.75 -4.015625 L -6.84375 -3.78125 L -3.25 -3.78125 Z M -3.25 -3.921875 \"/>\n",
       "</symbol>\n",
       "<symbol overflow=\"visible\" id=\"glyph1-5\">\n",
       "<path style=\"stroke:none;\" d=\"M -2.765625 -6.28125 C -4.359375 -6.28125 -5.5625 -5.078125 -5.5625 -3.546875 C -5.5625 -2.71875 -5.203125 -1.9375 -4.578125 -1.484375 L -4.46875 -1.734375 C -6.546875 -1.734375 -7.578125 -2.28125 -7.578125 -3.484375 C -7.578125 -4.234375 -7.234375 -4.609375 -6.28125 -4.796875 L -6.28125 -6.125 C -7.8125 -5.90625 -8.765625 -4.859375 -8.765625 -3.5625 C -8.765625 -1.578125 -6.96875 -0.375 -4.015625 -0.375 C -1.359375 -0.375 0.1875 -1.421875 0.1875 -3.375 C 0.1875 -4.984375 -1.109375 -6.28125 -2.765625 -6.28125 Z M -2.6875 -4.9375 C -1.625 -4.9375 -1.015625 -4.359375 -1.015625 -3.390625 C -1.015625 -2.40625 -1.65625 -1.78125 -2.75 -1.78125 C -3.796875 -1.78125 -4.359375 -2.375 -4.359375 -3.421875 C -4.359375 -4.4375 -3.828125 -4.9375 -2.6875 -4.9375 Z M -2.6875 -4.9375 \"/>\n",
       "</symbol>\n",
       "<symbol overflow=\"visible\" id=\"glyph1-6\">\n",
       "<path style=\"stroke:none;\" d=\"M -2.53125 -6.28125 C -3.484375 -6.28125 -4.265625 -5.671875 -4.625 -4.953125 C -5.046875 -5.65625 -5.5625 -5.984375 -6.375 -5.984375 C -7.703125 -5.984375 -8.765625 -4.8125 -8.765625 -3.296875 C -8.765625 -1.796875 -7.703125 -0.59375 -6.375 -0.59375 C -5.578125 -0.59375 -5.046875 -0.921875 -4.625 -1.625 C -4.265625 -0.921875 -3.484375 -0.296875 -2.546875 -0.296875 C -0.984375 -0.296875 0.1875 -1.625 0.1875 -3.296875 C 0.1875 -4.984375 -0.984375 -6.28125 -2.53125 -6.28125 Z M -6.34375 -4.625 C -5.5625 -4.625 -5.15625 -4.1875 -5.15625 -3.296875 C -5.15625 -2.40625 -5.5625 -1.953125 -6.359375 -1.953125 C -7.171875 -1.953125 -7.578125 -2.40625 -7.578125 -3.296875 C -7.578125 -4.203125 -7.171875 -4.625 -6.34375 -4.625 Z M -2.515625 -4.9375 C -1.515625 -4.9375 -1.015625 -4.359375 -1.015625 -3.28125 C -1.015625 -2.25 -1.53125 -1.65625 -2.515625 -1.65625 C -3.515625 -1.65625 -4.015625 -2.25 -4.015625 -3.296875 C -4.015625 -4.359375 -3.515625 -4.9375 -2.515625 -4.9375 Z M -2.515625 -4.9375 \"/>\n",
       "</symbol>\n",
       "<symbol overflow=\"visible\" id=\"glyph1-7\">\n",
       "<path style=\"stroke:none;\" d=\"M -0.125 -4.296875 L -8.765625 -4.296875 L -8.765625 -3.359375 C -7.328125 -2.953125 -7.28125 -2.859375 -7.0625 -1.078125 L -6.0625 -1.078125 L -6.0625 -2.96875 L 0 -2.96875 L 0 -4.296875 Z M -0.125 -4.296875 \"/>\n",
       "</symbol>\n",
       "</g>\n",
       "<clipPath id=\"clip1\">\n",
       "  <path d=\"M 59.039062 356 L 142 356 L 142 431 L 59.039062 431 Z M 59.039062 356 \"/>\n",
       "</clipPath>\n",
       "<clipPath id=\"clip2\">\n",
       "  <path d=\"M 59.039062 281 L 142 281 L 142 357 L 59.039062 357 Z M 59.039062 281 \"/>\n",
       "</clipPath>\n",
       "<clipPath id=\"clip3\">\n",
       "  <path d=\"M 59.039062 207 L 142 207 L 142 282 L 59.039062 282 Z M 59.039062 207 \"/>\n",
       "</clipPath>\n",
       "<clipPath id=\"clip4\">\n",
       "  <path d=\"M 59.039062 133 L 142 133 L 142 208 L 59.039062 208 Z M 59.039062 133 \"/>\n",
       "</clipPath>\n",
       "<clipPath id=\"clip5\">\n",
       "  <path d=\"M 59.039062 59.039062 L 142 59.039062 L 142 134 L 59.039062 134 Z M 59.039062 59.039062 \"/>\n",
       "</clipPath>\n",
       "<clipPath id=\"clip6\">\n",
       "  <path d=\"M 141 59.039062 L 225 59.039062 L 225 134 L 141 134 Z M 141 59.039062 \"/>\n",
       "</clipPath>\n",
       "<clipPath id=\"clip7\">\n",
       "  <path d=\"M 224 59.039062 L 308 59.039062 L 308 134 L 224 134 Z M 224 59.039062 \"/>\n",
       "</clipPath>\n",
       "<clipPath id=\"clip8\">\n",
       "  <path d=\"M 307 59.039062 L 391 59.039062 L 391 134 L 307 134 Z M 307 59.039062 \"/>\n",
       "</clipPath>\n",
       "<clipPath id=\"clip9\">\n",
       "  <path d=\"M 390 59.039062 L 474 59.039062 L 474 134 L 390 134 Z M 390 59.039062 \"/>\n",
       "</clipPath>\n",
       "</defs>\n",
       "<g id=\"surface1138\">\n",
       "<rect x=\"0\" y=\"0\" width=\"504\" height=\"504\" style=\"fill:rgb(100%,100%,100%);fill-opacity:1;stroke:none;\"/>\n",
       "<path style=\"fill:none;stroke-width:0.75;stroke-linecap:round;stroke-linejoin:round;stroke:rgb(0%,0%,0%);stroke-opacity:1;stroke-miterlimit:10;\" d=\"M 100.511719 430.558594 L 432.289062 430.558594 \"/>\n",
       "<path style=\"fill:none;stroke-width:0.75;stroke-linecap:round;stroke-linejoin:round;stroke:rgb(0%,0%,0%);stroke-opacity:1;stroke-miterlimit:10;\" d=\"M 100.511719 430.558594 L 100.511719 437.761719 \"/>\n",
       "<path style=\"fill:none;stroke-width:0.75;stroke-linecap:round;stroke-linejoin:round;stroke:rgb(0%,0%,0%);stroke-opacity:1;stroke-miterlimit:10;\" d=\"M 166.867188 430.558594 L 166.867188 437.761719 \"/>\n",
       "<path style=\"fill:none;stroke-width:0.75;stroke-linecap:round;stroke-linejoin:round;stroke:rgb(0%,0%,0%);stroke-opacity:1;stroke-miterlimit:10;\" d=\"M 233.222656 430.558594 L 233.222656 437.761719 \"/>\n",
       "<path style=\"fill:none;stroke-width:0.75;stroke-linecap:round;stroke-linejoin:round;stroke:rgb(0%,0%,0%);stroke-opacity:1;stroke-miterlimit:10;\" d=\"M 299.578125 430.558594 L 299.578125 437.761719 \"/>\n",
       "<path style=\"fill:none;stroke-width:0.75;stroke-linecap:round;stroke-linejoin:round;stroke:rgb(0%,0%,0%);stroke-opacity:1;stroke-miterlimit:10;\" d=\"M 365.933594 430.558594 L 365.933594 437.761719 \"/>\n",
       "<path style=\"fill:none;stroke-width:0.75;stroke-linecap:round;stroke-linejoin:round;stroke:rgb(0%,0%,0%);stroke-opacity:1;stroke-miterlimit:10;\" d=\"M 432.289062 430.558594 L 432.289062 437.761719 \"/>\n",
       "<g style=\"fill:rgb(0%,0%,0%);fill-opacity:1;\">\n",
       "  <use xlink:href=\"#glyph0-1\" x=\"92.011719\" y=\"456.256836\"/>\n",
       "  <use xlink:href=\"#glyph0-2\" x=\"98.683594\" y=\"456.256836\"/>\n",
       "  <use xlink:href=\"#glyph0-1\" x=\"102.019531\" y=\"456.256836\"/>\n",
       "</g>\n",
       "<g style=\"fill:rgb(0%,0%,0%);fill-opacity:1;\">\n",
       "  <use xlink:href=\"#glyph0-1\" x=\"158.367188\" y=\"456.256836\"/>\n",
       "  <use xlink:href=\"#glyph0-2\" x=\"165.039062\" y=\"456.256836\"/>\n",
       "  <use xlink:href=\"#glyph0-3\" x=\"168.375\" y=\"456.256836\"/>\n",
       "</g>\n",
       "<g style=\"fill:rgb(0%,0%,0%);fill-opacity:1;\">\n",
       "  <use xlink:href=\"#glyph0-1\" x=\"224.722656\" y=\"456.256836\"/>\n",
       "  <use xlink:href=\"#glyph0-2\" x=\"231.394531\" y=\"456.256836\"/>\n",
       "  <use xlink:href=\"#glyph0-4\" x=\"234.730469\" y=\"456.256836\"/>\n",
       "</g>\n",
       "<g style=\"fill:rgb(0%,0%,0%);fill-opacity:1;\">\n",
       "  <use xlink:href=\"#glyph0-1\" x=\"291.078125\" y=\"456.256836\"/>\n",
       "  <use xlink:href=\"#glyph0-2\" x=\"297.75\" y=\"456.256836\"/>\n",
       "  <use xlink:href=\"#glyph0-5\" x=\"301.085938\" y=\"456.256836\"/>\n",
       "</g>\n",
       "<g style=\"fill:rgb(0%,0%,0%);fill-opacity:1;\">\n",
       "  <use xlink:href=\"#glyph0-1\" x=\"357.433594\" y=\"456.256836\"/>\n",
       "  <use xlink:href=\"#glyph0-2\" x=\"364.105469\" y=\"456.256836\"/>\n",
       "  <use xlink:href=\"#glyph0-6\" x=\"367.441406\" y=\"456.256836\"/>\n",
       "</g>\n",
       "<g style=\"fill:rgb(0%,0%,0%);fill-opacity:1;\">\n",
       "  <use xlink:href=\"#glyph0-7\" x=\"423.789062\" y=\"456.256836\"/>\n",
       "  <use xlink:href=\"#glyph0-2\" x=\"430.460938\" y=\"456.256836\"/>\n",
       "  <use xlink:href=\"#glyph0-1\" x=\"433.796875\" y=\"456.256836\"/>\n",
       "</g>\n",
       "<path style=\"fill:none;stroke-width:0.75;stroke-linecap:round;stroke-linejoin:round;stroke:rgb(0%,0%,0%);stroke-opacity:1;stroke-miterlimit:10;\" d=\"M 59.039062 393.40625 L 59.039062 96.191406 \"/>\n",
       "<path style=\"fill:none;stroke-width:0.75;stroke-linecap:round;stroke-linejoin:round;stroke:rgb(0%,0%,0%);stroke-opacity:1;stroke-miterlimit:10;\" d=\"M 59.039062 393.40625 L 51.839844 393.40625 \"/>\n",
       "<path style=\"fill:none;stroke-width:0.75;stroke-linecap:round;stroke-linejoin:round;stroke:rgb(0%,0%,0%);stroke-opacity:1;stroke-miterlimit:10;\" d=\"M 59.039062 333.964844 L 51.839844 333.964844 \"/>\n",
       "<path style=\"fill:none;stroke-width:0.75;stroke-linecap:round;stroke-linejoin:round;stroke:rgb(0%,0%,0%);stroke-opacity:1;stroke-miterlimit:10;\" d=\"M 59.039062 274.523438 L 51.839844 274.523438 \"/>\n",
       "<path style=\"fill:none;stroke-width:0.75;stroke-linecap:round;stroke-linejoin:round;stroke:rgb(0%,0%,0%);stroke-opacity:1;stroke-miterlimit:10;\" d=\"M 59.039062 215.078125 L 51.839844 215.078125 \"/>\n",
       "<path style=\"fill:none;stroke-width:0.75;stroke-linecap:round;stroke-linejoin:round;stroke:rgb(0%,0%,0%);stroke-opacity:1;stroke-miterlimit:10;\" d=\"M 59.039062 155.636719 L 51.839844 155.636719 \"/>\n",
       "<path style=\"fill:none;stroke-width:0.75;stroke-linecap:round;stroke-linejoin:round;stroke:rgb(0%,0%,0%);stroke-opacity:1;stroke-miterlimit:10;\" d=\"M 59.039062 96.191406 L 51.839844 96.191406 \"/>\n",
       "<g style=\"fill:rgb(0%,0%,0%);fill-opacity:1;\">\n",
       "  <use xlink:href=\"#glyph1-1\" x=\"41.538086\" y=\"401.90625\"/>\n",
       "  <use xlink:href=\"#glyph1-2\" x=\"41.538086\" y=\"395.234375\"/>\n",
       "  <use xlink:href=\"#glyph1-1\" x=\"41.538086\" y=\"391.898438\"/>\n",
       "</g>\n",
       "<g style=\"fill:rgb(0%,0%,0%);fill-opacity:1;\">\n",
       "  <use xlink:href=\"#glyph1-1\" x=\"41.538086\" y=\"342.464844\"/>\n",
       "  <use xlink:href=\"#glyph1-2\" x=\"41.538086\" y=\"335.792969\"/>\n",
       "  <use xlink:href=\"#glyph1-3\" x=\"41.538086\" y=\"332.457031\"/>\n",
       "</g>\n",
       "<g style=\"fill:rgb(0%,0%,0%);fill-opacity:1;\">\n",
       "  <use xlink:href=\"#glyph1-1\" x=\"41.538086\" y=\"283.023438\"/>\n",
       "  <use xlink:href=\"#glyph1-2\" x=\"41.538086\" y=\"276.351562\"/>\n",
       "  <use xlink:href=\"#glyph1-4\" x=\"41.538086\" y=\"273.015625\"/>\n",
       "</g>\n",
       "<g style=\"fill:rgb(0%,0%,0%);fill-opacity:1;\">\n",
       "  <use xlink:href=\"#glyph1-1\" x=\"41.538086\" y=\"223.578125\"/>\n",
       "  <use xlink:href=\"#glyph1-2\" x=\"41.538086\" y=\"216.90625\"/>\n",
       "  <use xlink:href=\"#glyph1-5\" x=\"41.538086\" y=\"213.570312\"/>\n",
       "</g>\n",
       "<g style=\"fill:rgb(0%,0%,0%);fill-opacity:1;\">\n",
       "  <use xlink:href=\"#glyph1-1\" x=\"41.538086\" y=\"164.136719\"/>\n",
       "  <use xlink:href=\"#glyph1-2\" x=\"41.538086\" y=\"157.464844\"/>\n",
       "  <use xlink:href=\"#glyph1-6\" x=\"41.538086\" y=\"154.128906\"/>\n",
       "</g>\n",
       "<g style=\"fill:rgb(0%,0%,0%);fill-opacity:1;\">\n",
       "  <use xlink:href=\"#glyph1-7\" x=\"41.538086\" y=\"104.691406\"/>\n",
       "  <use xlink:href=\"#glyph1-2\" x=\"41.538086\" y=\"98.019531\"/>\n",
       "  <use xlink:href=\"#glyph1-1\" x=\"41.538086\" y=\"94.683594\"/>\n",
       "</g>\n",
       "<path style=\"fill:none;stroke-width:0.75;stroke-linecap:round;stroke-linejoin:round;stroke:rgb(0%,0%,0%);stroke-opacity:1;stroke-miterlimit:10;\" d=\"M 59.039062 430.558594 L 473.761719 430.558594 L 473.761719 59.039062 L 59.039062 59.039062 L 59.039062 430.558594 \"/>\n",
       "<g clip-path=\"url(#clip1)\" clip-rule=\"nonzero\">\n",
       "<path style=\" stroke:none;fill-rule:nonzero;fill:rgb(100%,0%,0%);fill-opacity:1;\" d=\"M 59.039062 430.558594 L 141.984375 430.558594 L 141.984375 356.253906 L 59.039062 356.253906 Z M 59.039062 430.558594 \"/>\n",
       "</g>\n",
       "<g clip-path=\"url(#clip2)\" clip-rule=\"nonzero\">\n",
       "<path style=\" stroke:none;fill-rule:nonzero;fill:rgb(100%,0%,0%);fill-opacity:1;\" d=\"M 59.039062 356.257812 L 141.984375 356.257812 L 141.984375 281.953125 L 59.039062 281.953125 Z M 59.039062 356.257812 \"/>\n",
       "</g>\n",
       "<g clip-path=\"url(#clip3)\" clip-rule=\"nonzero\">\n",
       "<path style=\" stroke:none;fill-rule:nonzero;fill:rgb(100%,100%,83.529412%);fill-opacity:1;\" d=\"M 59.039062 281.953125 L 141.984375 281.953125 L 141.984375 207.648438 L 59.039062 207.648438 Z M 59.039062 281.953125 \"/>\n",
       "</g>\n",
       "<g clip-path=\"url(#clip4)\" clip-rule=\"nonzero\">\n",
       "<path style=\" stroke:none;fill-rule:nonzero;fill:rgb(100%,0%,0%);fill-opacity:1;\" d=\"M 59.039062 207.648438 L 141.984375 207.648438 L 141.984375 133.34375 L 59.039062 133.34375 Z M 59.039062 207.648438 \"/>\n",
       "</g>\n",
       "<g clip-path=\"url(#clip5)\" clip-rule=\"nonzero\">\n",
       "<path style=\" stroke:none;fill-rule:nonzero;fill:rgb(100%,0%,0%);fill-opacity:1;\" d=\"M 59.039062 133.34375 L 141.984375 133.34375 L 141.984375 59.039062 L 59.039062 59.039062 Z M 59.039062 133.34375 \"/>\n",
       "</g>\n",
       "<path style=\" stroke:none;fill-rule:nonzero;fill:rgb(100%,100%,83.529412%);fill-opacity:1;\" d=\"M 141.984375 430.558594 L 224.929688 430.558594 L 224.929688 356.253906 L 141.984375 356.253906 Z M 141.984375 430.558594 \"/>\n",
       "<path style=\" stroke:none;fill-rule:nonzero;fill:rgb(100%,0%,0%);fill-opacity:1;\" d=\"M 141.984375 356.257812 L 224.929688 356.257812 L 224.929688 281.953125 L 141.984375 281.953125 Z M 141.984375 356.257812 \"/>\n",
       "<path style=\" stroke:none;fill-rule:nonzero;fill:rgb(100%,0%,0%);fill-opacity:1;\" d=\"M 141.984375 281.953125 L 224.929688 281.953125 L 224.929688 207.648438 L 141.984375 207.648438 Z M 141.984375 281.953125 \"/>\n",
       "<path style=\" stroke:none;fill-rule:nonzero;fill:rgb(100%,100%,83.529412%);fill-opacity:1;\" d=\"M 141.984375 207.648438 L 224.929688 207.648438 L 224.929688 133.34375 L 141.984375 133.34375 Z M 141.984375 207.648438 \"/>\n",
       "<g clip-path=\"url(#clip6)\" clip-rule=\"nonzero\">\n",
       "<path style=\" stroke:none;fill-rule:nonzero;fill:rgb(100%,0%,0%);fill-opacity:1;\" d=\"M 141.984375 133.34375 L 224.929688 133.34375 L 224.929688 59.039062 L 141.984375 59.039062 Z M 141.984375 133.34375 \"/>\n",
       "</g>\n",
       "<path style=\" stroke:none;fill-rule:nonzero;fill:rgb(100%,0%,0%);fill-opacity:1;\" d=\"M 224.929688 430.558594 L 307.875 430.558594 L 307.875 356.253906 L 224.929688 356.253906 Z M 224.929688 430.558594 \"/>\n",
       "<path style=\" stroke:none;fill-rule:nonzero;fill:rgb(100%,0%,0%);fill-opacity:1;\" d=\"M 224.929688 356.257812 L 307.875 356.257812 L 307.875 281.953125 L 224.929688 281.953125 Z M 224.929688 356.257812 \"/>\n",
       "<path style=\" stroke:none;fill-rule:nonzero;fill:rgb(100%,100%,83.529412%);fill-opacity:1;\" d=\"M 224.929688 281.953125 L 307.875 281.953125 L 307.875 207.648438 L 224.929688 207.648438 Z M 224.929688 281.953125 \"/>\n",
       "<path style=\" stroke:none;fill-rule:nonzero;fill:rgb(100%,100%,83.529412%);fill-opacity:1;\" d=\"M 224.929688 207.648438 L 307.875 207.648438 L 307.875 133.34375 L 224.929688 133.34375 Z M 224.929688 207.648438 \"/>\n",
       "<g clip-path=\"url(#clip7)\" clip-rule=\"nonzero\">\n",
       "<path style=\" stroke:none;fill-rule:nonzero;fill:rgb(100%,100%,83.529412%);fill-opacity:1;\" d=\"M 224.929688 133.34375 L 307.875 133.34375 L 307.875 59.039062 L 224.929688 59.039062 Z M 224.929688 133.34375 \"/>\n",
       "</g>\n",
       "<path style=\" stroke:none;fill-rule:nonzero;fill:rgb(100%,100%,83.529412%);fill-opacity:1;\" d=\"M 307.871094 430.558594 L 390.816406 430.558594 L 390.816406 356.253906 L 307.871094 356.253906 Z M 307.871094 430.558594 \"/>\n",
       "<path style=\" stroke:none;fill-rule:nonzero;fill:rgb(100%,0%,0%);fill-opacity:1;\" d=\"M 307.871094 356.257812 L 390.816406 356.257812 L 390.816406 281.953125 L 307.871094 281.953125 Z M 307.871094 356.257812 \"/>\n",
       "<path style=\" stroke:none;fill-rule:nonzero;fill:rgb(100%,0%,0%);fill-opacity:1;\" d=\"M 307.871094 281.953125 L 390.816406 281.953125 L 390.816406 207.648438 L 307.871094 207.648438 Z M 307.871094 281.953125 \"/>\n",
       "<path style=\" stroke:none;fill-rule:nonzero;fill:rgb(100%,100%,83.529412%);fill-opacity:1;\" d=\"M 307.871094 207.648438 L 390.816406 207.648438 L 390.816406 133.34375 L 307.871094 133.34375 Z M 307.871094 207.648438 \"/>\n",
       "<g clip-path=\"url(#clip8)\" clip-rule=\"nonzero\">\n",
       "<path style=\" stroke:none;fill-rule:nonzero;fill:rgb(100%,0%,0%);fill-opacity:1;\" d=\"M 307.871094 133.34375 L 390.816406 133.34375 L 390.816406 59.039062 L 307.871094 59.039062 Z M 307.871094 133.34375 \"/>\n",
       "</g>\n",
       "<path style=\" stroke:none;fill-rule:nonzero;fill:rgb(100%,0%,0%);fill-opacity:1;\" d=\"M 390.816406 430.558594 L 473.761719 430.558594 L 473.761719 356.253906 L 390.816406 356.253906 Z M 390.816406 430.558594 \"/>\n",
       "<path style=\" stroke:none;fill-rule:nonzero;fill:rgb(100%,0%,0%);fill-opacity:1;\" d=\"M 390.816406 356.257812 L 473.761719 356.257812 L 473.761719 281.953125 L 390.816406 281.953125 Z M 390.816406 356.257812 \"/>\n",
       "<path style=\" stroke:none;fill-rule:nonzero;fill:rgb(100%,100%,83.529412%);fill-opacity:1;\" d=\"M 390.816406 281.953125 L 473.761719 281.953125 L 473.761719 207.648438 L 390.816406 207.648438 Z M 390.816406 281.953125 \"/>\n",
       "<path style=\" stroke:none;fill-rule:nonzero;fill:rgb(100%,0%,0%);fill-opacity:1;\" d=\"M 390.816406 207.648438 L 473.761719 207.648438 L 473.761719 133.34375 L 390.816406 133.34375 Z M 390.816406 207.648438 \"/>\n",
       "<g clip-path=\"url(#clip9)\" clip-rule=\"nonzero\">\n",
       "<path style=\" stroke:none;fill-rule:nonzero;fill:rgb(100%,0%,0%);fill-opacity:1;\" d=\"M 390.816406 133.34375 L 473.761719 133.34375 L 473.761719 59.039062 L 390.816406 59.039062 Z M 390.816406 133.34375 \"/>\n",
       "</g>\n",
       "</g>\n",
       "</svg>\n"
      ],
      "text/plain": [
       "plot without title"
      ]
     },
     "metadata": {
      "image/svg+xml": {
       "isolated": true
      }
     },
     "output_type": "display_data"
    }
   ],
   "source": [
    "### the random part is a 3x5 matrix\n",
    "### this code will just repeat columns 1 and 2 in columns 4 and 5\n",
    "### we'll fix that later\n",
    "set.seed(avatar_ID)\n",
    "g <- matrix(sample(0:1, 15, replace=T),nrow=5,ncol=5)\n",
    "\n",
    "# we need to reflect this over the third column\n",
    "g[,c(4,5)]<- g[,c(5,4)]\n",
    "\n",
    "# if we don't transpose it will show up sideways\n",
    "image(t(g))"
   ]
  },
  {
   "cell_type": "code",
   "execution_count": 125,
   "metadata": {
    "collapsed": false
   },
   "outputs": [
    {
     "data": {
      "image/png": "[encoded data removed]",
      "image/svg+xml": [
       "<?xml version=\"1.0\" encoding=\"UTF-8\"?>\n",
       "<svg xmlns=\"http://www.w3.org/2000/svg\" xmlns:xlink=\"http://www.w3.org/1999/xlink\" width=\"504pt\" height=\"504pt\" viewBox=\"0 0 504 504\" version=\"1.1\">\n",
       "<defs>\n",
       "<clipPath id=\"clip1\">\n",
       "  <path d=\"M 59.039062 356 L 142 356 L 142 431 L 59.039062 431 Z M 59.039062 356 \"/>\n",
       "</clipPath>\n",
       "<clipPath id=\"clip2\">\n",
       "  <path d=\"M 59.039062 281 L 142 281 L 142 357 L 59.039062 357 Z M 59.039062 281 \"/>\n",
       "</clipPath>\n",
       "<clipPath id=\"clip3\">\n",
       "  <path d=\"M 59.039062 207 L 142 207 L 142 282 L 59.039062 282 Z M 59.039062 207 \"/>\n",
       "</clipPath>\n",
       "<clipPath id=\"clip4\">\n",
       "  <path d=\"M 59.039062 133 L 142 133 L 142 208 L 59.039062 208 Z M 59.039062 133 \"/>\n",
       "</clipPath>\n",
       "<clipPath id=\"clip5\">\n",
       "  <path d=\"M 59.039062 59.039062 L 142 59.039062 L 142 134 L 59.039062 134 Z M 59.039062 59.039062 \"/>\n",
       "</clipPath>\n",
       "<clipPath id=\"clip6\">\n",
       "  <path d=\"M 141 59.039062 L 225 59.039062 L 225 134 L 141 134 Z M 141 59.039062 \"/>\n",
       "</clipPath>\n",
       "<clipPath id=\"clip7\">\n",
       "  <path d=\"M 224 59.039062 L 308 59.039062 L 308 134 L 224 134 Z M 224 59.039062 \"/>\n",
       "</clipPath>\n",
       "<clipPath id=\"clip8\">\n",
       "  <path d=\"M 307 59.039062 L 391 59.039062 L 391 134 L 307 134 Z M 307 59.039062 \"/>\n",
       "</clipPath>\n",
       "<clipPath id=\"clip9\">\n",
       "  <path d=\"M 390 59.039062 L 474 59.039062 L 474 134 L 390 134 Z M 390 59.039062 \"/>\n",
       "</clipPath>\n",
       "</defs>\n",
       "<g id=\"surface1144\">\n",
       "<rect x=\"0\" y=\"0\" width=\"504\" height=\"504\" style=\"fill:rgb(100%,100%,100%);fill-opacity:1;stroke:none;\"/>\n",
       "<g clip-path=\"url(#clip1)\" clip-rule=\"nonzero\">\n",
       "<path style=\" stroke:none;fill-rule:nonzero;fill:rgb(44.705882%,56.078431%,80.784314%);fill-opacity:1;\" d=\"M 59.039062 430.558594 L 141.984375 430.558594 L 141.984375 356.253906 L 59.039062 356.253906 Z M 59.039062 430.558594 \"/>\n",
       "</g>\n",
       "<g clip-path=\"url(#clip2)\" clip-rule=\"nonzero\">\n",
       "<path style=\" stroke:none;fill-rule:nonzero;fill:rgb(44.705882%,56.078431%,80.784314%);fill-opacity:1;\" d=\"M 59.039062 356.257812 L 141.984375 356.257812 L 141.984375 281.953125 L 59.039062 281.953125 Z M 59.039062 356.257812 \"/>\n",
       "</g>\n",
       "<g clip-path=\"url(#clip3)\" clip-rule=\"nonzero\">\n",
       "<path style=\" stroke:none;fill-rule:nonzero;fill:rgb(81.960784%,81.568627%,80.784314%);fill-opacity:1;\" d=\"M 59.039062 281.953125 L 141.984375 281.953125 L 141.984375 207.648438 L 59.039062 207.648438 Z M 59.039062 281.953125 \"/>\n",
       "</g>\n",
       "<g clip-path=\"url(#clip4)\" clip-rule=\"nonzero\">\n",
       "<path style=\" stroke:none;fill-rule:nonzero;fill:rgb(44.705882%,56.078431%,80.784314%);fill-opacity:1;\" d=\"M 59.039062 207.648438 L 141.984375 207.648438 L 141.984375 133.34375 L 59.039062 133.34375 Z M 59.039062 207.648438 \"/>\n",
       "</g>\n",
       "<g clip-path=\"url(#clip5)\" clip-rule=\"nonzero\">\n",
       "<path style=\" stroke:none;fill-rule:nonzero;fill:rgb(44.705882%,56.078431%,80.784314%);fill-opacity:1;\" d=\"M 59.039062 133.34375 L 141.984375 133.34375 L 141.984375 59.039062 L 59.039062 59.039062 Z M 59.039062 133.34375 \"/>\n",
       "</g>\n",
       "<path style=\" stroke:none;fill-rule:nonzero;fill:rgb(81.960784%,81.568627%,80.784314%);fill-opacity:1;\" d=\"M 141.984375 430.558594 L 224.929688 430.558594 L 224.929688 356.253906 L 141.984375 356.253906 Z M 141.984375 430.558594 \"/>\n",
       "<path style=\" stroke:none;fill-rule:nonzero;fill:rgb(44.705882%,56.078431%,80.784314%);fill-opacity:1;\" d=\"M 141.984375 356.257812 L 224.929688 356.257812 L 224.929688 281.953125 L 141.984375 281.953125 Z M 141.984375 356.257812 \"/>\n",
       "<path style=\" stroke:none;fill-rule:nonzero;fill:rgb(44.705882%,56.078431%,80.784314%);fill-opacity:1;\" d=\"M 141.984375 281.953125 L 224.929688 281.953125 L 224.929688 207.648438 L 141.984375 207.648438 Z M 141.984375 281.953125 \"/>\n",
       "<path style=\" stroke:none;fill-rule:nonzero;fill:rgb(81.960784%,81.568627%,80.784314%);fill-opacity:1;\" d=\"M 141.984375 207.648438 L 224.929688 207.648438 L 224.929688 133.34375 L 141.984375 133.34375 Z M 141.984375 207.648438 \"/>\n",
       "<g clip-path=\"url(#clip6)\" clip-rule=\"nonzero\">\n",
       "<path style=\" stroke:none;fill-rule:nonzero;fill:rgb(44.705882%,56.078431%,80.784314%);fill-opacity:1;\" d=\"M 141.984375 133.34375 L 224.929688 133.34375 L 224.929688 59.039062 L 141.984375 59.039062 Z M 141.984375 133.34375 \"/>\n",
       "</g>\n",
       "<path style=\" stroke:none;fill-rule:nonzero;fill:rgb(44.705882%,56.078431%,80.784314%);fill-opacity:1;\" d=\"M 224.929688 430.558594 L 307.875 430.558594 L 307.875 356.253906 L 224.929688 356.253906 Z M 224.929688 430.558594 \"/>\n",
       "<path style=\" stroke:none;fill-rule:nonzero;fill:rgb(44.705882%,56.078431%,80.784314%);fill-opacity:1;\" d=\"M 224.929688 356.257812 L 307.875 356.257812 L 307.875 281.953125 L 224.929688 281.953125 Z M 224.929688 356.257812 \"/>\n",
       "<path style=\" stroke:none;fill-rule:nonzero;fill:rgb(81.960784%,81.568627%,80.784314%);fill-opacity:1;\" d=\"M 224.929688 281.953125 L 307.875 281.953125 L 307.875 207.648438 L 224.929688 207.648438 Z M 224.929688 281.953125 \"/>\n",
       "<path style=\" stroke:none;fill-rule:nonzero;fill:rgb(81.960784%,81.568627%,80.784314%);fill-opacity:1;\" d=\"M 224.929688 207.648438 L 307.875 207.648438 L 307.875 133.34375 L 224.929688 133.34375 Z M 224.929688 207.648438 \"/>\n",
       "<g clip-path=\"url(#clip7)\" clip-rule=\"nonzero\">\n",
       "<path style=\" stroke:none;fill-rule:nonzero;fill:rgb(81.960784%,81.568627%,80.784314%);fill-opacity:1;\" d=\"M 224.929688 133.34375 L 307.875 133.34375 L 307.875 59.039062 L 224.929688 59.039062 Z M 224.929688 133.34375 \"/>\n",
       "</g>\n",
       "<path style=\" stroke:none;fill-rule:nonzero;fill:rgb(81.960784%,81.568627%,80.784314%);fill-opacity:1;\" d=\"M 307.871094 430.558594 L 390.816406 430.558594 L 390.816406 356.253906 L 307.871094 356.253906 Z M 307.871094 430.558594 \"/>\n",
       "<path style=\" stroke:none;fill-rule:nonzero;fill:rgb(44.705882%,56.078431%,80.784314%);fill-opacity:1;\" d=\"M 307.871094 356.257812 L 390.816406 356.257812 L 390.816406 281.953125 L 307.871094 281.953125 Z M 307.871094 356.257812 \"/>\n",
       "<path style=\" stroke:none;fill-rule:nonzero;fill:rgb(44.705882%,56.078431%,80.784314%);fill-opacity:1;\" d=\"M 307.871094 281.953125 L 390.816406 281.953125 L 390.816406 207.648438 L 307.871094 207.648438 Z M 307.871094 281.953125 \"/>\n",
       "<path style=\" stroke:none;fill-rule:nonzero;fill:rgb(81.960784%,81.568627%,80.784314%);fill-opacity:1;\" d=\"M 307.871094 207.648438 L 390.816406 207.648438 L 390.816406 133.34375 L 307.871094 133.34375 Z M 307.871094 207.648438 \"/>\n",
       "<g clip-path=\"url(#clip8)\" clip-rule=\"nonzero\">\n",
       "<path style=\" stroke:none;fill-rule:nonzero;fill:rgb(44.705882%,56.078431%,80.784314%);fill-opacity:1;\" d=\"M 307.871094 133.34375 L 390.816406 133.34375 L 390.816406 59.039062 L 307.871094 59.039062 Z M 307.871094 133.34375 \"/>\n",
       "</g>\n",
       "<path style=\" stroke:none;fill-rule:nonzero;fill:rgb(44.705882%,56.078431%,80.784314%);fill-opacity:1;\" d=\"M 390.816406 430.558594 L 473.761719 430.558594 L 473.761719 356.253906 L 390.816406 356.253906 Z M 390.816406 430.558594 \"/>\n",
       "<path style=\" stroke:none;fill-rule:nonzero;fill:rgb(44.705882%,56.078431%,80.784314%);fill-opacity:1;\" d=\"M 390.816406 356.257812 L 473.761719 356.257812 L 473.761719 281.953125 L 390.816406 281.953125 Z M 390.816406 356.257812 \"/>\n",
       "<path style=\" stroke:none;fill-rule:nonzero;fill:rgb(81.960784%,81.568627%,80.784314%);fill-opacity:1;\" d=\"M 390.816406 281.953125 L 473.761719 281.953125 L 473.761719 207.648438 L 390.816406 207.648438 Z M 390.816406 281.953125 \"/>\n",
       "<path style=\" stroke:none;fill-rule:nonzero;fill:rgb(44.705882%,56.078431%,80.784314%);fill-opacity:1;\" d=\"M 390.816406 207.648438 L 473.761719 207.648438 L 473.761719 133.34375 L 390.816406 133.34375 Z M 390.816406 207.648438 \"/>\n",
       "<g clip-path=\"url(#clip9)\" clip-rule=\"nonzero\">\n",
       "<path style=\" stroke:none;fill-rule:nonzero;fill:rgb(44.705882%,56.078431%,80.784314%);fill-opacity:1;\" d=\"M 390.816406 133.34375 L 473.761719 133.34375 L 473.761719 59.039062 L 390.816406 59.039062 Z M 390.816406 133.34375 \"/>\n",
       "</g>\n",
       "</g>\n",
       "</svg>\n"
      ],
      "text/plain": [
       "plot without title"
      ]
     },
     "metadata": {
      "image/svg+xml": {
       "isolated": true
      }
     },
     "output_type": "display_data"
    }
   ],
   "source": [
    "HTML1 <- \"#728FCE\"\n",
    "HTML2 <- \"#D1D0CE\"\n",
    "\n",
    "cols <- c(HTML1, HTML2)\n",
    "image(t(g),col=cols, axes=F)"
   ]
  },
  {
   "cell_type": "code",
   "execution_count": 126,
   "metadata": {
    "collapsed": false
   },
   "outputs": [
    {
     "data": {
      "image/png": "[encoded data removed]",
      "image/svg+xml": [
       "<?xml version=\"1.0\" encoding=\"UTF-8\"?>\n",
       "<svg xmlns=\"http://www.w3.org/2000/svg\" xmlns:xlink=\"http://www.w3.org/1999/xlink\" width=\"504pt\" height=\"504pt\" viewBox=\"0 0 504 504\" version=\"1.1\">\n",
       "<defs>\n",
       "<clipPath id=\"clip1\">\n",
       "  <path d=\"M 59.039062 356 L 142 356 L 142 431 L 59.039062 431 Z M 59.039062 356 \"/>\n",
       "</clipPath>\n",
       "<clipPath id=\"clip2\">\n",
       "  <path d=\"M 59.039062 281 L 142 281 L 142 357 L 59.039062 357 Z M 59.039062 281 \"/>\n",
       "</clipPath>\n",
       "<clipPath id=\"clip3\">\n",
       "  <path d=\"M 59.039062 207 L 142 207 L 142 282 L 59.039062 282 Z M 59.039062 207 \"/>\n",
       "</clipPath>\n",
       "<clipPath id=\"clip4\">\n",
       "  <path d=\"M 59.039062 133 L 142 133 L 142 208 L 59.039062 208 Z M 59.039062 133 \"/>\n",
       "</clipPath>\n",
       "<clipPath id=\"clip5\">\n",
       "  <path d=\"M 59.039062 59.039062 L 142 59.039062 L 142 134 L 59.039062 134 Z M 59.039062 59.039062 \"/>\n",
       "</clipPath>\n",
       "<clipPath id=\"clip6\">\n",
       "  <path d=\"M 141 59.039062 L 225 59.039062 L 225 134 L 141 134 Z M 141 59.039062 \"/>\n",
       "</clipPath>\n",
       "<clipPath id=\"clip7\">\n",
       "  <path d=\"M 224 59.039062 L 308 59.039062 L 308 134 L 224 134 Z M 224 59.039062 \"/>\n",
       "</clipPath>\n",
       "<clipPath id=\"clip8\">\n",
       "  <path d=\"M 307 59.039062 L 391 59.039062 L 391 134 L 307 134 Z M 307 59.039062 \"/>\n",
       "</clipPath>\n",
       "<clipPath id=\"clip9\">\n",
       "  <path d=\"M 390 59.039062 L 474 59.039062 L 474 134 L 390 134 Z M 390 59.039062 \"/>\n",
       "</clipPath>\n",
       "</defs>\n",
       "<g id=\"surface1150\">\n",
       "<rect x=\"0\" y=\"0\" width=\"504\" height=\"504\" style=\"fill:rgb(100%,100%,100%);fill-opacity:1;stroke:none;\"/>\n",
       "<g clip-path=\"url(#clip1)\" clip-rule=\"nonzero\">\n",
       "<path style=\" stroke:none;fill-rule:nonzero;fill:rgb(44.705882%,56.078431%,80.784314%);fill-opacity:1;\" d=\"M 59.039062 430.558594 L 141.984375 430.558594 L 141.984375 356.253906 L 59.039062 356.253906 Z M 59.039062 430.558594 \"/>\n",
       "</g>\n",
       "<g clip-path=\"url(#clip2)\" clip-rule=\"nonzero\">\n",
       "<path style=\" stroke:none;fill-rule:nonzero;fill:rgb(44.705882%,56.078431%,80.784314%);fill-opacity:1;\" d=\"M 59.039062 356.257812 L 141.984375 356.257812 L 141.984375 281.953125 L 59.039062 281.953125 Z M 59.039062 356.257812 \"/>\n",
       "</g>\n",
       "<g clip-path=\"url(#clip3)\" clip-rule=\"nonzero\">\n",
       "<path style=\" stroke:none;fill-rule:nonzero;fill:rgb(81.960784%,81.568627%,80.784314%);fill-opacity:1;\" d=\"M 59.039062 281.953125 L 141.984375 281.953125 L 141.984375 207.648438 L 59.039062 207.648438 Z M 59.039062 281.953125 \"/>\n",
       "</g>\n",
       "<g clip-path=\"url(#clip4)\" clip-rule=\"nonzero\">\n",
       "<path style=\" stroke:none;fill-rule:nonzero;fill:rgb(44.705882%,56.078431%,80.784314%);fill-opacity:1;\" d=\"M 59.039062 207.648438 L 141.984375 207.648438 L 141.984375 133.34375 L 59.039062 133.34375 Z M 59.039062 207.648438 \"/>\n",
       "</g>\n",
       "<g clip-path=\"url(#clip5)\" clip-rule=\"nonzero\">\n",
       "<path style=\" stroke:none;fill-rule:nonzero;fill:rgb(44.705882%,56.078431%,80.784314%);fill-opacity:1;\" d=\"M 59.039062 133.34375 L 141.984375 133.34375 L 141.984375 59.039062 L 59.039062 59.039062 Z M 59.039062 133.34375 \"/>\n",
       "</g>\n",
       "<path style=\" stroke:none;fill-rule:nonzero;fill:rgb(81.960784%,81.568627%,80.784314%);fill-opacity:1;\" d=\"M 141.984375 430.558594 L 224.929688 430.558594 L 224.929688 356.253906 L 141.984375 356.253906 Z M 141.984375 430.558594 \"/>\n",
       "<path style=\" stroke:none;fill-rule:nonzero;fill:rgb(44.705882%,56.078431%,80.784314%);fill-opacity:1;\" d=\"M 141.984375 356.257812 L 224.929688 356.257812 L 224.929688 281.953125 L 141.984375 281.953125 Z M 141.984375 356.257812 \"/>\n",
       "<path style=\" stroke:none;fill-rule:nonzero;fill:rgb(44.705882%,56.078431%,80.784314%);fill-opacity:1;\" d=\"M 141.984375 281.953125 L 224.929688 281.953125 L 224.929688 207.648438 L 141.984375 207.648438 Z M 141.984375 281.953125 \"/>\n",
       "<path style=\" stroke:none;fill-rule:nonzero;fill:rgb(81.960784%,81.568627%,80.784314%);fill-opacity:1;\" d=\"M 141.984375 207.648438 L 224.929688 207.648438 L 224.929688 133.34375 L 141.984375 133.34375 Z M 141.984375 207.648438 \"/>\n",
       "<g clip-path=\"url(#clip6)\" clip-rule=\"nonzero\">\n",
       "<path style=\" stroke:none;fill-rule:nonzero;fill:rgb(44.705882%,56.078431%,80.784314%);fill-opacity:1;\" d=\"M 141.984375 133.34375 L 224.929688 133.34375 L 224.929688 59.039062 L 141.984375 59.039062 Z M 141.984375 133.34375 \"/>\n",
       "</g>\n",
       "<path style=\" stroke:none;fill-rule:nonzero;fill:rgb(44.705882%,56.078431%,80.784314%);fill-opacity:1;\" d=\"M 224.929688 430.558594 L 307.875 430.558594 L 307.875 356.253906 L 224.929688 356.253906 Z M 224.929688 430.558594 \"/>\n",
       "<path style=\" stroke:none;fill-rule:nonzero;fill:rgb(44.705882%,56.078431%,80.784314%);fill-opacity:1;\" d=\"M 224.929688 356.257812 L 307.875 356.257812 L 307.875 281.953125 L 224.929688 281.953125 Z M 224.929688 356.257812 \"/>\n",
       "<path style=\" stroke:none;fill-rule:nonzero;fill:rgb(81.960784%,81.568627%,80.784314%);fill-opacity:1;\" d=\"M 224.929688 281.953125 L 307.875 281.953125 L 307.875 207.648438 L 224.929688 207.648438 Z M 224.929688 281.953125 \"/>\n",
       "<path style=\" stroke:none;fill-rule:nonzero;fill:rgb(81.960784%,81.568627%,80.784314%);fill-opacity:1;\" d=\"M 224.929688 207.648438 L 307.875 207.648438 L 307.875 133.34375 L 224.929688 133.34375 Z M 224.929688 207.648438 \"/>\n",
       "<g clip-path=\"url(#clip7)\" clip-rule=\"nonzero\">\n",
       "<path style=\" stroke:none;fill-rule:nonzero;fill:rgb(81.960784%,81.568627%,80.784314%);fill-opacity:1;\" d=\"M 224.929688 133.34375 L 307.875 133.34375 L 307.875 59.039062 L 224.929688 59.039062 Z M 224.929688 133.34375 \"/>\n",
       "</g>\n",
       "<path style=\" stroke:none;fill-rule:nonzero;fill:rgb(81.960784%,81.568627%,80.784314%);fill-opacity:1;\" d=\"M 307.871094 430.558594 L 390.816406 430.558594 L 390.816406 356.253906 L 307.871094 356.253906 Z M 307.871094 430.558594 \"/>\n",
       "<path style=\" stroke:none;fill-rule:nonzero;fill:rgb(44.705882%,56.078431%,80.784314%);fill-opacity:1;\" d=\"M 307.871094 356.257812 L 390.816406 356.257812 L 390.816406 281.953125 L 307.871094 281.953125 Z M 307.871094 356.257812 \"/>\n",
       "<path style=\" stroke:none;fill-rule:nonzero;fill:rgb(44.705882%,56.078431%,80.784314%);fill-opacity:1;\" d=\"M 307.871094 281.953125 L 390.816406 281.953125 L 390.816406 207.648438 L 307.871094 207.648438 Z M 307.871094 281.953125 \"/>\n",
       "<path style=\" stroke:none;fill-rule:nonzero;fill:rgb(81.960784%,81.568627%,80.784314%);fill-opacity:1;\" d=\"M 307.871094 207.648438 L 390.816406 207.648438 L 390.816406 133.34375 L 307.871094 133.34375 Z M 307.871094 207.648438 \"/>\n",
       "<g clip-path=\"url(#clip8)\" clip-rule=\"nonzero\">\n",
       "<path style=\" stroke:none;fill-rule:nonzero;fill:rgb(44.705882%,56.078431%,80.784314%);fill-opacity:1;\" d=\"M 307.871094 133.34375 L 390.816406 133.34375 L 390.816406 59.039062 L 307.871094 59.039062 Z M 307.871094 133.34375 \"/>\n",
       "</g>\n",
       "<path style=\" stroke:none;fill-rule:nonzero;fill:rgb(44.705882%,56.078431%,80.784314%);fill-opacity:1;\" d=\"M 390.816406 430.558594 L 473.761719 430.558594 L 473.761719 356.253906 L 390.816406 356.253906 Z M 390.816406 430.558594 \"/>\n",
       "<path style=\" stroke:none;fill-rule:nonzero;fill:rgb(44.705882%,56.078431%,80.784314%);fill-opacity:1;\" d=\"M 390.816406 356.257812 L 473.761719 356.257812 L 473.761719 281.953125 L 390.816406 281.953125 Z M 390.816406 356.257812 \"/>\n",
       "<path style=\" stroke:none;fill-rule:nonzero;fill:rgb(81.960784%,81.568627%,80.784314%);fill-opacity:1;\" d=\"M 390.816406 281.953125 L 473.761719 281.953125 L 473.761719 207.648438 L 390.816406 207.648438 Z M 390.816406 281.953125 \"/>\n",
       "<path style=\" stroke:none;fill-rule:nonzero;fill:rgb(44.705882%,56.078431%,80.784314%);fill-opacity:1;\" d=\"M 390.816406 207.648438 L 473.761719 207.648438 L 473.761719 133.34375 L 390.816406 133.34375 Z M 390.816406 207.648438 \"/>\n",
       "<g clip-path=\"url(#clip9)\" clip-rule=\"nonzero\">\n",
       "<path style=\" stroke:none;fill-rule:nonzero;fill:rgb(44.705882%,56.078431%,80.784314%);fill-opacity:1;\" d=\"M 390.816406 133.34375 L 473.761719 133.34375 L 473.761719 59.039062 L 390.816406 59.039062 Z M 390.816406 133.34375 \"/>\n",
       "</g>\n",
       "<path style=\"fill:none;stroke-width:3.75;stroke-linecap:round;stroke-linejoin:round;stroke:rgb(100%,100%,100%);stroke-opacity:1;stroke-miterlimit:10;\" d=\"M 104.808594 387.632812 L 162.570312 310.019531 \"/>\n",
       "<path style=\"fill:none;stroke-width:3.75;stroke-linecap:round;stroke-linejoin:round;stroke:rgb(100%,100%,100%);stroke-opacity:1;stroke-miterlimit:10;\" d=\"M 170.375 297.957031 L 229.714844 191.644531 \"/>\n",
       "<path style=\"fill:none;stroke-width:3.75;stroke-linecap:round;stroke-linejoin:round;stroke:rgb(100%,100%,100%);stroke-opacity:1;stroke-miterlimit:10;\" d=\"M 239.792969 188.300781 L 293.007812 212.136719 \"/>\n",
       "<path style=\"fill:none;stroke-width:3.75;stroke-linecap:round;stroke-linejoin:round;stroke:rgb(100%,100%,100%);stroke-opacity:1;stroke-miterlimit:10;\" d=\"M 306.148438 212.136719 L 359.363281 188.300781 \"/>\n",
       "<path style=\"fill:none;stroke-width:3.75;stroke-linecap:round;stroke-linejoin:round;stroke:rgb(100%,100%,100%);stroke-opacity:1;stroke-miterlimit:10;\" d=\"M 368.121094 192.214844 L 430.101562 386.546875 \"/>\n",
       "<path style=\"fill:none;stroke-width:3.75;stroke-linecap:round;stroke-linejoin:round;stroke:rgb(100%,100%,100%);stroke-opacity:1;stroke-miterlimit:10;\" d=\"M 103.210938 393.40625 C 103.210938 397.007812 97.8125 397.007812 97.8125 393.40625 C 97.8125 389.808594 103.210938 389.808594 103.210938 393.40625 \"/>\n",
       "<path style=\"fill:none;stroke-width:3.75;stroke-linecap:round;stroke-linejoin:round;stroke:rgb(100%,100%,100%);stroke-opacity:1;stroke-miterlimit:10;\" d=\"M 169.566406 304.242188 C 169.566406 307.84375 164.167969 307.84375 164.167969 304.242188 C 164.167969 300.644531 169.566406 300.644531 169.566406 304.242188 \"/>\n",
       "<path style=\"fill:none;stroke-width:3.75;stroke-linecap:round;stroke-linejoin:round;stroke:rgb(100%,100%,100%);stroke-opacity:1;stroke-miterlimit:10;\" d=\"M 235.921875 185.355469 C 235.921875 188.957031 230.523438 188.957031 230.523438 185.355469 C 230.523438 181.757812 235.921875 181.757812 235.921875 185.355469 \"/>\n",
       "<path style=\"fill:none;stroke-width:3.75;stroke-linecap:round;stroke-linejoin:round;stroke:rgb(100%,100%,100%);stroke-opacity:1;stroke-miterlimit:10;\" d=\"M 302.277344 215.078125 C 302.277344 218.679688 296.878906 218.679688 296.878906 215.078125 C 296.878906 211.476562 302.277344 211.476562 302.277344 215.078125 \"/>\n",
       "<path style=\"fill:none;stroke-width:3.75;stroke-linecap:round;stroke-linejoin:round;stroke:rgb(100%,100%,100%);stroke-opacity:1;stroke-miterlimit:10;\" d=\"M 368.632812 185.355469 C 368.632812 188.957031 363.234375 188.957031 363.234375 185.355469 C 363.234375 181.757812 368.632812 181.757812 368.632812 185.355469 \"/>\n",
       "<path style=\"fill:none;stroke-width:3.75;stroke-linecap:round;stroke-linejoin:round;stroke:rgb(100%,100%,100%);stroke-opacity:1;stroke-miterlimit:10;\" d=\"M 434.988281 393.40625 C 434.988281 397.007812 429.589844 397.007812 429.589844 393.40625 C 429.589844 389.808594 434.988281 389.808594 434.988281 393.40625 \"/>\n",
       "</g>\n",
       "</svg>\n"
      ],
      "text/plain": [
       "plot without title"
      ]
     },
     "metadata": {
      "image/svg+xml": {
       "isolated": true
      }
     },
     "output_type": "display_data"
    }
   ],
   "source": [
    "image(t(g),col=cols,axes=F)\n",
    "lines(c(0, .2, .4, .6, .8, 1.0), c(0, .3, .7, .6, .7, 0), type=\"b\", lwd=5, col=\"white\")"
   ]
  },
  {
   "cell_type": "code",
   "execution_count": null,
   "metadata": {
    "collapsed": true
   },
   "outputs": [],
   "source": []
  }
 ],
 "metadata": {
  "kernelspec": {
   "display_name": "R",
   "language": "R",
   "name": "ir"
  },
  "language_info": {
   "codemirror_mode": "r",
   "file_extension": ".r",
   "mimetype": "text/x-r-source",
   "name": "R",
   "pygments_lexer": "r",
   "version": "3.2.3"
  }
 },
 "nbformat": 4,
 "nbformat_minor": 0
}
